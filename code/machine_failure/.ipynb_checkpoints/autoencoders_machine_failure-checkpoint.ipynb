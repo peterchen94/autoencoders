{
 "cells": [
  {
   "cell_type": "code",
   "execution_count": 1,
   "metadata": {},
   "outputs": [
    {
     "name": "stderr",
     "output_type": "stream",
     "text": [
      "Using TensorFlow backend.\n"
     ]
    }
   ],
   "source": [
    "import pandas as pd\n",
    "import numpy as np\n",
    "import matplotlib.pyplot as plt\n",
    "import os\n",
    "import sys\n",
    "import seaborn as sns\n",
    "from sklearn.preprocessing import StandardScaler, MinMaxScaler\n",
    "from sklearn.model_selection import train_test_split\n",
    "from keras.layers import Input,Dense, Dropout\n",
    "from keras.models import Model,Sequential\n",
    "from sklearn.metrics import roc_curve, auc\n",
    "from sklearn.manifold import TSNE\n",
    "from sklearn.cluster import KMeans\n",
    "from sklearn.metrics import adjusted_mutual_info_score,adjusted_rand_score,v_measure_score, completeness_score, homogeneity_score, silhouette_score,roc_curve, auc, f1_score, precision_recall_curve, precision_score,recall_score,accuracy_score,confusion_matrix\n",
    "sys.path.append('/Users/chenpete/Documents/ESP/practicum/autoencoders/code/')\n",
    "from sklearn.neighbors import BallTree\n",
    "from utils import * \n",
    "from sklearn.linear_model import LogisticRegression\n"
   ]
  },
  {
   "cell_type": "code",
   "execution_count": 2,
   "metadata": {},
   "outputs": [],
   "source": [
    "DATA_DIR = '/Users/PeterC/Documents/gt/practicum/autoencoders/data/'\n",
    "DATA_DIR = '/Users/chenpete/Documents/ESP/practicum/autoencoders/data/'\n",
    "\n",
    "non_scale_cols = ['Date','y_early','y_rank','y']\n",
    "param_cols = [\n",
    "        'Temperature', 'Humidity','Measure1', 'Measure2',\n",
    "       'Measure3', 'Measure4', 'Measure5', 'Measure6', 'Measure7', 'Measure8',\n",
    "       'Measure9', 'Measure10', 'Measure11', 'Measure12', 'Measure13',\n",
    "       'Measure14', 'Measure15']\n",
    "\n",
    "y_col = 'y_early'\n",
    "early_step = 0\n",
    "\n",
    "df = pd.read_csv(DATA_DIR + 'machine_failures.csv')\n",
    "df['y'] = df['Failure']\n",
    "df['y'] = np.where(df['y'] =='No',0,1)\n",
    "\n",
    "X_train, X_test, y_train, y_test, y_rank_train, y_rank_test = preprocess_data(df,param_cols,y_col, non_scale_cols,early_step)"
   ]
  },
  {
   "cell_type": "code",
   "execution_count": 3,
   "metadata": {},
   "outputs": [
    {
     "data": {
      "text/plain": [
       "0    7832\n",
       "Name: y_early, dtype: int64"
      ]
     },
     "execution_count": 3,
     "metadata": {},
     "output_type": "execute_result"
    }
   ],
   "source": [
    "y_train.value_counts()"
   ]
  },
  {
   "cell_type": "code",
   "execution_count": 4,
   "metadata": {},
   "outputs": [
    {
     "data": {
      "text/plain": [
       "0    871\n",
       "1     81\n",
       "Name: y_early, dtype: int64"
      ]
     },
     "execution_count": 4,
     "metadata": {},
     "output_type": "execute_result"
    }
   ],
   "source": [
    "y_test.value_counts()"
   ]
  },
  {
   "cell_type": "code",
   "execution_count": 5,
   "metadata": {},
   "outputs": [
    {
     "data": {
      "text/plain": [
       "0    871\n",
       "1     81\n",
       "Name: y_rank, dtype: int64"
      ]
     },
     "execution_count": 5,
     "metadata": {},
     "output_type": "execute_result"
    }
   ],
   "source": [
    "y_rank_test.value_counts()"
   ]
  },
  {
   "cell_type": "code",
   "execution_count": 6,
   "metadata": {},
   "outputs": [
    {
     "data": {
      "text/plain": [
       "(7832, 17)"
      ]
     },
     "execution_count": 6,
     "metadata": {},
     "output_type": "execute_result"
    }
   ],
   "source": [
    "X_train.shape"
   ]
  },
  {
   "cell_type": "markdown",
   "metadata": {},
   "source": [
    "# Model 1: Layer autoencoder"
   ]
  },
  {
   "cell_type": "code",
   "execution_count": 7,
   "metadata": {},
   "outputs": [
    {
     "name": "stdout",
     "output_type": "stream",
     "text": [
      "WARNING:tensorflow:From /Users/chenpete/Documents/code/DL/dlenv/lib/python3.7/site-packages/tensorflow/python/framework/op_def_library.py:263: colocate_with (from tensorflow.python.framework.ops) is deprecated and will be removed in a future version.\n",
      "Instructions for updating:\n",
      "Colocations handled automatically by placer.\n",
      "_________________________________________________________________\n",
      "Layer (type)                 Output Shape              Param #   \n",
      "=================================================================\n",
      "dense_1 (Dense)              (None, 15)                270       \n",
      "_________________________________________________________________\n",
      "dense_2 (Dense)              (None, 12)                192       \n",
      "_________________________________________________________________\n",
      "dense_3 (Dense)              (None, 15)                195       \n",
      "_________________________________________________________________\n",
      "dense_4 (Dense)              (None, 17)                272       \n",
      "=================================================================\n",
      "Total params: 929\n",
      "Trainable params: 929\n",
      "Non-trainable params: 0\n",
      "_________________________________________________________________\n"
     ]
    }
   ],
   "source": [
    "model = simple_ann_autoencoder_regression(param_cols,15,12,15)\n",
    "model.summary()"
   ]
  },
  {
   "cell_type": "code",
   "execution_count": 8,
   "metadata": {},
   "outputs": [
    {
     "name": "stdout",
     "output_type": "stream",
     "text": [
      "WARNING:tensorflow:From /Users/chenpete/Documents/code/DL/dlenv/lib/python3.7/site-packages/tensorflow/python/ops/math_ops.py:3066: to_int32 (from tensorflow.python.ops.math_ops) is deprecated and will be removed in a future version.\n",
      "Instructions for updating:\n",
      "Use tf.cast instead.\n",
      "Epoch 1/100\n",
      "7832/7832 [==============================] - 0s 48us/step - loss: 0.9132\n",
      "Epoch 2/100\n",
      "7832/7832 [==============================] - 0s 23us/step - loss: 0.6641\n",
      "Epoch 3/100\n",
      "7832/7832 [==============================] - 0s 23us/step - loss: 0.5336\n",
      "Epoch 4/100\n",
      "7832/7832 [==============================] - 0s 23us/step - loss: 0.4746\n",
      "Epoch 5/100\n",
      "7832/7832 [==============================] - 0s 23us/step - loss: 0.4183\n",
      "Epoch 6/100\n",
      "7832/7832 [==============================] - 0s 23us/step - loss: 0.3852\n",
      "Epoch 7/100\n",
      "7832/7832 [==============================] - 0s 24us/step - loss: 0.3671\n",
      "Epoch 8/100\n",
      "7832/7832 [==============================] - 0s 23us/step - loss: 0.3583\n",
      "Epoch 9/100\n",
      "7832/7832 [==============================] - 0s 23us/step - loss: 0.3540\n",
      "Epoch 10/100\n",
      "7832/7832 [==============================] - 0s 23us/step - loss: 0.3514\n",
      "Epoch 11/100\n",
      "7832/7832 [==============================] - 0s 23us/step - loss: 0.3494\n",
      "Epoch 12/100\n",
      "7832/7832 [==============================] - 0s 23us/step - loss: 0.3484\n",
      "Epoch 13/100\n",
      "7832/7832 [==============================] - 0s 23us/step - loss: 0.3474\n",
      "Epoch 14/100\n",
      "7832/7832 [==============================] - 0s 23us/step - loss: 0.3470\n",
      "Epoch 15/100\n",
      "7832/7832 [==============================] - 0s 23us/step - loss: 0.3458\n",
      "Epoch 16/100\n",
      "7832/7832 [==============================] - 0s 23us/step - loss: 0.3453\n",
      "Epoch 17/100\n",
      "7832/7832 [==============================] - 0s 24us/step - loss: 0.3447\n",
      "Epoch 18/100\n",
      "7832/7832 [==============================] - 0s 25us/step - loss: 0.3442\n",
      "Epoch 19/100\n",
      "7832/7832 [==============================] - 0s 24us/step - loss: 0.3439\n",
      "Epoch 20/100\n",
      "7832/7832 [==============================] - 0s 23us/step - loss: 0.3435\n",
      "Epoch 21/100\n",
      "7832/7832 [==============================] - 0s 23us/step - loss: 0.3426\n",
      "Epoch 22/100\n",
      "7832/7832 [==============================] - 0s 23us/step - loss: 0.3421\n",
      "Epoch 23/100\n",
      "7832/7832 [==============================] - 0s 24us/step - loss: 0.3420\n",
      "Epoch 24/100\n",
      "7832/7832 [==============================] - 0s 24us/step - loss: 0.3419\n",
      "Epoch 25/100\n",
      "7832/7832 [==============================] - 0s 24us/step - loss: 0.3414\n",
      "Epoch 26/100\n",
      "7832/7832 [==============================] - 0s 24us/step - loss: 0.3414\n",
      "Epoch 27/100\n",
      "7832/7832 [==============================] - 0s 24us/step - loss: 0.3408\n",
      "Epoch 28/100\n",
      "7832/7832 [==============================] - 0s 24us/step - loss: 0.3403\n",
      "Epoch 29/100\n",
      "7832/7832 [==============================] - 0s 24us/step - loss: 0.3401\n",
      "Epoch 30/100\n",
      "7832/7832 [==============================] - 0s 23us/step - loss: 0.3397\n",
      "Epoch 31/100\n",
      "7832/7832 [==============================] - 0s 24us/step - loss: 0.3396\n",
      "Epoch 32/100\n",
      "7832/7832 [==============================] - 0s 24us/step - loss: 0.3393\n",
      "Epoch 33/100\n",
      "7832/7832 [==============================] - 0s 24us/step - loss: 0.3389\n",
      "Epoch 34/100\n",
      "7832/7832 [==============================] - 0s 24us/step - loss: 0.3390\n",
      "Epoch 35/100\n",
      "7832/7832 [==============================] - 0s 24us/step - loss: 0.3385\n",
      "Epoch 36/100\n",
      "7832/7832 [==============================] - 0s 24us/step - loss: 0.3383\n",
      "Epoch 37/100\n",
      "7832/7832 [==============================] - 0s 24us/step - loss: 0.3381\n",
      "Epoch 38/100\n",
      "7832/7832 [==============================] - 0s 24us/step - loss: 0.3375\n",
      "Epoch 39/100\n",
      "7832/7832 [==============================] - 0s 24us/step - loss: 0.3378\n",
      "Epoch 40/100\n",
      "7832/7832 [==============================] - 0s 24us/step - loss: 0.3381\n",
      "Epoch 41/100\n",
      "7832/7832 [==============================] - 0s 24us/step - loss: 0.3374\n",
      "Epoch 42/100\n",
      "7832/7832 [==============================] - 0s 24us/step - loss: 0.3375\n",
      "Epoch 43/100\n",
      "7832/7832 [==============================] - 0s 24us/step - loss: 0.3374\n",
      "Epoch 44/100\n",
      "7832/7832 [==============================] - 0s 24us/step - loss: 0.3371\n",
      "Epoch 45/100\n",
      "7832/7832 [==============================] - 0s 24us/step - loss: 0.3369\n",
      "Epoch 46/100\n",
      "7832/7832 [==============================] - 0s 24us/step - loss: 0.3369\n",
      "Epoch 47/100\n",
      "7832/7832 [==============================] - 0s 24us/step - loss: 0.3370\n",
      "Epoch 48/100\n",
      "7832/7832 [==============================] - 0s 24us/step - loss: 0.3363\n",
      "Epoch 49/100\n",
      "7832/7832 [==============================] - 0s 24us/step - loss: 0.3363\n",
      "Epoch 50/100\n",
      "7832/7832 [==============================] - 0s 24us/step - loss: 0.3366\n",
      "Epoch 51/100\n",
      "7832/7832 [==============================] - 0s 24us/step - loss: 0.3359\n",
      "Epoch 52/100\n",
      "7832/7832 [==============================] - 0s 24us/step - loss: 0.3360\n",
      "Epoch 53/100\n",
      "7832/7832 [==============================] - 0s 24us/step - loss: 0.3365\n",
      "Epoch 54/100\n",
      "7832/7832 [==============================] - 0s 23us/step - loss: 0.3363\n",
      "Epoch 55/100\n",
      "7832/7832 [==============================] - 0s 23us/step - loss: 0.3359\n",
      "Epoch 56/100\n",
      "7832/7832 [==============================] - 0s 24us/step - loss: 0.3358\n",
      "Epoch 57/100\n",
      "7832/7832 [==============================] - 0s 24us/step - loss: 0.3357\n",
      "Epoch 58/100\n",
      "7832/7832 [==============================] - 0s 24us/step - loss: 0.3353\n",
      "Epoch 59/100\n",
      "7832/7832 [==============================] - 0s 24us/step - loss: 0.3356\n",
      "Epoch 60/100\n",
      "7832/7832 [==============================] - 0s 25us/step - loss: 0.3351\n",
      "Epoch 61/100\n",
      "7832/7832 [==============================] - 0s 24us/step - loss: 0.3352\n",
      "Epoch 62/100\n",
      "7832/7832 [==============================] - 0s 24us/step - loss: 0.3352\n",
      "Epoch 63/100\n",
      "7832/7832 [==============================] - 0s 26us/step - loss: 0.3351\n",
      "Epoch 64/100\n",
      "7832/7832 [==============================] - 0s 25us/step - loss: 0.3346\n",
      "Epoch 65/100\n",
      "7832/7832 [==============================] - 0s 25us/step - loss: 0.3348\n",
      "Epoch 66/100\n",
      "7832/7832 [==============================] - 0s 25us/step - loss: 0.3345\n",
      "Epoch 67/100\n",
      "7832/7832 [==============================] - 0s 30us/step - loss: 0.3346\n",
      "Epoch 68/100\n",
      "7832/7832 [==============================] - 0s 27us/step - loss: 0.3347\n",
      "Epoch 69/100\n",
      "7832/7832 [==============================] - 0s 24us/step - loss: 0.3344\n",
      "Epoch 70/100\n",
      "7832/7832 [==============================] - 0s 24us/step - loss: 0.3345\n",
      "Epoch 71/100\n",
      "7832/7832 [==============================] - 0s 24us/step - loss: 0.3339\n",
      "Epoch 72/100\n",
      "7832/7832 [==============================] - 0s 24us/step - loss: 0.3345\n",
      "Epoch 73/100\n",
      "7832/7832 [==============================] - 0s 25us/step - loss: 0.3340\n",
      "Epoch 74/100\n",
      "7832/7832 [==============================] - 0s 25us/step - loss: 0.3336\n",
      "Epoch 75/100\n",
      "7832/7832 [==============================] - 0s 26us/step - loss: 0.3338\n",
      "Epoch 76/100\n",
      "7832/7832 [==============================] - 0s 24us/step - loss: 0.3336\n",
      "Epoch 77/100\n",
      "7832/7832 [==============================] - 0s 25us/step - loss: 0.3332\n",
      "Epoch 78/100\n",
      "7832/7832 [==============================] - 0s 24us/step - loss: 0.3333\n",
      "Epoch 79/100\n",
      "7832/7832 [==============================] - 0s 24us/step - loss: 0.3332\n",
      "Epoch 80/100\n",
      "7832/7832 [==============================] - 0s 26us/step - loss: 0.3331\n",
      "Epoch 81/100\n",
      "7832/7832 [==============================] - 0s 24us/step - loss: 0.3334\n",
      "Epoch 82/100\n",
      "7832/7832 [==============================] - 0s 24us/step - loss: 0.3328\n",
      "Epoch 83/100\n",
      "7832/7832 [==============================] - 0s 25us/step - loss: 0.3332\n",
      "Epoch 84/100\n",
      "7832/7832 [==============================] - 0s 24us/step - loss: 0.3331\n",
      "Epoch 85/100\n",
      "7832/7832 [==============================] - 0s 24us/step - loss: 0.3332\n",
      "Epoch 86/100\n",
      "7832/7832 [==============================] - 0s 24us/step - loss: 0.3326\n",
      "Epoch 87/100\n",
      "7832/7832 [==============================] - 0s 24us/step - loss: 0.3328\n",
      "Epoch 88/100\n",
      "7832/7832 [==============================] - 0s 24us/step - loss: 0.3324\n",
      "Epoch 89/100\n",
      "7832/7832 [==============================] - 0s 24us/step - loss: 0.3328\n",
      "Epoch 90/100\n",
      "7832/7832 [==============================] - 0s 24us/step - loss: 0.3326\n",
      "Epoch 91/100\n",
      "7832/7832 [==============================] - 0s 24us/step - loss: 0.3326\n",
      "Epoch 92/100\n",
      "7832/7832 [==============================] - 0s 24us/step - loss: 0.3323\n",
      "Epoch 93/100\n",
      "7832/7832 [==============================] - 0s 24us/step - loss: 0.3324\n",
      "Epoch 94/100\n",
      "7832/7832 [==============================] - 0s 24us/step - loss: 0.3325\n",
      "Epoch 95/100\n",
      "7832/7832 [==============================] - 0s 24us/step - loss: 0.3325\n",
      "Epoch 96/100\n",
      "7832/7832 [==============================] - 0s 24us/step - loss: 0.3323\n",
      "Epoch 97/100\n",
      "7832/7832 [==============================] - 0s 24us/step - loss: 0.3321\n",
      "Epoch 98/100\n",
      "7832/7832 [==============================] - 0s 23us/step - loss: 0.3322\n",
      "Epoch 99/100\n",
      "7832/7832 [==============================] - 0s 24us/step - loss: 0.3321\n",
      "Epoch 100/100\n",
      "7832/7832 [==============================] - 0s 24us/step - loss: 0.3323\n"
     ]
    }
   ],
   "source": [
    "history_callback = model.fit(X_train,X_train,epochs=100,batch_size = 32)\n",
    "loss_history = history_callback.history['loss']"
   ]
  },
  {
   "cell_type": "code",
   "execution_count": 9,
   "metadata": {},
   "outputs": [],
   "source": [
    "#model.save('autoencoder_32_16_32_machine_failure.h5')"
   ]
  },
  {
   "cell_type": "code",
   "execution_count": 10,
   "metadata": {},
   "outputs": [
    {
     "data": {
      "text/plain": [
       "Text(0.5, 1.0, 'loss history')"
      ]
     },
     "execution_count": 10,
     "metadata": {},
     "output_type": "execute_result"
    },
    {
     "data": {
      "image/png": "[encoded data removed]",
      "text/plain": [
       "<Figure size 432x288 with 1 Axes>"
      ]
     },
     "metadata": {
      "needs_background": "light"
     },
     "output_type": "display_data"
    }
   ],
   "source": [
    "plt.plot(loss_history)\n",
    "plt.title('loss history')"
   ]
  },
  {
   "cell_type": "code",
   "execution_count": 11,
   "metadata": {},
   "outputs": [],
   "source": [
    "X_pred_test = model.predict(X_test)\n",
    "\n",
    "X_pred_train = model.predict(X_train)\n",
    "\n",
    "df_results_test = results_df(X_test,X_pred_test,y_test,y_rank_test)\n",
    "df_results_train = results_df(X_train,X_pred_train,y_train,y_rank_train)"
   ]
  },
  {
   "cell_type": "code",
   "execution_count": 12,
   "metadata": {},
   "outputs": [],
   "source": [
    "res_nominal_train = df_results_train[df_results_train['y'] == 0]['residual_avg']\n",
    "\n",
    "average_res_nominal_train = np.mean(res_nominal_train)\n",
    "std_res_nominal_train = np.std(res_nominal_train)\n",
    "threshold_3s = average_res_nominal_train + 3*std_res_nominal_train\n",
    "threshold_5s = average_res_nominal_train + 5*std_res_nominal_train\n",
    "threshold_max = np.max(res_nominal_train)\n",
    "\n",
    "threshold_list = [('3s',threshold_3s),('5s',threshold_5s),('max',threshold_max)]"
   ]
  },
  {
   "cell_type": "markdown",
   "metadata": {},
   "source": [
    "### Training residuals"
   ]
  },
  {
   "cell_type": "code",
   "execution_count": 13,
   "metadata": {},
   "outputs": [
    {
     "data": {
      "text/plain": [
       "(0, 1)"
      ]
     },
     "execution_count": 13,
     "metadata": {},
     "output_type": "execute_result"
    },
    {
     "data": {
      "image/png": "[encoded data removed]",
      "text/plain": [
       "<Figure size 432x288 with 1 Axes>"
      ]
     },
     "metadata": {
      "needs_background": "light"
     },
     "output_type": "display_data"
    }
   ],
   "source": [
    "plt.figure()\n",
    "sns.distplot(df_results_train['residual_avg'],norm_hist=True,kde=False,color='blue')\n",
    "plt.xlim((0,1))"
   ]
  },
  {
   "cell_type": "code",
   "execution_count": 14,
   "metadata": {},
   "outputs": [
    {
     "name": "stdout",
     "output_type": "stream",
     "text": [
      "\n",
      "------------------ early time step of 1----------------------------\n"
     ]
    },
    {
     "data": {
      "image/png": "[encoded data removed]",
      "text/plain": [
       "<Figure size 432x288 with 1 Axes>"
      ]
     },
     "metadata": {
      "needs_background": "light"
     },
     "output_type": "display_data"
    },
    {
     "data": {
      "image/png": "[encoded data removed]",
      "text/plain": [
       "<Figure size 432x288 with 1 Axes>"
      ]
     },
     "metadata": {
      "needs_background": "light"
     },
     "output_type": "display_data"
    },
    {
     "name": "stdout",
     "output_type": "stream",
     "text": [
      "\n",
      "\n",
      "------ Using threshold 3s---------------\n",
      "accuracy = 0.905\n",
      "precision = 0.000\n",
      "recall = 0.000\n",
      "f1 = 0.000\n",
      "\n",
      "\n",
      "------ Using threshold 5s---------------\n",
      "accuracy = 0.913\n",
      "precision = 0.000\n",
      "recall = 0.000\n",
      "f1 = 0.000\n",
      "\n",
      "\n",
      "------ Using threshold max---------------\n",
      "accuracy = 0.915\n",
      "precision = 0.000\n",
      "recall = 0.000\n",
      "f1 = 0.000\n"
     ]
    },
    {
     "name": "stderr",
     "output_type": "stream",
     "text": [
      "/Users/chenpete/Documents/code/DL/dlenv/lib/python3.7/site-packages/sklearn/metrics/classification.py:1437: UndefinedMetricWarning: Precision is ill-defined and being set to 0.0 due to no predicted samples.\n",
      "  'precision', 'predicted', average, warn_for)\n",
      "/Users/chenpete/Documents/code/DL/dlenv/lib/python3.7/site-packages/sklearn/metrics/classification.py:1437: UndefinedMetricWarning: F-score is ill-defined and being set to 0.0 due to no predicted samples.\n",
      "  'precision', 'predicted', average, warn_for)\n"
     ]
    }
   ],
   "source": [
    "for rank in range(1,np.max(df_results_test['y_rank'])+1):\n",
    "    \n",
    "    print('\\n------------------ early time step of {}----------------------------'.format(rank))\n",
    "    \n",
    "    df_results_rank= df_results_test[(df_results_test['y_rank']==rank) | (df_results_test['y_rank']==0)]\n",
    "    res_nominal_test = df_results_rank[df_results_rank['y'] == 0]['residual_avg']\n",
    "    res_failures_test = df_results_rank[df_results_rank['y_rank'] == rank]['residual_avg']\n",
    "    \n",
    "    plt.figure()\n",
    "    sns.distplot(res_failures_test,norm_hist=True,kde=False,color='red')\n",
    "    sns.distplot(res_nominal_test,norm_hist=True,kde=False,color='blue')\n",
    "    plt.legend(['failure residuals','non failure residuals'])\n",
    "    plt.title('distribution of average residuals')\n",
    "\n",
    "    y_true = np.array(df_results_rank['y'])\n",
    "    y_pred_proba = np.array(df_results_rank['residual_avg']/np.max(df_results_rank['residual_avg']))\n",
    "\n",
    "    plot_roc(y_true,y_pred_proba)\n",
    "    \n",
    "    for name,threshold in threshold_list:\n",
    "        print('\\n\\n------ Using threshold {}---------------'.format(name))\n",
    "        y_pred_threshold = np.where(df_results_rank['residual_avg'] > threshold, 1, 0)\n",
    "        \n",
    "        print('accuracy = {:.3f}'.format(accuracy_score(y_true,y_pred_threshold)))\n",
    "        print('precision = {:.3f}'.format(precision_score(y_true,y_pred_threshold)))\n",
    "        print('recall = {:.3f}'.format(recall_score(y_true,y_pred_threshold)))\n",
    "        print('f1 = {:.3f}'.format(f1_score(y_true,y_pred_threshold)))\n"
   ]
  },
  {
   "cell_type": "code",
   "execution_count": 15,
   "metadata": {},
   "outputs": [
    {
     "data": {
      "text/plain": [
       "(0, 0.75)"
      ]
     },
     "execution_count": 15,
     "metadata": {},
     "output_type": "execute_result"
    },
    {
     "data": {
      "image/png": "[encoded data removed]",
      "text/plain": [
       "<Figure size 432x288 with 1 Axes>"
      ]
     },
     "metadata": {
      "needs_background": "light"
     },
     "output_type": "display_data"
    }
   ],
   "source": [
    "sns.boxplot(x='y_rank',y='residual_avg',data=df_results_test)\n",
    "plt.ylim((0,.75))"
   ]
  },
  {
   "cell_type": "markdown",
   "metadata": {},
   "source": [
    "# Apply KNN nearest distance approach for reconstruction error"
   ]
  },
  {
   "cell_type": "code",
   "execution_count": 16,
   "metadata": {},
   "outputs": [],
   "source": [
    "residuals_test = X_pred_test - X_test\n",
    "residuals_train = X_pred_train - X_train"
   ]
  },
  {
   "cell_type": "code",
   "execution_count": 17,
   "metadata": {},
   "outputs": [
    {
     "data": {
      "text/plain": [
       "Int64Index([2211,  278, 4288, 5008, 1582, 7008, 7261, 7711, 3443, 8349,\n",
       "            ...\n",
       "            7511, 7512, 7513, 7514, 8180, 8181, 8182, 8593, 8771, 8772],\n",
       "           dtype='int64', length=952)"
      ]
     },
     "execution_count": 17,
     "metadata": {},
     "output_type": "execute_result"
    }
   ],
   "source": [
    "residuals_test.index"
   ]
  },
  {
   "cell_type": "code",
   "execution_count": 18,
   "metadata": {},
   "outputs": [
    {
     "data": {
      "text/plain": [
       "(7832, 17)"
      ]
     },
     "execution_count": 18,
     "metadata": {},
     "output_type": "execute_result"
    }
   ],
   "source": [
    "residuals_train.shape"
   ]
  },
  {
   "cell_type": "code",
   "execution_count": 19,
   "metadata": {},
   "outputs": [],
   "source": [
    "nominal_idx = y_test ==0\n",
    "failure_idx = y_test ==1"
   ]
  },
  {
   "cell_type": "code",
   "execution_count": 20,
   "metadata": {},
   "outputs": [
    {
     "data": {
      "text/plain": [
       "(952, 17)"
      ]
     },
     "execution_count": 20,
     "metadata": {},
     "output_type": "execute_result"
    }
   ],
   "source": [
    "residuals_test.shape"
   ]
  },
  {
   "cell_type": "code",
   "execution_count": 21,
   "metadata": {},
   "outputs": [],
   "source": [
    "tree = BallTree(residuals_train)"
   ]
  },
  {
   "cell_type": "code",
   "execution_count": 62,
   "metadata": {},
   "outputs": [],
   "source": [
    "dist,ind = tree.query(residuals_test,k=2)\n",
    "dist = np.mean(dist,axis=1)\n",
    "dist = pd.Series(dist.ravel(),index=residuals_test.index)"
   ]
  },
  {
   "cell_type": "code",
   "execution_count": 63,
   "metadata": {},
   "outputs": [
    {
     "data": {
      "text/plain": [
       "<matplotlib.axes._subplots.AxesSubplot at 0x14998a080>"
      ]
     },
     "execution_count": 63,
     "metadata": {},
     "output_type": "execute_result"
    },
    {
     "data": {
      "image/png": "[encoded data removed]",
      "text/plain": [
       "<Figure size 432x288 with 1 Axes>"
      ]
     },
     "metadata": {
      "needs_background": "light"
     },
     "output_type": "display_data"
    }
   ],
   "source": [
    "df_boxplot = pd.DataFrame(data = {'distance':dist,'y' : y_test})\n",
    "sns.boxplot(x='y',y='distance',data=df_boxplot)"
   ]
  },
  {
   "cell_type": "code",
   "execution_count": 64,
   "metadata": {},
   "outputs": [
    {
     "data": {
      "text/plain": [
       "Text(0.5, 1.0, 'distribution of std residual')"
      ]
     },
     "execution_count": 64,
     "metadata": {},
     "output_type": "execute_result"
    },
    {
     "data": {
      "image/png": "[encoded data removed]",
      "text/plain": [
       "<Figure size 432x288 with 1 Axes>"
      ]
     },
     "metadata": {
      "needs_background": "light"
     },
     "output_type": "display_data"
    }
   ],
   "source": [
    "plt.figure()\n",
    "sns.distplot(dist[failure_idx],norm_hist=True,kde=False,color='red')\n",
    "sns.distplot(dist[nominal_idx],norm_hist=True,kde=False,color='blue')\n",
    "plt.legend(['failure residuals','non failure residuals'])\n",
    "plt.title('distribution of std residual')"
   ]
  },
  {
   "cell_type": "code",
   "execution_count": 65,
   "metadata": {},
   "outputs": [
    {
     "data": {
      "image/png": "[encoded data removed]",
      "text/plain": [
       "<Figure size 432x288 with 1 Axes>"
      ]
     },
     "metadata": {
      "needs_background": "light"
     },
     "output_type": "display_data"
    }
   ],
   "source": [
    "y_pred_proba_knn = dist/np.max(dist)\n",
    "plot_roc(y_test,y_pred_proba_knn)"
   ]
  },
  {
   "cell_type": "markdown",
   "metadata": {},
   "source": [
    "# Try Clustering reconstruction error"
   ]
  },
  {
   "cell_type": "code",
   "execution_count": null,
   "metadata": {},
   "outputs": [],
   "source": []
  },
  {
   "cell_type": "code",
   "execution_count": null,
   "metadata": {},
   "outputs": [],
   "source": []
  },
  {
   "cell_type": "code",
   "execution_count": null,
   "metadata": {},
   "outputs": [],
   "source": []
  },
  {
   "cell_type": "markdown",
   "metadata": {},
   "source": [
    "# Try Logistic Regression on reconstruction error"
   ]
  },
  {
   "cell_type": "code",
   "execution_count": 66,
   "metadata": {},
   "outputs": [],
   "source": [
    "X_residual_train, X_residual_test, y_residual_train, y_residual_test = train_test_split(residuals_test, y_test, test_size=0.5, random_state=0, stratify = y_test)"
   ]
  },
  {
   "cell_type": "code",
   "execution_count": 67,
   "metadata": {},
   "outputs": [
    {
     "data": {
      "text/plain": [
       "0    435\n",
       "1     41\n",
       "Name: y_early, dtype: int64"
      ]
     },
     "execution_count": 67,
     "metadata": {},
     "output_type": "execute_result"
    }
   ],
   "source": [
    "y_residual_train.value_counts()"
   ]
  },
  {
   "cell_type": "code",
   "execution_count": 68,
   "metadata": {},
   "outputs": [
    {
     "data": {
      "text/plain": [
       "0    436\n",
       "1     40\n",
       "Name: y_early, dtype: int64"
      ]
     },
     "execution_count": 68,
     "metadata": {},
     "output_type": "execute_result"
    }
   ],
   "source": [
    "y_residual_test.value_counts()"
   ]
  },
  {
   "cell_type": "code",
   "execution_count": 69,
   "metadata": {},
   "outputs": [
    {
     "name": "stderr",
     "output_type": "stream",
     "text": [
      "/Users/chenpete/Documents/code/DL/dlenv/lib/python3.7/site-packages/sklearn/linear_model/logistic.py:432: FutureWarning: Default solver will be changed to 'lbfgs' in 0.22. Specify a solver to silence this warning.\n",
      "  FutureWarning)\n"
     ]
    }
   ],
   "source": [
    "clf = LogisticRegression()\n",
    "clf.fit(X_residual_test,y_residual_test)\n",
    "y_pred_logreg_proba = clf.predict_proba(X_residual_test)[:,1]"
   ]
  },
  {
   "cell_type": "code",
   "execution_count": 70,
   "metadata": {},
   "outputs": [
    {
     "data": {
      "image/png": "[encoded data removed]",
      "text/plain": [
       "<Figure size 432x288 with 1 Axes>"
      ]
     },
     "metadata": {
      "needs_background": "light"
     },
     "output_type": "display_data"
    }
   ],
   "source": [
    "plot_roc(y_residual_test,y_pred_logreg_proba)"
   ]
  },
  {
   "cell_type": "code",
   "execution_count": null,
   "metadata": {},
   "outputs": [],
   "source": []
  }
 ],
 "metadata": {
  "kernelspec": {
   "display_name": "dlenv",
   "language": "python",
   "name": "dlenv"
  },
  "language_info": {
   "codemirror_mode": {
    "name": "ipython",
    "version": 3
   },
   "file_extension": ".py",
   "mimetype": "text/x-python",
   "name": "python",
   "nbconvert_exporter": "python",
   "pygments_lexer": "ipython3",
   "version": "3.7.3"
  }
 },
 "nbformat": 4,
 "nbformat_minor": 2
}
