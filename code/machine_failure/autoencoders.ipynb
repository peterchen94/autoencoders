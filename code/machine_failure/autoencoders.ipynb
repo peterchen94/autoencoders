{
 "cells": [
  {
   "cell_type": "code",
   "execution_count": 110,
   "metadata": {},
   "outputs": [],
   "source": [
    "import pandas as pd\n",
    "import numpy as np\n",
    "import matplotlib.pyplot as plt\n",
    "import os\n",
    "import sys\n",
    "import seaborn as sns\n",
    "from sklearn.preprocessing import StandardScaler, MinMaxScaler\n",
    "from sklearn.model_selection import train_test_split\n",
    "from keras.layers import Input,Dense, Dropout\n",
    "from keras.models import Model,Sequential\n",
    "from sklearn.metrics import roc_curve, auc\n",
    "from sklearn.manifold import TSNE\n",
    "from sklearn.cluster import KMeans\n",
    "from sklearn.metrics import adjusted_mutual_info_score,adjusted_rand_score,v_measure_score, completeness_score, homogeneity_score, silhouette_score,roc_curve, auc, f1_score, precision_recall_curve, precision_score,recall_score,accuracy_score,confusion_matrix\n",
    "sys.path.append('/Users/chenpete/Documents/ESP/practicum/autoencoders/code/')\n",
    "from sklearn.neighbors import BallTree\n",
    "from utils import * \n",
    "from sklearn.linear_model import LogisticRegression\n"
   ]
  },
  {
   "cell_type": "code",
   "execution_count": 80,
   "metadata": {},
   "outputs": [],
   "source": [
    "DATA_DIR = '/Users/PeterC/Documents/gt/practicum/autoencoders/data/'\n",
    "DATA_DIR = '/Users/chenpete/Documents/ESP/practicum/autoencoders/data/'\n",
    "\n",
    "non_scale_cols = ['Date','y_early','y_rank','y']\n",
    "param_cols = [\n",
    "        'Temperature', 'Humidity','Measure1', 'Measure2',\n",
    "       'Measure3', 'Measure4', 'Measure5', 'Measure6', 'Measure7', 'Measure8',\n",
    "       'Measure9', 'Measure10', 'Measure11', 'Measure12', 'Measure13',\n",
    "       'Measure14', 'Measure15']\n",
    "\n",
    "y_col = 'y_early'\n",
    "early_step = 0\n",
    "\n",
    "df = pd.read_csv(DATA_DIR + 'machine_failures.csv')\n",
    "df['y'] = df['Failure']\n",
    "df['y'] = np.where(df['y'] =='No',0,1)\n",
    "\n",
    "X_train, X_test, y_train, y_test, y_rank_train, y_rank_test = preprocess_data(df,param_cols,y_col, non_scale_cols,early_step)"
   ]
  },
  {
   "cell_type": "code",
   "execution_count": 81,
   "metadata": {},
   "outputs": [
    {
     "data": {
      "text/plain": [
       "0    7832\n",
       "Name: y_early, dtype: int64"
      ]
     },
     "execution_count": 81,
     "metadata": {},
     "output_type": "execute_result"
    }
   ],
   "source": [
    "y_train.value_counts()"
   ]
  },
  {
   "cell_type": "code",
   "execution_count": 82,
   "metadata": {},
   "outputs": [
    {
     "data": {
      "text/plain": [
       "0    871\n",
       "1     81\n",
       "Name: y_early, dtype: int64"
      ]
     },
     "execution_count": 82,
     "metadata": {},
     "output_type": "execute_result"
    }
   ],
   "source": [
    "y_test.value_counts()"
   ]
  },
  {
   "cell_type": "code",
   "execution_count": 83,
   "metadata": {},
   "outputs": [
    {
     "data": {
      "text/plain": [
       "0    871\n",
       "1     81\n",
       "Name: y_rank, dtype: int64"
      ]
     },
     "execution_count": 83,
     "metadata": {},
     "output_type": "execute_result"
    }
   ],
   "source": [
    "y_rank_test.value_counts()"
   ]
  },
  {
   "cell_type": "code",
   "execution_count": 84,
   "metadata": {},
   "outputs": [
    {
     "data": {
      "text/plain": [
       "(7832, 17)"
      ]
     },
     "execution_count": 84,
     "metadata": {},
     "output_type": "execute_result"
    }
   ],
   "source": [
    "X_train.shape"
   ]
  },
  {
   "cell_type": "markdown",
   "metadata": {},
   "source": [
    "# Model 1: Layer autoencoder"
   ]
  },
  {
   "cell_type": "code",
   "execution_count": 85,
   "metadata": {},
   "outputs": [
    {
     "name": "stdout",
     "output_type": "stream",
     "text": [
      "_________________________________________________________________\n",
      "Layer (type)                 Output Shape              Param #   \n",
      "=================================================================\n",
      "dense_25 (Dense)             (None, 15)                270       \n",
      "_________________________________________________________________\n",
      "dense_26 (Dense)             (None, 12)                192       \n",
      "_________________________________________________________________\n",
      "dense_27 (Dense)             (None, 15)                195       \n",
      "_________________________________________________________________\n",
      "dense_28 (Dense)             (None, 17)                272       \n",
      "=================================================================\n",
      "Total params: 929\n",
      "Trainable params: 929\n",
      "Non-trainable params: 0\n",
      "_________________________________________________________________\n"
     ]
    }
   ],
   "source": [
    "model = simple_ann_autoencoder_regression(param_cols,15,12,15)\n",
    "model.summary()"
   ]
  },
  {
   "cell_type": "code",
   "execution_count": 86,
   "metadata": {},
   "outputs": [
    {
     "name": "stdout",
     "output_type": "stream",
     "text": [
      "Epoch 1/100\n",
      "7832/7832 [==============================] - 1s 75us/step - loss: 0.9217\n",
      "Epoch 2/100\n",
      "7832/7832 [==============================] - 0s 30us/step - loss: 0.7079\n",
      "Epoch 3/100\n",
      "7832/7832 [==============================] - 0s 34us/step - loss: 0.5906\n",
      "Epoch 4/100\n",
      "7832/7832 [==============================] - 0s 34us/step - loss: 0.5113\n",
      "Epoch 5/100\n",
      "7832/7832 [==============================] - 0s 32us/step - loss: 0.4577\n",
      "Epoch 6/100\n",
      "7832/7832 [==============================] - 0s 32us/step - loss: 0.3940\n",
      "Epoch 7/100\n",
      "7832/7832 [==============================] - 0s 34us/step - loss: 0.3385\n",
      "Epoch 8/100\n",
      "7832/7832 [==============================] - 0s 32us/step - loss: 0.3087\n",
      "Epoch 9/100\n",
      "7832/7832 [==============================] - 0s 31us/step - loss: 0.2997\n",
      "Epoch 10/100\n",
      "7832/7832 [==============================] - 0s 34us/step - loss: 0.2954\n",
      "Epoch 11/100\n",
      "7832/7832 [==============================] - 0s 34us/step - loss: 0.2932\n",
      "Epoch 12/100\n",
      "7832/7832 [==============================] - 0s 33us/step - loss: 0.2912\n",
      "Epoch 13/100\n",
      "7832/7832 [==============================] - 0s 34us/step - loss: 0.2900\n",
      "Epoch 14/100\n",
      "7832/7832 [==============================] - 0s 33us/step - loss: 0.2898\n",
      "Epoch 15/100\n",
      "7832/7832 [==============================] - 0s 32us/step - loss: 0.2893\n",
      "Epoch 16/100\n",
      "7832/7832 [==============================] - 0s 33us/step - loss: 0.2881\n",
      "Epoch 17/100\n",
      "7832/7832 [==============================] - 0s 35us/step - loss: 0.2873\n",
      "Epoch 18/100\n",
      "7832/7832 [==============================] - 0s 32us/step - loss: 0.2868\n",
      "Epoch 19/100\n",
      "7832/7832 [==============================] - 0s 35us/step - loss: 0.2863\n",
      "Epoch 20/100\n",
      "7832/7832 [==============================] - 0s 31us/step - loss: 0.2863\n",
      "Epoch 21/100\n",
      "7832/7832 [==============================] - 0s 32us/step - loss: 0.2855\n",
      "Epoch 22/100\n",
      "7832/7832 [==============================] - 0s 35us/step - loss: 0.2854\n",
      "Epoch 23/100\n",
      "7832/7832 [==============================] - 0s 33us/step - loss: 0.2847\n",
      "Epoch 24/100\n",
      "7832/7832 [==============================] - 0s 30us/step - loss: 0.2846\n",
      "Epoch 25/100\n",
      "7832/7832 [==============================] - 0s 29us/step - loss: 0.2840\n",
      "Epoch 26/100\n",
      "7832/7832 [==============================] - 0s 30us/step - loss: 0.2841\n",
      "Epoch 27/100\n",
      "7832/7832 [==============================] - 0s 29us/step - loss: 0.2833\n",
      "Epoch 28/100\n",
      "7832/7832 [==============================] - 0s 29us/step - loss: 0.2832\n",
      "Epoch 29/100\n",
      "7832/7832 [==============================] - 0s 31us/step - loss: 0.2828\n",
      "Epoch 30/100\n",
      "7832/7832 [==============================] - 0s 29us/step - loss: 0.2825\n",
      "Epoch 31/100\n",
      "7832/7832 [==============================] - 0s 29us/step - loss: 0.2826\n",
      "Epoch 32/100\n",
      "7832/7832 [==============================] - 0s 30us/step - loss: 0.2817\n",
      "Epoch 33/100\n",
      "7832/7832 [==============================] - 0s 29us/step - loss: 0.2815\n",
      "Epoch 34/100\n",
      "7832/7832 [==============================] - 0s 32us/step - loss: 0.2815\n",
      "Epoch 35/100\n",
      "7832/7832 [==============================] - 0s 31us/step - loss: 0.2811\n",
      "Epoch 36/100\n",
      "7832/7832 [==============================] - 0s 30us/step - loss: 0.2809\n",
      "Epoch 37/100\n",
      "7832/7832 [==============================] - 0s 29us/step - loss: 0.2811\n",
      "Epoch 38/100\n",
      "7832/7832 [==============================] - 0s 29us/step - loss: 0.2804\n",
      "Epoch 39/100\n",
      "7832/7832 [==============================] - 0s 31us/step - loss: 0.2803\n",
      "Epoch 40/100\n",
      "7832/7832 [==============================] - 0s 29us/step - loss: 0.2807\n",
      "Epoch 41/100\n",
      "7832/7832 [==============================] - 0s 28us/step - loss: 0.2798\n",
      "Epoch 42/100\n",
      "7832/7832 [==============================] - 0s 31us/step - loss: 0.2797\n",
      "Epoch 43/100\n",
      "7832/7832 [==============================] - 0s 29us/step - loss: 0.2795\n",
      "Epoch 44/100\n",
      "7832/7832 [==============================] - 0s 31us/step - loss: 0.2795\n",
      "Epoch 45/100\n",
      "7832/7832 [==============================] - 0s 30us/step - loss: 0.2794\n",
      "Epoch 46/100\n",
      "7832/7832 [==============================] - 0s 30us/step - loss: 0.2790\n",
      "Epoch 47/100\n",
      "7832/7832 [==============================] - 0s 27us/step - loss: 0.2794\n",
      "Epoch 48/100\n",
      "7832/7832 [==============================] - 0s 29us/step - loss: 0.2786\n",
      "Epoch 49/100\n",
      "7832/7832 [==============================] - 0s 32us/step - loss: 0.2787\n",
      "Epoch 50/100\n",
      "7832/7832 [==============================] - 0s 32us/step - loss: 0.2788\n",
      "Epoch 51/100\n",
      "7832/7832 [==============================] - 0s 31us/step - loss: 0.2782\n",
      "Epoch 52/100\n",
      "7832/7832 [==============================] - 0s 29us/step - loss: 0.2780\n",
      "Epoch 53/100\n",
      "7832/7832 [==============================] - 0s 27us/step - loss: 0.2781\n",
      "Epoch 54/100\n",
      "7832/7832 [==============================] - 0s 25us/step - loss: 0.2780\n",
      "Epoch 55/100\n",
      "7832/7832 [==============================] - 0s 25us/step - loss: 0.2777\n",
      "Epoch 56/100\n",
      "7832/7832 [==============================] - 0s 25us/step - loss: 0.2773\n",
      "Epoch 57/100\n",
      "7832/7832 [==============================] - 0s 25us/step - loss: 0.2771\n",
      "Epoch 58/100\n",
      "7832/7832 [==============================] - 0s 25us/step - loss: 0.2771\n",
      "Epoch 59/100\n",
      "7832/7832 [==============================] - 0s 26us/step - loss: 0.2767\n",
      "Epoch 60/100\n",
      "7832/7832 [==============================] - 0s 26us/step - loss: 0.2767\n",
      "Epoch 61/100\n",
      "7832/7832 [==============================] - 0s 27us/step - loss: 0.2767\n",
      "Epoch 62/100\n",
      "7832/7832 [==============================] - 0s 27us/step - loss: 0.2763\n",
      "Epoch 63/100\n",
      "7832/7832 [==============================] - 0s 27us/step - loss: 0.2758\n",
      "Epoch 64/100\n",
      "7832/7832 [==============================] - 0s 27us/step - loss: 0.2763\n",
      "Epoch 65/100\n",
      "7832/7832 [==============================] - 0s 25us/step - loss: 0.2760\n",
      "Epoch 66/100\n",
      "7832/7832 [==============================] - 0s 26us/step - loss: 0.2759\n",
      "Epoch 67/100\n",
      "7832/7832 [==============================] - 0s 26us/step - loss: 0.2758\n",
      "Epoch 68/100\n",
      "7832/7832 [==============================] - 0s 27us/step - loss: 0.2756\n",
      "Epoch 69/100\n",
      "7832/7832 [==============================] - 0s 26us/step - loss: 0.2757\n",
      "Epoch 70/100\n",
      "7832/7832 [==============================] - 0s 26us/step - loss: 0.2755\n",
      "Epoch 71/100\n",
      "7832/7832 [==============================] - 0s 25us/step - loss: 0.2755\n",
      "Epoch 72/100\n",
      "7832/7832 [==============================] - 0s 25us/step - loss: 0.2755\n",
      "Epoch 73/100\n",
      "7832/7832 [==============================] - 0s 25us/step - loss: 0.2752\n",
      "Epoch 74/100\n",
      "7832/7832 [==============================] - 0s 26us/step - loss: 0.2755\n",
      "Epoch 75/100\n",
      "7832/7832 [==============================] - 0s 26us/step - loss: 0.2754\n",
      "Epoch 76/100\n",
      "7832/7832 [==============================] - 0s 27us/step - loss: 0.2753\n",
      "Epoch 77/100\n",
      "7832/7832 [==============================] - 0s 26us/step - loss: 0.2753\n",
      "Epoch 78/100\n",
      "7832/7832 [==============================] - 0s 26us/step - loss: 0.2751\n",
      "Epoch 79/100\n",
      "7832/7832 [==============================] - 0s 26us/step - loss: 0.2749\n",
      "Epoch 80/100\n",
      "7832/7832 [==============================] - 0s 25us/step - loss: 0.2750\n",
      "Epoch 81/100\n",
      "7832/7832 [==============================] - 0s 26us/step - loss: 0.2749\n",
      "Epoch 82/100\n",
      "7832/7832 [==============================] - 0s 26us/step - loss: 0.2746\n",
      "Epoch 83/100\n",
      "7832/7832 [==============================] - 0s 26us/step - loss: 0.2746\n",
      "Epoch 84/100\n",
      "7832/7832 [==============================] - 0s 26us/step - loss: 0.2748\n",
      "Epoch 85/100\n",
      "7832/7832 [==============================] - 0s 26us/step - loss: 0.2748\n",
      "Epoch 86/100\n",
      "7832/7832 [==============================] - 0s 26us/step - loss: 0.2749\n",
      "Epoch 87/100\n",
      "7832/7832 [==============================] - 0s 26us/step - loss: 0.2749\n",
      "Epoch 88/100\n",
      "7832/7832 [==============================] - 0s 27us/step - loss: 0.2743\n",
      "Epoch 89/100\n",
      "7832/7832 [==============================] - 0s 26us/step - loss: 0.2746\n",
      "Epoch 90/100\n",
      "7832/7832 [==============================] - 0s 26us/step - loss: 0.2743\n",
      "Epoch 91/100\n",
      "7832/7832 [==============================] - 0s 26us/step - loss: 0.2749\n",
      "Epoch 92/100\n",
      "7832/7832 [==============================] - 0s 26us/step - loss: 0.2746\n",
      "Epoch 93/100\n",
      "7832/7832 [==============================] - 0s 26us/step - loss: 0.2744\n",
      "Epoch 94/100\n",
      "7832/7832 [==============================] - 0s 26us/step - loss: 0.2746\n",
      "Epoch 95/100\n",
      "7832/7832 [==============================] - 0s 25us/step - loss: 0.2744\n",
      "Epoch 96/100\n",
      "7832/7832 [==============================] - 0s 26us/step - loss: 0.2741\n",
      "Epoch 97/100\n",
      "7832/7832 [==============================] - 0s 25us/step - loss: 0.2747\n",
      "Epoch 98/100\n",
      "7832/7832 [==============================] - 0s 26us/step - loss: 0.2743\n",
      "Epoch 99/100\n",
      "7832/7832 [==============================] - 0s 26us/step - loss: 0.2743\n",
      "Epoch 100/100\n",
      "7832/7832 [==============================] - 0s 25us/step - loss: 0.2742\n"
     ]
    }
   ],
   "source": [
    "history_callback = model.fit(X_train,X_train,epochs=100,batch_size = 32)\n",
    "loss_history = history_callback.history['loss']"
   ]
  },
  {
   "cell_type": "code",
   "execution_count": 16,
   "metadata": {},
   "outputs": [],
   "source": [
    "#model.save('autoencoder_32_16_32_machine_failure.h5')"
   ]
  },
  {
   "cell_type": "code",
   "execution_count": 87,
   "metadata": {},
   "outputs": [
    {
     "data": {
      "text/plain": [
       "Text(0.5, 1.0, 'loss history')"
      ]
     },
     "execution_count": 87,
     "metadata": {},
     "output_type": "execute_result"
    },
    {
     "data": {
      "image/png": "[encoded data removed]",
      "text/plain": [
       "<Figure size 432x288 with 1 Axes>"
      ]
     },
     "metadata": {
      "needs_background": "light"
     },
     "output_type": "display_data"
    }
   ],
   "source": [
    "plt.plot(loss_history)\n",
    "plt.title('loss history')"
   ]
  },
  {
   "cell_type": "code",
   "execution_count": 88,
   "metadata": {},
   "outputs": [],
   "source": [
    "X_pred_test = model.predict(X_test)\n",
    "\n",
    "X_pred_train = model.predict(X_train)\n",
    "\n",
    "df_results_test = results_df(X_test,X_pred_test,y_test,y_rank_test)\n",
    "df_results_train = results_df(X_train,X_pred_train,y_train,y_rank_train)"
   ]
  },
  {
   "cell_type": "code",
   "execution_count": 89,
   "metadata": {},
   "outputs": [],
   "source": [
    "res_nominal_train = df_results_train[df_results_train['y'] == 0]['residual_avg']\n",
    "\n",
    "average_res_nominal_train = np.mean(res_nominal_train)\n",
    "std_res_nominal_train = np.std(res_nominal_train)\n",
    "threshold_3s = average_res_nominal_train + 3*std_res_nominal_train\n",
    "threshold_5s = average_res_nominal_train + 5*std_res_nominal_train\n",
    "threshold_max = np.max(res_nominal_train)\n",
    "\n",
    "threshold_list = [('3s',threshold_3s),('5s',threshold_5s),('max',threshold_max)]"
   ]
  },
  {
   "cell_type": "markdown",
   "metadata": {},
   "source": [
    "### Training residuals"
   ]
  },
  {
   "cell_type": "code",
   "execution_count": 90,
   "metadata": {},
   "outputs": [
    {
     "data": {
      "text/plain": [
       "(0, 1)"
      ]
     },
     "execution_count": 90,
     "metadata": {},
     "output_type": "execute_result"
    },
    {
     "data": {
      "image/png": "[encoded data removed]",
      "text/plain": [
       "<Figure size 432x288 with 1 Axes>"
      ]
     },
     "metadata": {
      "needs_background": "light"
     },
     "output_type": "display_data"
    }
   ],
   "source": [
    "plt.figure()\n",
    "sns.distplot(df_results_train['residual_avg'],norm_hist=True,kde=False,color='blue')\n",
    "plt.xlim((0,1))"
   ]
  },
  {
   "cell_type": "code",
   "execution_count": 91,
   "metadata": {},
   "outputs": [
    {
     "name": "stdout",
     "output_type": "stream",
     "text": [
      "\n",
      "------------------ early time step of 1----------------------------\n"
     ]
    },
    {
     "data": {
      "image/png": "[encoded data removed]",
      "text/plain": [
       "<Figure size 432x288 with 1 Axes>"
      ]
     },
     "metadata": {
      "needs_background": "light"
     },
     "output_type": "display_data"
    },
    {
     "data": {
      "image/png": "[encoded data removed]",
      "text/plain": [
       "<Figure size 432x288 with 1 Axes>"
      ]
     },
     "metadata": {
      "needs_background": "light"
     },
     "output_type": "display_data"
    },
    {
     "name": "stdout",
     "output_type": "stream",
     "text": [
      "\n",
      "\n",
      "------ Using threshold 3s---------------\n",
      "accuracy = 0.910\n",
      "precision = 0.222\n",
      "recall = 0.025\n",
      "f1 = 0.044\n",
      "\n",
      "\n",
      "------ Using threshold 5s---------------\n",
      "accuracy = 0.913\n",
      "precision = 0.000\n",
      "recall = 0.000\n",
      "f1 = 0.000\n",
      "\n",
      "\n",
      "------ Using threshold max---------------\n",
      "accuracy = 0.915\n",
      "precision = 0.000\n",
      "recall = 0.000\n",
      "f1 = 0.000\n"
     ]
    },
    {
     "name": "stderr",
     "output_type": "stream",
     "text": [
      "/Users/chenpete/Documents/code/DL/dlenv/lib/python3.7/site-packages/sklearn/metrics/classification.py:1437: UndefinedMetricWarning: Precision is ill-defined and being set to 0.0 due to no predicted samples.\n",
      "  'precision', 'predicted', average, warn_for)\n",
      "/Users/chenpete/Documents/code/DL/dlenv/lib/python3.7/site-packages/sklearn/metrics/classification.py:1437: UndefinedMetricWarning: F-score is ill-defined and being set to 0.0 due to no predicted samples.\n",
      "  'precision', 'predicted', average, warn_for)\n"
     ]
    }
   ],
   "source": [
    "for rank in range(1,np.max(df_results_test['y_rank'])+1):\n",
    "    \n",
    "    print('\\n------------------ early time step of {}----------------------------'.format(rank))\n",
    "    \n",
    "    df_results_rank= df_results_test[(df_results_test['y_rank']==rank) | (df_results_test['y_rank']==0)]\n",
    "    res_nominal_test = df_results_rank[df_results_rank['y'] == 0]['residual_avg']\n",
    "    res_failures_test = df_results_rank[df_results_rank['y_rank'] == rank]['residual_avg']\n",
    "    \n",
    "    plt.figure()\n",
    "    sns.distplot(res_failures_test,norm_hist=True,kde=False,color='red')\n",
    "    sns.distplot(res_nominal_test,norm_hist=True,kde=False,color='blue')\n",
    "    plt.legend(['failure residuals','non failure residuals'])\n",
    "    plt.title('distribution of average residuals')\n",
    "\n",
    "    y_true = np.array(df_results_rank['y'])\n",
    "    y_pred_proba = np.array(df_results_rank['residual_avg']/np.max(df_results_rank['residual_avg']))\n",
    "\n",
    "    plot_roc(y_true,y_pred_proba)\n",
    "    \n",
    "    for name,threshold in threshold_list:\n",
    "        print('\\n\\n------ Using threshold {}---------------'.format(name))\n",
    "        y_pred_threshold = np.where(df_results_rank['residual_avg'] > threshold, 1, 0)\n",
    "        \n",
    "        print('accuracy = {:.3f}'.format(accuracy_score(y_true,y_pred_threshold)))\n",
    "        print('precision = {:.3f}'.format(precision_score(y_true,y_pred_threshold)))\n",
    "        print('recall = {:.3f}'.format(recall_score(y_true,y_pred_threshold)))\n",
    "        print('f1 = {:.3f}'.format(f1_score(y_true,y_pred_threshold)))\n"
   ]
  },
  {
   "cell_type": "code",
   "execution_count": 92,
   "metadata": {},
   "outputs": [
    {
     "data": {
      "text/plain": [
       "(0, 0.75)"
      ]
     },
     "execution_count": 92,
     "metadata": {},
     "output_type": "execute_result"
    },
    {
     "data": {
      "image/png": "[encoded data removed]",
      "text/plain": [
       "<Figure size 432x288 with 1 Axes>"
      ]
     },
     "metadata": {
      "needs_background": "light"
     },
     "output_type": "display_data"
    }
   ],
   "source": [
    "sns.boxplot(x='y_rank',y='residual_avg',data=df_results_test)\n",
    "plt.ylim((0,.75))"
   ]
  },
  {
   "cell_type": "markdown",
   "metadata": {},
   "source": [
    "# Apply KNN nearest distance approach for reconstruction error"
   ]
  },
  {
   "cell_type": "code",
   "execution_count": 117,
   "metadata": {},
   "outputs": [],
   "source": [
    "residuals_test = X_pred_test - X_test\n",
    "residuals_train = X_pred_train - X_train"
   ]
  },
  {
   "cell_type": "code",
   "execution_count": 126,
   "metadata": {},
   "outputs": [
    {
     "data": {
      "text/plain": [
       "Int64Index([2211,  278, 4288, 5008, 1582, 7008, 7261, 7711, 3443, 8349,\n",
       "            ...\n",
       "            7511, 7512, 7513, 7514, 8180, 8181, 8182, 8593, 8771, 8772],\n",
       "           dtype='int64', length=952)"
      ]
     },
     "execution_count": 126,
     "metadata": {},
     "output_type": "execute_result"
    }
   ],
   "source": [
    "residuals_test.index"
   ]
  },
  {
   "cell_type": "code",
   "execution_count": 118,
   "metadata": {},
   "outputs": [
    {
     "data": {
      "text/plain": [
       "(7832, 17)"
      ]
     },
     "execution_count": 118,
     "metadata": {},
     "output_type": "execute_result"
    }
   ],
   "source": [
    "residuals_train.shape"
   ]
  },
  {
   "cell_type": "code",
   "execution_count": 119,
   "metadata": {},
   "outputs": [],
   "source": [
    "nominal_idx = y_test ==0\n",
    "failure_idx = y_test ==1"
   ]
  },
  {
   "cell_type": "code",
   "execution_count": 120,
   "metadata": {},
   "outputs": [
    {
     "data": {
      "text/plain": [
       "(952, 17)"
      ]
     },
     "execution_count": 120,
     "metadata": {},
     "output_type": "execute_result"
    }
   ],
   "source": [
    "residuals_test.shape"
   ]
  },
  {
   "cell_type": "code",
   "execution_count": 121,
   "metadata": {},
   "outputs": [],
   "source": [
    "tree = BallTree(residuals_train)"
   ]
  },
  {
   "cell_type": "code",
   "execution_count": 123,
   "metadata": {},
   "outputs": [
    {
     "data": {
      "text/plain": [
       "(952, 2)"
      ]
     },
     "execution_count": 123,
     "metadata": {},
     "output_type": "execute_result"
    }
   ],
   "source": [
    "dist.shape"
   ]
  },
  {
   "cell_type": "code",
   "execution_count": 139,
   "metadata": {},
   "outputs": [],
   "source": [
    "dist,ind = tree.query(residuals_test,k=3)\n",
    "dist = np.mean(dist,axis=1)\n",
    "dist = pd.Series(dist.ravel(),index=residuals_test.index)\n"
   ]
  },
  {
   "cell_type": "code",
   "execution_count": 140,
   "metadata": {},
   "outputs": [
    {
     "data": {
      "text/plain": [
       "<matplotlib.axes._subplots.AxesSubplot at 0x1430aa710>"
      ]
     },
     "execution_count": 140,
     "metadata": {},
     "output_type": "execute_result"
    },
    {
     "data": {
      "image/png": "[encoded data removed]",
      "text/plain": [
       "<Figure size 432x288 with 1 Axes>"
      ]
     },
     "metadata": {
      "needs_background": "light"
     },
     "output_type": "display_data"
    }
   ],
   "source": [
    "df_boxplot = pd.DataFrame(data = {'distance':dist,'y' : y_test})\n",
    "sns.boxplot(x='y',y='distance',data=df_boxplot)"
   ]
  },
  {
   "cell_type": "code",
   "execution_count": 141,
   "metadata": {},
   "outputs": [
    {
     "data": {
      "text/plain": [
       "Text(0.5, 1.0, 'distribution of std residual')"
      ]
     },
     "execution_count": 141,
     "metadata": {},
     "output_type": "execute_result"
    },
    {
     "data": {
      "image/png": "[encoded data removed]",
      "text/plain": [
       "<Figure size 432x288 with 1 Axes>"
      ]
     },
     "metadata": {
      "needs_background": "light"
     },
     "output_type": "display_data"
    }
   ],
   "source": [
    "plt.figure()\n",
    "sns.distplot(dist[failure_idx],norm_hist=True,kde=False,color='red')\n",
    "sns.distplot(dist[nominal_idx],norm_hist=True,kde=False,color='blue')\n",
    "plt.legend(['failure residuals','non failure residuals'])\n",
    "plt.title('distribution of std residual')"
   ]
  },
  {
   "cell_type": "code",
   "execution_count": 142,
   "metadata": {},
   "outputs": [
    {
     "data": {
      "image/png": "[encoded data removed]",
      "text/plain": [
       "<Figure size 432x288 with 1 Axes>"
      ]
     },
     "metadata": {
      "needs_background": "light"
     },
     "output_type": "display_data"
    }
   ],
   "source": [
    "y_pred_proba_knn = dist/np.max(dist)\n",
    "plot_roc(y_test,y_pred_proba_knn)"
   ]
  },
  {
   "cell_type": "markdown",
   "metadata": {},
   "source": [
    "# Try Logistic Regression on reconstruction error"
   ]
  },
  {
   "cell_type": "code",
   "execution_count": 106,
   "metadata": {},
   "outputs": [],
   "source": [
    "X_residual_train, X_residual_test, y_residual_train, y_residual_test = train_test_split(residuals_test, y_test, test_size=0.5, random_state=0, stratify = y_test)"
   ]
  },
  {
   "cell_type": "code",
   "execution_count": 107,
   "metadata": {},
   "outputs": [
    {
     "data": {
      "text/plain": [
       "0    435\n",
       "1     41\n",
       "Name: y_early, dtype: int64"
      ]
     },
     "execution_count": 107,
     "metadata": {},
     "output_type": "execute_result"
    }
   ],
   "source": [
    "y_residual_train.value_counts()"
   ]
  },
  {
   "cell_type": "code",
   "execution_count": 108,
   "metadata": {},
   "outputs": [
    {
     "data": {
      "text/plain": [
       "0    436\n",
       "1     40\n",
       "Name: y_early, dtype: int64"
      ]
     },
     "execution_count": 108,
     "metadata": {},
     "output_type": "execute_result"
    }
   ],
   "source": [
    "y_residual_test.value_counts()"
   ]
  },
  {
   "cell_type": "code",
   "execution_count": 146,
   "metadata": {},
   "outputs": [
    {
     "name": "stderr",
     "output_type": "stream",
     "text": [
      "/Users/chenpete/Documents/code/DL/dlenv/lib/python3.7/site-packages/sklearn/linear_model/logistic.py:432: FutureWarning: Default solver will be changed to 'lbfgs' in 0.22. Specify a solver to silence this warning.\n",
      "  FutureWarning)\n"
     ]
    }
   ],
   "source": [
    "clf = LogisticRegression()\n",
    "clf.fit(X_residual_test,y_residual_test)\n",
    "y_pred_logreg_proba = clf.predict_proba(X_residual_test)[:,1]"
   ]
  },
  {
   "cell_type": "code",
   "execution_count": 147,
   "metadata": {},
   "outputs": [
    {
     "data": {
      "image/png": "[encoded data removed]",
      "text/plain": [
       "<Figure size 432x288 with 1 Axes>"
      ]
     },
     "metadata": {
      "needs_background": "light"
     },
     "output_type": "display_data"
    }
   ],
   "source": [
    "plot_roc(y_residual_test,y_pred_logreg_proba)"
   ]
  },
  {
   "cell_type": "code",
   "execution_count": null,
   "metadata": {},
   "outputs": [],
   "source": []
  }
 ],
 "metadata": {
  "kernelspec": {
   "display_name": "dlenv",
   "language": "python",
   "name": "dlenv"
  },
  "language_info": {
   "codemirror_mode": {
    "name": "ipython",
    "version": 3
   },
   "file_extension": ".py",
   "mimetype": "text/x-python",
   "name": "python",
   "nbconvert_exporter": "python",
   "pygments_lexer": "ipython3",
   "version": "3.7.3"
  }
 },
 "nbformat": 4,
 "nbformat_minor": 2
}
