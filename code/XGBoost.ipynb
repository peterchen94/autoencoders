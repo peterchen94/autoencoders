{
 "cells": [
  {
   "cell_type": "code",
   "execution_count": 110,
   "metadata": {},
   "outputs": [],
   "source": [
    "import pandas as pd\n",
    "import numpy as np\n",
    "import matplotlib.pyplot as plt\n",
    "import os\n",
    "import seaborn as sns\n",
    "from sklearn.preprocessing import StandardScaler, MinMaxScaler\n",
    "from sklearn.model_selection import train_test_split\n",
    "from sklearn.metrics import f1_score\n",
    "from keras.layers import Input,Dense, Dropout\n",
    "from keras.models import Model,Sequential\n",
    "from sklearn.metrics import roc_curve, auc, f1_score, precision_recall_curve, precision_score,recall_score,accuracy_score,confusion_matrix"
   ]
  },
  {
   "cell_type": "markdown",
   "metadata": {},
   "source": [
    "### Link to Paper"
   ]
  },
  {
   "cell_type": "markdown",
   "metadata": {},
   "source": [
    "https://arxiv.org/pdf/1809.10717.pdf"
   ]
  },
  {
   "cell_type": "code",
   "execution_count": 2,
   "metadata": {},
   "outputs": [],
   "source": [
    "DATA_DIR = '/Users/PeterC/Documents/gt/practicum/autoencoders/data/'\n",
    "DATA_DIR = '/Users/chenpete/Documents/ESP/practicum/autoencoders/data/'"
   ]
  },
  {
   "cell_type": "code",
   "execution_count": 3,
   "metadata": {},
   "outputs": [],
   "source": [
    "df = pd.read_csv(DATA_DIR + 'paper_mill_rare_events.csv')\n",
    "df['time'] = pd.to_datetime(df['time'])"
   ]
  },
  {
   "cell_type": "code",
   "execution_count": 5,
   "metadata": {},
   "outputs": [
    {
     "data": {
      "text/plain": [
       "0    18274\n",
       "1      124\n",
       "Name: y, dtype: int64"
      ]
     },
     "execution_count": 5,
     "metadata": {},
     "output_type": "execute_result"
    }
   ],
   "source": [
    "df['y'].value_counts()"
   ]
  },
  {
   "cell_type": "markdown",
   "metadata": {},
   "source": [
    "# XGBoost "
   ]
  },
  {
   "cell_type": "code",
   "execution_count": 92,
   "metadata": {},
   "outputs": [],
   "source": [
    "import xgboost \n",
    "\n",
    "early_step = 1\n",
    "df['y_early'] = 0\n",
    "\n",
    "failure_count = 1\n",
    "for i in range(df.shape[0]):\n",
    "    if df.iloc[i]['y'] == 1:\n",
    "        df.loc[i-early_step,'y_early'] = 1\n",
    "\n",
    "y_cols = ['y']\n",
    "\n",
    "x_cols = [\n",
    "        'x1', 'x2', 'x3', 'x4', 'x5', 'x6', 'x7', 'x8', 'x9',\n",
    "       'x10', 'x11', 'x12', 'x13', 'x14', 'x15', 'x16', 'x17', 'x18', 'x19',\n",
    "       'x20', 'x21', 'x22', 'x23', 'x24', 'x25', 'x26', 'x27', 'x28', 'x29',\n",
    "       'x30', 'x31', 'x32', 'x33', 'x34', 'x35', 'x36', 'x37', 'x38', 'x39',\n",
    "       'x40', 'x41', 'x42', 'x43', 'x44', 'x45', 'x46', 'x47', 'x48', 'x49',\n",
    "       'x50', 'x51', 'x52', 'x53', 'x54', 'x55', 'x56', 'x57', 'x58', 'x59',\n",
    "       'x60','x61'\n",
    "]\n",
    "\n",
    "X = df[x_cols]\n",
    "y = df[y_cols]\n",
    "X_train, X_test, y_train, y_test = train_test_split(X, y,test_size=0.1,random_state=0,stratify = y)"
   ]
  },
  {
   "cell_type": "code",
   "execution_count": null,
   "metadata": {},
   "outputs": [],
   "source": []
  },
  {
   "cell_type": "code",
   "execution_count": 68,
   "metadata": {},
   "outputs": [],
   "source": [
    "clf_xgb = xgboost.XGBClassifier()\n",
    "clf_xgb.fit(X_train,y_train)\n",
    "\n",
    "y_pred=clf_xgb.predict(X_test)\n",
    "\n",
    "fpr, tpr, thresholds = roc_curve(y_test,y_pred)\n",
    "roc_auc = auc(fpr,tpr)\n",
    "\n",
    "plt.figure()\n",
    "plt.plot(fpr, tpr, color='darkorange',\n",
    "         lw=2, label='ROC curve (area = %0.2f)' % roc_auc)\n",
    "plt.plot([0, 1], [0, 1], color='navy', lw=2, linestyle='--')\n",
    "plt.xlim([0.0, 1.0])\n",
    "plt.ylim([0.0, 1.05])\n",
    "plt.xlabel('False Positive Rate')\n",
    "plt.ylabel('True Positive Rate')\n",
    "plt.title('ROC for reconstruction error classification')\n",
    "plt.legend(loc=\"lower right\")\n",
    "plt.show()\n",
    "\n",
    "print('f1 score :{:.2f}'.format(f1_score(y_test,y_pred)))\n",
    "print('roc auc score :{:.2f}'.format((roc_auc)))\n",
    "print('precision score :{:.2f}'.format(precision_score(y_test,y_pred)))\n",
    "print('recall score :{:.2f}'.format(recall_score(y_test,y_pred)))"
   ]
  },
  {
   "cell_type": "code",
   "execution_count": 103,
   "metadata": {},
   "outputs": [],
   "source": [
    "def simple_ann_clf():\n",
    "    model = Sequential()\n",
    "    model.add(Dense(units = 32,activation='relu',input_shape = (len(x_cols),)))\n",
    "    model.add(Dropout(.2))\n",
    "    model.add(Dense(units = 16,activation='relu'))\n",
    "    model.add(Dropout(.2))\n",
    "    model.add(Dense(units = 1,activation='sigmoid'))\n",
    "    model.compile(optimizer='adam', loss='binary_crossentropy')\n",
    "    return model"
   ]
  },
  {
   "cell_type": "code",
   "execution_count": 105,
   "metadata": {},
   "outputs": [
    {
     "data": {
      "text/plain": [
       "0    16446\n",
       "1      112\n",
       "Name: y, dtype: int64"
      ]
     },
     "execution_count": 105,
     "metadata": {},
     "output_type": "execute_result"
    }
   ],
   "source": [
    "y_train['y'].value_counts()"
   ]
  },
  {
   "cell_type": "code",
   "execution_count": 109,
   "metadata": {},
   "outputs": [
    {
     "name": "stdout",
     "output_type": "stream",
     "text": [
      "Epoch 1/50\n",
      "16558/16558 [==============================] - 2s 98us/step - loss: 0.3690\n",
      "Epoch 2/50\n",
      "16558/16558 [==============================] - 1s 57us/step - loss: 0.1201\n",
      "Epoch 3/50\n",
      "16558/16558 [==============================] - 1s 57us/step - loss: 0.1115\n",
      "Epoch 4/50\n",
      "16558/16558 [==============================] - 1s 60us/step - loss: 0.1101\n",
      "Epoch 5/50\n",
      "16558/16558 [==============================] - 1s 61us/step - loss: 0.1113\n",
      "Epoch 6/50\n",
      "16558/16558 [==============================] - 1s 58us/step - loss: 0.1094\n",
      "Epoch 7/50\n",
      "16558/16558 [==============================] - 1s 58us/step - loss: 0.1110\n",
      "Epoch 8/50\n",
      "16558/16558 [==============================] - 1s 57us/step - loss: 0.1095\n",
      "Epoch 9/50\n",
      "16558/16558 [==============================] - 1s 57us/step - loss: 0.1108\n",
      "Epoch 10/50\n",
      "16558/16558 [==============================] - 1s 59us/step - loss: 0.1091\n",
      "Epoch 11/50\n",
      "16558/16558 [==============================] - 1s 57us/step - loss: 0.1099\n",
      "Epoch 12/50\n",
      "16558/16558 [==============================] - 1s 57us/step - loss: 0.1091\n",
      "Epoch 13/50\n",
      "16558/16558 [==============================] - 1s 59us/step - loss: 0.1090\n",
      "Epoch 14/50\n",
      "16558/16558 [==============================] - 1s 61us/step - loss: 0.1097\n",
      "Epoch 15/50\n",
      "16558/16558 [==============================] - 1s 59us/step - loss: 0.1090\n",
      "Epoch 16/50\n",
      "16558/16558 [==============================] - 1s 61us/step - loss: 0.1091\n",
      "Epoch 17/50\n",
      "16558/16558 [==============================] - 1s 59us/step - loss: 0.1090\n",
      "Epoch 18/50\n",
      "16558/16558 [==============================] - 1s 59us/step - loss: 0.1100\n",
      "Epoch 19/50\n",
      "16558/16558 [==============================] - 1s 61us/step - loss: 0.1091\n",
      "Epoch 20/50\n",
      "16558/16558 [==============================] - 1s 66us/step - loss: 0.1090\n",
      "Epoch 21/50\n",
      "16558/16558 [==============================] - 1s 62us/step - loss: 0.1091\n",
      "Epoch 22/50\n",
      "16558/16558 [==============================] - 1s 60us/step - loss: 0.1091\n",
      "Epoch 23/50\n",
      "16558/16558 [==============================] - 1s 66us/step - loss: 0.1090\n",
      "Epoch 24/50\n",
      "16558/16558 [==============================] - 1s 70us/step - loss: 0.1090\n",
      "Epoch 25/50\n",
      "16558/16558 [==============================] - 1s 58us/step - loss: 0.1092\n",
      "Epoch 26/50\n",
      "16558/16558 [==============================] - 1s 56us/step - loss: 0.1090\n",
      "Epoch 27/50\n",
      "16558/16558 [==============================] - 1s 56us/step - loss: 0.1095\n",
      "Epoch 28/50\n",
      "16558/16558 [==============================] - 1s 55us/step - loss: 0.1091\n",
      "Epoch 29/50\n",
      "16558/16558 [==============================] - 1s 57us/step - loss: 0.1091\n",
      "Epoch 30/50\n",
      "16558/16558 [==============================] - 1s 59us/step - loss: 0.1091\n",
      "Epoch 31/50\n",
      "16558/16558 [==============================] - 1s 69us/step - loss: 0.1090\n",
      "Epoch 32/50\n",
      "16558/16558 [==============================] - 1s 58us/step - loss: 0.1090\n",
      "Epoch 33/50\n",
      "16558/16558 [==============================] - 1s 56us/step - loss: 0.1093\n",
      "Epoch 34/50\n",
      "16558/16558 [==============================] - 1s 57us/step - loss: 0.1091\n",
      "Epoch 35/50\n",
      "16558/16558 [==============================] - 1s 57us/step - loss: 0.1090\n",
      "Epoch 36/50\n",
      "16558/16558 [==============================] - 1s 58us/step - loss: 0.1090\n",
      "Epoch 37/50\n",
      "16558/16558 [==============================] - 1s 58us/step - loss: 0.1098\n",
      "Epoch 38/50\n",
      "16558/16558 [==============================] - 1s 60us/step - loss: 0.1090\n",
      "Epoch 39/50\n",
      "16558/16558 [==============================] - 1s 71us/step - loss: 0.1091\n",
      "Epoch 40/50\n",
      "16558/16558 [==============================] - 1s 63us/step - loss: 0.1090\n",
      "Epoch 41/50\n",
      "16558/16558 [==============================] - 1s 57us/step - loss: 0.1090\n",
      "Epoch 42/50\n",
      "16558/16558 [==============================] - 1s 56us/step - loss: 0.1090\n",
      "Epoch 43/50\n",
      "16558/16558 [==============================] - 1s 57us/step - loss: 0.1090\n",
      "Epoch 44/50\n",
      "16558/16558 [==============================] - 1s 56us/step - loss: 0.1090\n",
      "Epoch 45/50\n",
      "16558/16558 [==============================] - 1s 57us/step - loss: 0.1090\n",
      "Epoch 46/50\n",
      "16558/16558 [==============================] - 1s 58us/step - loss: 0.1090\n",
      "Epoch 47/50\n",
      "16558/16558 [==============================] - 1s 57us/step - loss: 0.1090\n",
      "Epoch 48/50\n",
      "16558/16558 [==============================] - 1s 59us/step - loss: 0.1090\n",
      "Epoch 49/50\n",
      "16558/16558 [==============================] - 1s 62us/step - loss: 0.1090\n",
      "Epoch 50/50\n",
      "16558/16558 [==============================] - 1s 58us/step - loss: 0.1090\n"
     ]
    },
    {
     "data": {
      "image/png": "[encoded data removed]",
      "text/plain": [
       "<Figure size 432x288 with 1 Axes>"
      ]
     },
     "metadata": {
      "needs_background": "light"
     },
     "output_type": "display_data"
    },
    {
     "name": "stdout",
     "output_type": "stream",
     "text": [
      "accuracy score :0.99\n",
      "f1 score :0.00\n",
      "roc auc score :0.50\n",
      "precision score :0.00\n",
      "recall score :0.00\n"
     ]
    },
    {
     "name": "stderr",
     "output_type": "stream",
     "text": [
      "/Users/chenpete/Documents/code/DL/dlenv/lib/python3.7/site-packages/sklearn/metrics/classification.py:1437: UndefinedMetricWarning: F-score is ill-defined and being set to 0.0 due to no predicted samples.\n",
      "  'precision', 'predicted', average, warn_for)\n",
      "/Users/chenpete/Documents/code/DL/dlenv/lib/python3.7/site-packages/sklearn/metrics/classification.py:1437: UndefinedMetricWarning: Precision is ill-defined and being set to 0.0 due to no predicted samples.\n",
      "  'precision', 'predicted', average, warn_for)\n"
     ]
    }
   ],
   "source": [
    "clf_ann = simple_ann_clf()\n",
    "clf_ann.fit(X_train,y_train,batch_size=16,epochs=50)\n",
    "\n",
    "y_pred=clf_ann.predict(X_test)\n",
    "\n",
    "fpr, tpr, thresholds = roc_curve(y_test,y_pred)\n",
    "roc_auc = auc(fpr,tpr)\n",
    "\n",
    "plt.figure()\n",
    "plt.plot(fpr, tpr, color='darkorange',\n",
    "         lw=2, label='ROC curve (area = %0.2f)' % roc_auc)\n",
    "plt.plot([0, 1], [0, 1], color='navy', lw=2, linestyle='--')\n",
    "plt.xlim([0.0, 1.0])\n",
    "plt.ylim([0.0, 1.05])\n",
    "plt.xlabel('False Positive Rate')\n",
    "plt.ylabel('True Positive Rate')\n",
    "plt.title('ROC for reconstruction error classification')\n",
    "plt.legend(loc=\"lower right\")\n",
    "plt.show()\n",
    "\n",
    "print('accuracy score :{:.2f}'.format(accuracy_score(y_test,y_pred)))\n",
    "print('f1 score :{:.2f}'.format(f1_score(y_test,y_pred)))\n",
    "print('roc auc score :{:.2f}'.format((roc_auc)))\n",
    "print('precision score :{:.2f}'.format(precision_score(y_test,y_pred)))\n",
    "print('recall score :{:.2f}'.format(recall_score(y_test,y_pred)))"
   ]
  },
  {
   "cell_type": "code",
   "execution_count": 111,
   "metadata": {},
   "outputs": [
    {
     "data": {
      "text/plain": [
       "array([[1828,    0],\n",
       "       [  12,    0]])"
      ]
     },
     "execution_count": 111,
     "metadata": {},
     "output_type": "execute_result"
    }
   ],
   "source": [
    "confusion_matrix(y_test,y_pred)"
   ]
  },
  {
   "cell_type": "code",
   "execution_count": null,
   "metadata": {},
   "outputs": [],
   "source": []
  }
 ],
 "metadata": {
  "kernelspec": {
   "display_name": "dlenv",
   "language": "python",
   "name": "dlenv"
  },
  "language_info": {
   "codemirror_mode": {
    "name": "ipython",
    "version": 3
   },
   "file_extension": ".py",
   "mimetype": "text/x-python",
   "name": "python",
   "nbconvert_exporter": "python",
   "pygments_lexer": "ipython3",
   "version": "3.7.3"
  }
 },
 "nbformat": 4,
 "nbformat_minor": 2
}
