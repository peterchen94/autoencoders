{
 "cells": [
  {
   "cell_type": "code",
   "execution_count": 1,
   "metadata": {},
   "outputs": [
    {
     "name": "stderr",
     "output_type": "stream",
     "text": [
      "Using TensorFlow backend.\n"
     ]
    }
   ],
   "source": [
    "import pandas as pd\n",
    "import numpy as np\n",
    "import matplotlib.pyplot as plt\n",
    "import os\n",
    "import seaborn as sns\n",
    "from sklearn.preprocessing import StandardScaler, MinMaxScaler\n",
    "from sklearn.model_selection import train_test_split\n",
    "from keras.layers import Input,Dense, Dropout\n",
    "from keras.models import Model,Sequential\n",
    "from sklearn.metrics import roc_curve, auc\n",
    "from sklearn.manifold import TSNE\n",
    "from sklearn.cluster import KMeans\n",
    "from sklearn.metrics import adjusted_mutual_info_score,adjusted_rand_score,v_measure_score, completeness_score, homogeneity_score, silhouette_score,roc_curve, auc, f1_score, precision_recall_curve, precision_score,recall_score,accuracy_score,confusion_matrix\n",
    "import sys\n",
    "sys.path.append('/Users/chenpete/Documents/ESP/practicum/autoencoders/code')\n",
    "\n",
    "from utils import * "
   ]
  },
  {
   "cell_type": "markdown",
   "metadata": {},
   "source": [
    "### Link to Paper"
   ]
  },
  {
   "cell_type": "markdown",
   "metadata": {},
   "source": [
    "https://arxiv.org/pdf/1809.10717.pdf"
   ]
  },
  {
   "cell_type": "code",
   "execution_count": 2,
   "metadata": {},
   "outputs": [],
   "source": [
    "DATA_DIR = '/Users/PeterC/Documents/gt/practicum/autoencoders/data/'\n",
    "DATA_DIR = '/Users/chenpete/Documents/ESP/practicum/autoencoders/data/'\n",
    "\n",
    "non_scale_cols = ['time','y_early','y_rank','y_count','y']\n",
    "param_cols = [\n",
    "        'x1', 'x2', 'x3', 'x4', 'x5', 'x6', 'x7', 'x8', 'x9',\n",
    "       'x10', 'x11', 'x12', 'x13', 'x14', 'x15', 'x16', 'x17', 'x18', 'x19',\n",
    "       'x20', 'x21', 'x22', 'x23', 'x24', 'x25', 'x26', 'x27', 'x28', 'x29',\n",
    "       'x30', 'x31', 'x32', 'x33', 'x34', 'x35', 'x36', 'x37', 'x38', 'x39',\n",
    "       'x40', 'x41', 'x42', 'x43', 'x44', 'x45', 'x46', 'x47', 'x48', 'x49',\n",
    "       'x50', 'x51', 'x52', 'x53', 'x54', 'x55', 'x56', 'x57', 'x58', 'x59',\n",
    "       'x60','x61']\n",
    "\n",
    "y_col = 'y_early'\n",
    "early_step = 4\n",
    "\n",
    "df = pd.read_csv(DATA_DIR + 'paper_mill_rare_events.csv')\n",
    "df['time'] = pd.to_datetime(df['time'])\n",
    "X_train, X_test, y_train, y_test,y_rank_train, y_rank_test,y_count_train, y_count_test = preprocess_data(df,param_cols,y_col, non_scale_cols,early_step)"
   ]
  },
  {
   "cell_type": "markdown",
   "metadata": {},
   "source": [
    "# Model 1: Layer autoencoder"
   ]
  },
  {
   "cell_type": "code",
   "execution_count": 3,
   "metadata": {},
   "outputs": [
    {
     "name": "stdout",
     "output_type": "stream",
     "text": [
      "WARNING:tensorflow:From /Users/chenpete/Documents/code/DL/dlenv/lib/python3.7/site-packages/tensorflow/python/framework/op_def_library.py:263: colocate_with (from tensorflow.python.framework.ops) is deprecated and will be removed in a future version.\n",
      "Instructions for updating:\n",
      "Colocations handled automatically by placer.\n",
      "_________________________________________________________________\n",
      "Layer (type)                 Output Shape              Param #   \n",
      "=================================================================\n",
      "dense_1 (Dense)              (None, 32)                1984      \n",
      "_________________________________________________________________\n",
      "dense_2 (Dense)              (None, 16)                528       \n",
      "_________________________________________________________________\n",
      "dense_3 (Dense)              (None, 32)                544       \n",
      "_________________________________________________________________\n",
      "dense_4 (Dense)              (None, 61)                2013      \n",
      "=================================================================\n",
      "Total params: 5,069\n",
      "Trainable params: 5,069\n",
      "Non-trainable params: 0\n",
      "_________________________________________________________________\n"
     ]
    }
   ],
   "source": [
    "model = simple_ann_autoencoder_regression(param_cols,32,16,32)\n",
    "model.summary()"
   ]
  },
  {
   "cell_type": "code",
   "execution_count": null,
   "metadata": {},
   "outputs": [
    {
     "name": "stdout",
     "output_type": "stream",
     "text": [
      "WARNING:tensorflow:From /Users/chenpete/Documents/code/DL/dlenv/lib/python3.7/site-packages/tensorflow/python/ops/math_ops.py:3066: to_int32 (from tensorflow.python.ops.math_ops) is deprecated and will be removed in a future version.\n",
      "Instructions for updating:\n",
      "Use tf.cast instead.\n",
      "Epoch 1/75\n",
      "16896/16896 [==============================] - 1s 35us/step - loss: 0.4589\n",
      "Epoch 2/75\n",
      "16896/16896 [==============================] - 0s 25us/step - loss: 0.2341\n",
      "Epoch 3/75\n",
      "16896/16896 [==============================] - 0s 25us/step - loss: 0.1867\n",
      "Epoch 4/75\n",
      "16896/16896 [==============================] - 0s 25us/step - loss: 0.1640\n",
      "Epoch 5/75\n",
      "16896/16896 [==============================] - 0s 26us/step - loss: 0.1497\n",
      "Epoch 6/75\n",
      "16896/16896 [==============================] - 0s 26us/step - loss: 0.1390\n",
      "Epoch 7/75\n",
      "16896/16896 [==============================] - 0s 26us/step - loss: 0.1308\n",
      "Epoch 8/75\n",
      "16896/16896 [==============================] - 0s 26us/step - loss: 0.1232\n",
      "Epoch 9/75\n",
      "16896/16896 [==============================] - 0s 26us/step - loss: 0.1169\n",
      "Epoch 10/75\n",
      "16896/16896 [==============================] - 0s 26us/step - loss: 0.1115\n",
      "Epoch 11/75\n",
      "16896/16896 [==============================] - 0s 27us/step - loss: 0.1066\n",
      "Epoch 12/75\n",
      "16896/16896 [==============================] - 0s 27us/step - loss: 0.1030\n",
      "Epoch 13/75\n",
      "16896/16896 [==============================] - 0s 26us/step - loss: 0.0996\n",
      "Epoch 14/75\n",
      "16896/16896 [==============================] - 0s 26us/step - loss: 0.0975\n",
      "Epoch 15/75\n",
      "13504/16896 [======================>.......] - ETA: 0s - loss: 0.0959"
     ]
    }
   ],
   "source": [
    "history_callback = model.fit(X_train,X_train,epochs=75,batch_size = 32)\n",
    "loss_history = history_callback.history['loss']"
   ]
  },
  {
   "cell_type": "code",
   "execution_count": null,
   "metadata": {},
   "outputs": [],
   "source": [
    "model.save('autoencoder_32_16_32.h5')"
   ]
  },
  {
   "cell_type": "code",
   "execution_count": null,
   "metadata": {},
   "outputs": [],
   "source": [
    "plt.plot(loss_history)\n",
    "plt.title('loss history')"
   ]
  },
  {
   "cell_type": "code",
   "execution_count": null,
   "metadata": {},
   "outputs": [],
   "source": [
    "X_pred_test = model.predict(X_test)\n",
    "\n",
    "X_pred_train = model.predict(X_train)\n",
    "\n",
    "df_results_test = results_df(X_test,X_pred_test,y_test,y_rank_test,y_count_test)\n",
    "df_results_train = results_df(X_train,X_pred_train,y_train,y_rank_train,y_count_train)"
   ]
  },
  {
   "cell_type": "markdown",
   "metadata": {},
   "source": [
    "## Assess errors for each time lag"
   ]
  },
  {
   "cell_type": "code",
   "execution_count": null,
   "metadata": {},
   "outputs": [],
   "source": [
    "res_nominal_train = df_results_train[df_results_train['y'] == 0]['residual_avg']\n",
    "\n",
    "average_res_nominal_train = np.mean(res_nominal_train)\n",
    "std_res_nominal_train = np.std(res_nominal_train)\n",
    "threshold_3s = average_res_nominal_train + 3*std_res_nominal_train\n",
    "threshold_5s = average_res_nominal_train + 5*std_res_nominal_train\n",
    "threshold_max = np.max(res_nominal_train)\n",
    "\n",
    "threshold_list = [('3s',threshold_3s),('5s',threshold_5s),('max',threshold_max)]"
   ]
  },
  {
   "cell_type": "markdown",
   "metadata": {},
   "source": [
    "### Training residuals"
   ]
  },
  {
   "cell_type": "code",
   "execution_count": null,
   "metadata": {},
   "outputs": [],
   "source": [
    "plt.figure()\n",
    "sns.distplot(df_results_train['residual_avg'],norm_hist=True,kde=False,color='blue')\n",
    "plt.xlim((0,1))"
   ]
  },
  {
   "cell_type": "code",
   "execution_count": null,
   "metadata": {},
   "outputs": [],
   "source": [
    "for rank in range(1,np.max(df_results_test['y_rank'])+1):\n",
    "    \n",
    "    print('\\n------------------ early time step of {}----------------------------'.format(rank))\n",
    "    \n",
    "    df_results_rank= df_results_test[(df_results_test['y_rank']==rank) | (df_results_test['y_rank']==0)]\n",
    "    res_nominal_test = df_results_rank[df_results_rank['y'] == 0]['residual_avg']\n",
    "    res_failures_test = df_results_rank[df_results_rank['y_rank'] == rank]['residual_avg']\n",
    "    \n",
    "    plt.figure()\n",
    "    sns.distplot(res_failures_test,norm_hist=True,kde=False,color='red')\n",
    "    sns.distplot(res_nominal_test,norm_hist=True,kde=False,color='blue')\n",
    "    plt.legend(['failure residuals','non failure residuals'])\n",
    "    plt.title('distribution of average residuals')\n",
    "\n",
    "    y_true = np.array(df_results_rank['y'])\n",
    "    y_pred_proba = np.array(df_results_rank['residual_avg']/np.max(df_results_rank['residual_avg']))\n",
    "\n",
    "    plot_roc(y_true,y_pred_proba)\n",
    "    \n",
    "    for name,threshold in threshold_list:\n",
    "        print('\\n\\n------ Using threshold {}---------------'.format(name))\n",
    "        y_pred_threshold = np.where(df_results_rank['residual_avg'] > threshold, 1, 0)\n",
    "        \n",
    "        print('accuracy = {:.3f}'.format(accuracy_score(y_true,y_pred_threshold)))\n",
    "        print('precision = {:.3f}'.format(precision_score(y_true,y_pred_threshold)))\n",
    "        print('recall = {:.3f}'.format(recall_score(y_true,y_pred_threshold)))\n",
    "        print('f1 = {:.3f}'.format(f1_score(y_true,y_pred_threshold)))\n"
   ]
  },
  {
   "cell_type": "code",
   "execution_count": null,
   "metadata": {},
   "outputs": [],
   "source": [
    "sns.boxplot(x='y_rank',y='residual_avg',data=df_results_test)\n",
    "plt.ylim((0,.75))"
   ]
  },
  {
   "cell_type": "code",
   "execution_count": null,
   "metadata": {},
   "outputs": [],
   "source": []
  },
  {
   "cell_type": "code",
   "execution_count": null,
   "metadata": {},
   "outputs": [],
   "source": []
  },
  {
   "cell_type": "code",
   "execution_count": null,
   "metadata": {},
   "outputs": [],
   "source": []
  }
 ],
 "metadata": {
  "kernelspec": {
   "display_name": "dlenv",
   "language": "python",
   "name": "dlenv"
  },
  "language_info": {
   "codemirror_mode": {
    "name": "ipython",
    "version": 3
   },
   "file_extension": ".py",
   "mimetype": "text/x-python",
   "name": "python",
   "nbconvert_exporter": "python",
   "pygments_lexer": "ipython3",
   "version": "3.7.3"
  }
 },
 "nbformat": 4,
 "nbformat_minor": 2
}
