{
 "cells": [
  {
   "cell_type": "code",
   "execution_count": 115,
   "metadata": {},
   "outputs": [],
   "source": [
    "import pandas as pd\n",
    "import numpy as np\n",
    "import matplotlib.pyplot as plt\n",
    "import os\n",
    "import seaborn as sns\n",
    "from sklearn.preprocessing import StandardScaler, MinMaxScaler\n",
    "from sklearn.model_selection import train_test_split\n",
    "from keras.layers import Input,Dense, Dropout\n",
    "from keras.models import Model,Sequential"
   ]
  },
  {
   "cell_type": "markdown",
   "metadata": {},
   "source": [
    "https://arxiv.org/pdf/1809.10717.pdf"
   ]
  },
  {
   "cell_type": "code",
   "execution_count": 62,
   "metadata": {},
   "outputs": [],
   "source": [
    "DATA_DIR = '/Users/chenpete/Documents/Data/rare_events/'\n",
    "df = pd.read_csv(DATA_DIR + 'paper_mill_rare_events.csv')\n",
    "df['time'] = pd.to_datetime(df['time'])"
   ]
  },
  {
   "cell_type": "code",
   "execution_count": 63,
   "metadata": {},
   "outputs": [
    {
     "data": {
      "text/html": [
       "<div>\n",
       "<style scoped>\n",
       "    .dataframe tbody tr th:only-of-type {\n",
       "        vertical-align: middle;\n",
       "    }\n",
       "\n",
       "    .dataframe tbody tr th {\n",
       "        vertical-align: top;\n",
       "    }\n",
       "\n",
       "    .dataframe thead th {\n",
       "        text-align: right;\n",
       "    }\n",
       "</style>\n",
       "<table border=\"1\" class=\"dataframe\">\n",
       "  <thead>\n",
       "    <tr style=\"text-align: right;\">\n",
       "      <th></th>\n",
       "      <th>time</th>\n",
       "      <th>y</th>\n",
       "      <th>x1</th>\n",
       "      <th>x2</th>\n",
       "      <th>x3</th>\n",
       "      <th>x4</th>\n",
       "      <th>x5</th>\n",
       "      <th>x6</th>\n",
       "      <th>x7</th>\n",
       "      <th>x8</th>\n",
       "      <th>...</th>\n",
       "      <th>x52</th>\n",
       "      <th>x53</th>\n",
       "      <th>x54</th>\n",
       "      <th>x55</th>\n",
       "      <th>x56</th>\n",
       "      <th>x57</th>\n",
       "      <th>x58</th>\n",
       "      <th>x59</th>\n",
       "      <th>x60</th>\n",
       "      <th>x61</th>\n",
       "    </tr>\n",
       "  </thead>\n",
       "  <tbody>\n",
       "    <tr>\n",
       "      <th>0</th>\n",
       "      <td>1999-05-01 00:00:00</td>\n",
       "      <td>0</td>\n",
       "      <td>0.376665</td>\n",
       "      <td>-4.596435</td>\n",
       "      <td>-4.095756</td>\n",
       "      <td>13.497687</td>\n",
       "      <td>-0.118830</td>\n",
       "      <td>-20.669883</td>\n",
       "      <td>0.000732</td>\n",
       "      <td>-0.061114</td>\n",
       "      <td>...</td>\n",
       "      <td>10.091721</td>\n",
       "      <td>0.053279</td>\n",
       "      <td>-4.936434</td>\n",
       "      <td>-24.590146</td>\n",
       "      <td>18.515436</td>\n",
       "      <td>3.473400</td>\n",
       "      <td>0.033444</td>\n",
       "      <td>0.953219</td>\n",
       "      <td>0.006076</td>\n",
       "      <td>0</td>\n",
       "    </tr>\n",
       "    <tr>\n",
       "      <th>1</th>\n",
       "      <td>1999-05-01 00:02:00</td>\n",
       "      <td>0</td>\n",
       "      <td>0.475720</td>\n",
       "      <td>-4.542502</td>\n",
       "      <td>-4.018359</td>\n",
       "      <td>16.230659</td>\n",
       "      <td>-0.128733</td>\n",
       "      <td>-18.758079</td>\n",
       "      <td>0.000732</td>\n",
       "      <td>-0.061114</td>\n",
       "      <td>...</td>\n",
       "      <td>10.095871</td>\n",
       "      <td>0.062801</td>\n",
       "      <td>-4.937179</td>\n",
       "      <td>-32.413266</td>\n",
       "      <td>22.760065</td>\n",
       "      <td>2.682933</td>\n",
       "      <td>0.033536</td>\n",
       "      <td>1.090502</td>\n",
       "      <td>0.006083</td>\n",
       "      <td>0</td>\n",
       "    </tr>\n",
       "    <tr>\n",
       "      <th>2</th>\n",
       "      <td>1999-05-01 00:04:00</td>\n",
       "      <td>0</td>\n",
       "      <td>0.363848</td>\n",
       "      <td>-4.681394</td>\n",
       "      <td>-4.353147</td>\n",
       "      <td>14.127998</td>\n",
       "      <td>-0.138636</td>\n",
       "      <td>-17.836632</td>\n",
       "      <td>0.010803</td>\n",
       "      <td>-0.061114</td>\n",
       "      <td>...</td>\n",
       "      <td>10.100265</td>\n",
       "      <td>0.072322</td>\n",
       "      <td>-4.937924</td>\n",
       "      <td>-34.183774</td>\n",
       "      <td>27.004663</td>\n",
       "      <td>3.537487</td>\n",
       "      <td>0.033629</td>\n",
       "      <td>1.840540</td>\n",
       "      <td>0.006090</td>\n",
       "      <td>0</td>\n",
       "    </tr>\n",
       "    <tr>\n",
       "      <th>3</th>\n",
       "      <td>1999-05-01 00:06:00</td>\n",
       "      <td>0</td>\n",
       "      <td>0.301590</td>\n",
       "      <td>-4.758934</td>\n",
       "      <td>-4.023612</td>\n",
       "      <td>13.161567</td>\n",
       "      <td>-0.148142</td>\n",
       "      <td>-18.517601</td>\n",
       "      <td>0.002075</td>\n",
       "      <td>-0.061114</td>\n",
       "      <td>...</td>\n",
       "      <td>10.104660</td>\n",
       "      <td>0.081600</td>\n",
       "      <td>-4.938669</td>\n",
       "      <td>-35.954281</td>\n",
       "      <td>21.672449</td>\n",
       "      <td>3.986095</td>\n",
       "      <td>0.033721</td>\n",
       "      <td>2.554880</td>\n",
       "      <td>0.006097</td>\n",
       "      <td>0</td>\n",
       "    </tr>\n",
       "    <tr>\n",
       "      <th>4</th>\n",
       "      <td>1999-05-01 00:08:00</td>\n",
       "      <td>0</td>\n",
       "      <td>0.265578</td>\n",
       "      <td>-4.749928</td>\n",
       "      <td>-4.333150</td>\n",
       "      <td>15.267340</td>\n",
       "      <td>-0.155314</td>\n",
       "      <td>-17.505913</td>\n",
       "      <td>0.000732</td>\n",
       "      <td>-0.061114</td>\n",
       "      <td>...</td>\n",
       "      <td>10.109054</td>\n",
       "      <td>0.091121</td>\n",
       "      <td>-4.939414</td>\n",
       "      <td>-37.724789</td>\n",
       "      <td>21.907251</td>\n",
       "      <td>3.601573</td>\n",
       "      <td>0.033777</td>\n",
       "      <td>1.410494</td>\n",
       "      <td>0.006105</td>\n",
       "      <td>0</td>\n",
       "    </tr>\n",
       "  </tbody>\n",
       "</table>\n",
       "<p>5 rows × 63 columns</p>\n",
       "</div>"
      ],
      "text/plain": [
       "                 time  y        x1        x2        x3         x4        x5  \\\n",
       "0 1999-05-01 00:00:00  0  0.376665 -4.596435 -4.095756  13.497687 -0.118830   \n",
       "1 1999-05-01 00:02:00  0  0.475720 -4.542502 -4.018359  16.230659 -0.128733   \n",
       "2 1999-05-01 00:04:00  0  0.363848 -4.681394 -4.353147  14.127998 -0.138636   \n",
       "3 1999-05-01 00:06:00  0  0.301590 -4.758934 -4.023612  13.161567 -0.148142   \n",
       "4 1999-05-01 00:08:00  0  0.265578 -4.749928 -4.333150  15.267340 -0.155314   \n",
       "\n",
       "          x6        x7        x8  ...        x52       x53       x54  \\\n",
       "0 -20.669883  0.000732 -0.061114  ...  10.091721  0.053279 -4.936434   \n",
       "1 -18.758079  0.000732 -0.061114  ...  10.095871  0.062801 -4.937179   \n",
       "2 -17.836632  0.010803 -0.061114  ...  10.100265  0.072322 -4.937924   \n",
       "3 -18.517601  0.002075 -0.061114  ...  10.104660  0.081600 -4.938669   \n",
       "4 -17.505913  0.000732 -0.061114  ...  10.109054  0.091121 -4.939414   \n",
       "\n",
       "         x55        x56       x57       x58       x59       x60  x61  \n",
       "0 -24.590146  18.515436  3.473400  0.033444  0.953219  0.006076    0  \n",
       "1 -32.413266  22.760065  2.682933  0.033536  1.090502  0.006083    0  \n",
       "2 -34.183774  27.004663  3.537487  0.033629  1.840540  0.006090    0  \n",
       "3 -35.954281  21.672449  3.986095  0.033721  2.554880  0.006097    0  \n",
       "4 -37.724789  21.907251  3.601573  0.033777  1.410494  0.006105    0  \n",
       "\n",
       "[5 rows x 63 columns]"
      ]
     },
     "execution_count": 63,
     "metadata": {},
     "output_type": "execute_result"
    }
   ],
   "source": [
    "df.head()"
   ]
  },
  {
   "cell_type": "markdown",
   "metadata": {},
   "source": [
    "## Lots of class imbalance (rare events)"
   ]
  },
  {
   "cell_type": "code",
   "execution_count": 64,
   "metadata": {},
   "outputs": [
    {
     "data": {
      "text/plain": [
       "0    18274\n",
       "1      124\n",
       "Name: y, dtype: int64"
      ]
     },
     "execution_count": 64,
     "metadata": {},
     "output_type": "execute_result"
    }
   ],
   "source": [
    "df['y'].value_counts()"
   ]
  },
  {
   "cell_type": "markdown",
   "metadata": {},
   "source": [
    "## Scale datasets with both standard and minmax scaler"
   ]
  },
  {
   "cell_type": "code",
   "execution_count": 117,
   "metadata": {},
   "outputs": [],
   "source": [
    "non_scale_cols = ['time','y']\n",
    "param_cols = [\n",
    "        'x1', 'x2', 'x3', 'x4', 'x5', 'x6', 'x7', 'x8', 'x9',\n",
    "       'x10', 'x11', 'x12', 'x13', 'x14', 'x15', 'x16', 'x17', 'x18', 'x19',\n",
    "       'x20', 'x21', 'x22', 'x23', 'x24', 'x25', 'x26', 'x27', 'x29',\n",
    "       'x30', 'x31', 'x32', 'x33', 'x34', 'x35', 'x36', 'x37', 'x38', 'x39',\n",
    "       'x40', 'x41', 'x42', 'x43', 'x44', 'x45', 'x46', 'x47', 'x48', 'x49',\n",
    "       'x50', 'x51', 'x52', 'x53', 'x54', 'x55', 'x56', 'x57', 'x58', 'x59',\n",
    "       'x60'\n",
    "]\n",
    "sc_std = StandardScaler()\n",
    "df_scaled_std = pd.DataFrame(data = sc_std.fit_transform(df[param_cols]),columns=param_cols)\n",
    "df_scaled_std = pd.concat([df[non_scale_cols],df_scaled_std],axis=1)\n",
    "\n",
    "sc_minmax = MinMaxScaler()\n",
    "df_scaled_minmax = pd.DataFrame(data = sc_minmax.fit_transform(df[param_cols]),columns=param_cols)\n",
    "df_scaled_minmax = pd.concat([df[non_scale_cols],df_scaled_minmax],axis=1)"
   ]
  },
  {
   "cell_type": "markdown",
   "metadata": {},
   "source": [
    "### Plot standard scaled"
   ]
  },
  {
   "cell_type": "code",
   "execution_count": 118,
   "metadata": {},
   "outputs": [],
   "source": [
    "%%capture\n",
    "for col in param_cols:\n",
    "    plt.figure(figsize=(10,5))\n",
    "    plt.plot(df_scaled_std['time'],df_scaled_std[col])\n",
    "    for time in list(df_scaled_std[df_scaled_std['y']==1]['time']):\n",
    "        plt.axvline(time,color='red',linewidth=.2)\n",
    "    plt.xticks(rotation=45)\n",
    "    plt.title(col)\n",
    "    plt.xlim(['1999-04-30','1999-05-30'])\n",
    "    plt.savefig(DATA_DIR +'plots/std_scaled_{}.png'.format(col))"
   ]
  },
  {
   "cell_type": "markdown",
   "metadata": {},
   "source": [
    "## Plot Min Max"
   ]
  },
  {
   "cell_type": "code",
   "execution_count": 120,
   "metadata": {},
   "outputs": [],
   "source": [
    "%%capture\n",
    "for col in param_cols:\n",
    "    plt.figure(figsize=(10,5))\n",
    "    plt.plot(df_scaled_minmax['time'],df_scaled_minmax[col])\n",
    "    for time in list(df_scaled_minmax[df_scaled_minmax['y']==1]['time']):\n",
    "        plt.axvline(time,color='red',linewidth=.2)\n",
    "    plt.xticks(rotation=45)\n",
    "    plt.title(col)\n",
    "    plt.xlim(['1999-04-30','1999-05-30'])\n",
    "    plt.savefig(DATA_DIR +'plots/minmax_scaled_{}.png'.format(col))"
   ]
  },
  {
   "cell_type": "code",
   "execution_count": 197,
   "metadata": {},
   "outputs": [],
   "source": [
    "X_nominal_std = df_scaled_std[df_scaled_std['y'] == 0][param_cols]\n",
    "X_event_std = df_scaled_std[df_scaled_std['y'] == 1][param_cols]\n",
    "\n",
    "X_nominal_minmax = df_scaled_minmax[df_scaled_minmax['y'] == 0][param_cols]\n",
    "X_event_minmax = df_scaled_minmax[df_scaled_minmax['y'] == 1][param_cols]\n",
    "\n",
    "\n",
    "y_nominal = df_scaled_std[df_scaled_std['y'] == 0]['y']\n",
    "y_event = df_scaled_std[df_scaled_std['y'] == 1]['y']"
   ]
  },
  {
   "cell_type": "code",
   "execution_count": 141,
   "metadata": {},
   "outputs": [
    {
     "data": {
      "text/plain": [
       "(18274, 62)"
      ]
     },
     "execution_count": 141,
     "metadata": {},
     "output_type": "execute_result"
    }
   ],
   "source": [
    "df_nominal_std.shape"
   ]
  },
  {
   "cell_type": "code",
   "execution_count": 142,
   "metadata": {},
   "outputs": [
    {
     "data": {
      "text/plain": [
       "(124, 62)"
      ]
     },
     "execution_count": 142,
     "metadata": {},
     "output_type": "execute_result"
    }
   ],
   "source": [
    "df_event_std.shape"
   ]
  },
  {
   "cell_type": "code",
   "execution_count": 143,
   "metadata": {},
   "outputs": [],
   "source": [
    "X_train_std, X_test_std, y_train_std, y_test_std = train_test_split(X_nominal_std, y_nominal_std, test_size=0.2, random_state=0)"
   ]
  },
  {
   "cell_type": "code",
   "execution_count": 196,
   "metadata": {},
   "outputs": [
    {
     "ename": "NameError",
     "evalue": "name 'X_nominal_minmax' is not defined",
     "output_type": "error",
     "traceback": [
      "\u001b[0;31m---------------------------------------------------------------------------\u001b[0m",
      "\u001b[0;31mNameError\u001b[0m                                 Traceback (most recent call last)",
      "\u001b[0;32m<ipython-input-196-3e5af1da93c1>\u001b[0m in \u001b[0;36m<module>\u001b[0;34m\u001b[0m\n\u001b[0;32m----> 1\u001b[0;31m \u001b[0mX_train_minmax\u001b[0m\u001b[0;34m,\u001b[0m \u001b[0mX_test_minmax\u001b[0m\u001b[0;34m,\u001b[0m \u001b[0my_train_minmax\u001b[0m\u001b[0;34m,\u001b[0m \u001b[0my_test_minmax\u001b[0m \u001b[0;34m=\u001b[0m \u001b[0mtrain_test_split\u001b[0m\u001b[0;34m(\u001b[0m\u001b[0mX_nominal_minmax\u001b[0m\u001b[0;34m,\u001b[0m \u001b[0my_nominal_minmax\u001b[0m\u001b[0;34m,\u001b[0m \u001b[0mtest_size\u001b[0m\u001b[0;34m=\u001b[0m\u001b[0;36m0.2\u001b[0m\u001b[0;34m,\u001b[0m \u001b[0mrandom_state\u001b[0m\u001b[0;34m=\u001b[0m\u001b[0;36m0\u001b[0m\u001b[0;34m)\u001b[0m\u001b[0;34m\u001b[0m\u001b[0;34m\u001b[0m\u001b[0m\n\u001b[0m",
      "\u001b[0;31mNameError\u001b[0m: name 'X_nominal_minmax' is not defined"
     ]
    }
   ],
   "source": [
    "X_train_minmax, X_test_minmax, y_train_minmax, y_test_minmax = train_test_split(X_nominal_minmax, y_nominal_minmax, test_size=0.2, random_state=0)"
   ]
  },
  {
   "cell_type": "code",
   "execution_count": 144,
   "metadata": {},
   "outputs": [
    {
     "data": {
      "text/plain": [
       "(3655, 59)"
      ]
     },
     "execution_count": 144,
     "metadata": {},
     "output_type": "execute_result"
    }
   ],
   "source": [
    "X_test.shape"
   ]
  },
  {
   "cell_type": "code",
   "execution_count": 145,
   "metadata": {},
   "outputs": [],
   "source": [
    "X_test = X_test.append(X_event)\n",
    "y_test =y_test.append(y_event)"
   ]
  },
  {
   "cell_type": "code",
   "execution_count": 146,
   "metadata": {},
   "outputs": [
    {
     "data": {
      "text/plain": [
       "(3779, 59)"
      ]
     },
     "execution_count": 146,
     "metadata": {},
     "output_type": "execute_result"
    }
   ],
   "source": [
    "X_test.shape"
   ]
  },
  {
   "cell_type": "code",
   "execution_count": 147,
   "metadata": {},
   "outputs": [
    {
     "data": {
      "text/plain": [
       "(3779,)"
      ]
     },
     "execution_count": 147,
     "metadata": {},
     "output_type": "execute_result"
    }
   ],
   "source": [
    "y_test.shape"
   ]
  },
  {
   "cell_type": "code",
   "execution_count": 124,
   "metadata": {},
   "outputs": [],
   "source": [
    "def simple_ann_autoencoder_regression():\n",
    "    model = Sequential()\n",
    "    model.add(Dense(units = 32,activation='relu',input_shape = (len(param_cols),)))\n",
    "    model.add(Dense(units = len(param_cols),activation='linear'))\n",
    "    model.compile(optimizer='adam', loss='mse')\n",
    "    return model\n",
    "\n",
    "def simple_ann_autoencoder_classification():\n",
    "    model = Sequential()\n",
    "    model.add(Dense(units = 32,activation='relu',input_shape = (len(param_cols),)))\n",
    "    model.add(Dense(units = len(param_cols),activation='sigmoid'))\n",
    "    model.compile(optimizer='adam', loss='binary_crossentropy',)\n",
    "    return model"
   ]
  },
  {
   "cell_type": "code",
   "execution_count": 163,
   "metadata": {},
   "outputs": [],
   "source": [
    "def results_df(X_true,X_pred,y_test):\n",
    "    residual = X_pred - X_true\n",
    "    residual_avg = np.mean(residual,axis=1)\n",
    "    df = pd.DataFrame(data = {'residual_avg':residual_avg,'y':y_test})\n",
    "    return df\n",
    "\n",
    "def plot_results_hist(df_results):\n",
    "    plt.figure()\n",
    "    sns.distplot(df_results[df_results['y']==1]['residual_avg'],norm_hist=True)\n",
    "    sns.distplot(df_results[df_results['y']==0]['residual_avg'],norm_hist=True)\n",
    "    plt.legend(['event_residuals_avg','nominal_residuals_avg'])\n",
    "    plt.title('distribution of average residuals')\n",
    "    \n",
    "def plot_results_violin(df_results):\n",
    "    plt.figure()\n",
    "    sns.violinplot(x='y',y='residual_avg',data=df_results)"
   ]
  },
  {
   "cell_type": "markdown",
   "metadata": {},
   "source": [
    "# Model 1: Layer autoencoder - standard scaler (regression"
   ]
  },
  {
   "cell_type": "code",
   "execution_count": 125,
   "metadata": {},
   "outputs": [],
   "source": [
    "model1 = simple_ann_autoencoder_regression()\n",
    "model1.summary()"
   ]
  },
  {
   "cell_type": "code",
   "execution_count": 127,
   "metadata": {},
   "outputs": [
    {
     "name": "stdout",
     "output_type": "stream",
     "text": [
      "Epoch 1/100\n",
      "14619/14619 [==============================] - 1s 56us/step - loss: 0.0390\n",
      "Epoch 2/100\n",
      "14619/14619 [==============================] - 1s 50us/step - loss: 0.0386\n",
      "Epoch 3/100\n",
      "14619/14619 [==============================] - 1s 50us/step - loss: 0.0386\n",
      "Epoch 4/100\n",
      "14619/14619 [==============================] - 1s 50us/step - loss: 0.0383\n",
      "Epoch 5/100\n",
      "14619/14619 [==============================] - 1s 50us/step - loss: 0.0384\n",
      "Epoch 6/100\n",
      "14619/14619 [==============================] - 1s 51us/step - loss: 0.0385\n",
      "Epoch 7/100\n",
      "14619/14619 [==============================] - 1s 52us/step - loss: 0.0383\n",
      "Epoch 8/100\n",
      "14619/14619 [==============================] - 1s 51us/step - loss: 0.0383\n",
      "Epoch 9/100\n",
      "14619/14619 [==============================] - 1s 51us/step - loss: 0.0385\n",
      "Epoch 10/100\n",
      "14619/14619 [==============================] - 1s 51us/step - loss: 0.0387\n",
      "Epoch 11/100\n",
      "14619/14619 [==============================] - 1s 51us/step - loss: 0.0385\n",
      "Epoch 12/100\n",
      "14619/14619 [==============================] - 1s 51us/step - loss: 0.0383\n",
      "Epoch 13/100\n",
      "14619/14619 [==============================] - 1s 51us/step - loss: 0.0384\n",
      "Epoch 14/100\n",
      "14619/14619 [==============================] - 1s 51us/step - loss: 0.0383\n",
      "Epoch 15/100\n",
      "14619/14619 [==============================] - 1s 52us/step - loss: 0.0385\n",
      "Epoch 16/100\n",
      "14619/14619 [==============================] - 1s 52us/step - loss: 0.0383\n",
      "Epoch 17/100\n",
      "14619/14619 [==============================] - 1s 51us/step - loss: 0.0383\n",
      "Epoch 18/100\n",
      "14619/14619 [==============================] - 1s 51us/step - loss: 0.0385\n",
      "Epoch 19/100\n",
      "14619/14619 [==============================] - 1s 49us/step - loss: 0.0385\n",
      "Epoch 20/100\n",
      "14619/14619 [==============================] - 1s 50us/step - loss: 0.0384\n",
      "Epoch 21/100\n",
      "14619/14619 [==============================] - 1s 48us/step - loss: 0.0384\n",
      "Epoch 22/100\n",
      "14619/14619 [==============================] - 1s 48us/step - loss: 0.0387\n",
      "Epoch 23/100\n",
      "14619/14619 [==============================] - 1s 47us/step - loss: 0.0387\n",
      "Epoch 24/100\n",
      "14619/14619 [==============================] - 1s 49us/step - loss: 0.0382\n",
      "Epoch 25/100\n",
      "14619/14619 [==============================] - 1s 50us/step - loss: 0.0384\n",
      "Epoch 26/100\n",
      "14619/14619 [==============================] - 1s 49us/step - loss: 0.0382\n",
      "Epoch 27/100\n",
      "14619/14619 [==============================] - 1s 51us/step - loss: 0.0387\n",
      "Epoch 28/100\n",
      "14619/14619 [==============================] - 1s 50us/step - loss: 0.0383\n",
      "Epoch 29/100\n",
      "14619/14619 [==============================] - 1s 50us/step - loss: 0.0385\n",
      "Epoch 30/100\n",
      "14619/14619 [==============================] - 1s 49us/step - loss: 0.0383\n",
      "Epoch 31/100\n",
      "14619/14619 [==============================] - 1s 50us/step - loss: 0.0385\n",
      "Epoch 32/100\n",
      "14619/14619 [==============================] - 1s 50us/step - loss: 0.0383\n",
      "Epoch 33/100\n",
      "14619/14619 [==============================] - 1s 50us/step - loss: 0.0384\n",
      "Epoch 34/100\n",
      "14619/14619 [==============================] - 1s 50us/step - loss: 0.0387\n",
      "Epoch 35/100\n",
      "14619/14619 [==============================] - 1s 50us/step - loss: 0.0383\n",
      "Epoch 36/100\n",
      "14619/14619 [==============================] - 1s 52us/step - loss: 0.0383\n",
      "Epoch 37/100\n",
      "14619/14619 [==============================] - 1s 50us/step - loss: 0.0383\n",
      "Epoch 38/100\n",
      "14619/14619 [==============================] - 1s 51us/step - loss: 0.0384\n",
      "Epoch 39/100\n",
      "14619/14619 [==============================] - 1s 50us/step - loss: 0.0386\n",
      "Epoch 40/100\n",
      "14619/14619 [==============================] - 1s 50us/step - loss: 0.0382\n",
      "Epoch 41/100\n",
      "14619/14619 [==============================] - 1s 50us/step - loss: 0.0385\n",
      "Epoch 42/100\n",
      "14619/14619 [==============================] - 1s 50us/step - loss: 0.0383\n",
      "Epoch 43/100\n",
      "14619/14619 [==============================] - 1s 51us/step - loss: 0.0382\n",
      "Epoch 44/100\n",
      "14619/14619 [==============================] - 1s 51us/step - loss: 0.0383\n",
      "Epoch 45/100\n",
      "14619/14619 [==============================] - 1s 51us/step - loss: 0.0388\n",
      "Epoch 46/100\n",
      "14619/14619 [==============================] - 1s 51us/step - loss: 0.0386\n",
      "Epoch 47/100\n",
      "14619/14619 [==============================] - 1s 51us/step - loss: 0.0381\n",
      "Epoch 48/100\n",
      "14619/14619 [==============================] - 1s 51us/step - loss: 0.0384\n",
      "Epoch 49/100\n",
      "14619/14619 [==============================] - 1s 51us/step - loss: 0.0386\n",
      "Epoch 50/100\n",
      "14619/14619 [==============================] - 1s 52us/step - loss: 0.0381\n",
      "Epoch 51/100\n",
      "14619/14619 [==============================] - 1s 51us/step - loss: 0.0383\n",
      "Epoch 52/100\n",
      "14619/14619 [==============================] - 1s 52us/step - loss: 0.0381\n",
      "Epoch 53/100\n",
      "14619/14619 [==============================] - 1s 51us/step - loss: 0.0386\n",
      "Epoch 54/100\n",
      "14619/14619 [==============================] - 1s 52us/step - loss: 0.0383\n",
      "Epoch 55/100\n",
      "14619/14619 [==============================] - 1s 53us/step - loss: 0.0385\n",
      "Epoch 56/100\n",
      "14619/14619 [==============================] - 1s 53us/step - loss: 0.0383\n",
      "Epoch 57/100\n",
      "14619/14619 [==============================] - 1s 53us/step - loss: 0.0384\n",
      "Epoch 58/100\n",
      "14619/14619 [==============================] - 1s 53us/step - loss: 0.0383\n",
      "Epoch 59/100\n",
      "14619/14619 [==============================] - 1s 53us/step - loss: 0.0382\n",
      "Epoch 60/100\n",
      "14619/14619 [==============================] - 1s 54us/step - loss: 0.0386\n",
      "Epoch 61/100\n",
      "14619/14619 [==============================] - 1s 53us/step - loss: 0.0382\n",
      "Epoch 62/100\n",
      "14619/14619 [==============================] - 1s 53us/step - loss: 0.0384\n",
      "Epoch 63/100\n",
      "14619/14619 [==============================] - 1s 53us/step - loss: 0.0384\n",
      "Epoch 64/100\n",
      "14619/14619 [==============================] - 1s 54us/step - loss: 0.0384\n",
      "Epoch 65/100\n",
      "14619/14619 [==============================] - 1s 53us/step - loss: 0.0389\n",
      "Epoch 66/100\n",
      "14619/14619 [==============================] - 1s 53us/step - loss: 0.0384\n",
      "Epoch 67/100\n",
      "14619/14619 [==============================] - 1s 53us/step - loss: 0.0383\n",
      "Epoch 68/100\n",
      "14619/14619 [==============================] - 1s 53us/step - loss: 0.0383\n",
      "Epoch 69/100\n",
      "14619/14619 [==============================] - 1s 54us/step - loss: 0.0384\n",
      "Epoch 70/100\n",
      "14619/14619 [==============================] - 1s 53us/step - loss: 0.0382\n",
      "Epoch 71/100\n",
      "14619/14619 [==============================] - 1s 53us/step - loss: 0.0384\n",
      "Epoch 72/100\n",
      "14619/14619 [==============================] - 1s 53us/step - loss: 0.0382\n",
      "Epoch 73/100\n",
      "14619/14619 [==============================] - 1s 53us/step - loss: 0.0383\n",
      "Epoch 74/100\n",
      "14619/14619 [==============================] - 1s 53us/step - loss: 0.0384\n",
      "Epoch 75/100\n",
      "14619/14619 [==============================] - 1s 53us/step - loss: 0.0385\n",
      "Epoch 76/100\n",
      "14619/14619 [==============================] - 1s 53us/step - loss: 0.0381\n",
      "Epoch 77/100\n",
      "14619/14619 [==============================] - 1s 53us/step - loss: 0.0387\n",
      "Epoch 78/100\n",
      "14619/14619 [==============================] - 1s 53us/step - loss: 0.0381\n",
      "Epoch 79/100\n",
      "14619/14619 [==============================] - 1s 53us/step - loss: 0.0381\n",
      "Epoch 80/100\n",
      "14619/14619 [==============================] - 1s 53us/step - loss: 0.0383\n",
      "Epoch 81/100\n",
      "14619/14619 [==============================] - 1s 54us/step - loss: 0.0383\n",
      "Epoch 82/100\n",
      "14619/14619 [==============================] - 1s 53us/step - loss: 0.0383\n",
      "Epoch 83/100\n",
      "14619/14619 [==============================] - 1s 59us/step - loss: 0.0382\n",
      "Epoch 84/100\n",
      "14619/14619 [==============================] - 1s 56us/step - loss: 0.0382\n",
      "Epoch 85/100\n",
      "14619/14619 [==============================] - 1s 54us/step - loss: 0.0383\n",
      "Epoch 86/100\n",
      "14619/14619 [==============================] - 1s 53us/step - loss: 0.0381\n",
      "Epoch 87/100\n",
      "14619/14619 [==============================] - 1s 53us/step - loss: 0.0386\n",
      "Epoch 88/100\n",
      "14619/14619 [==============================] - 1s 53us/step - loss: 0.0380\n",
      "Epoch 89/100\n",
      "14619/14619 [==============================] - 1s 53us/step - loss: 0.0384\n",
      "Epoch 90/100\n",
      "14619/14619 [==============================] - 1s 53us/step - loss: 0.0384\n",
      "Epoch 91/100\n",
      "14619/14619 [==============================] - 1s 52us/step - loss: 0.0383\n",
      "Epoch 92/100\n",
      "14619/14619 [==============================] - 1s 53us/step - loss: 0.0383\n",
      "Epoch 93/100\n",
      "14619/14619 [==============================] - 1s 54us/step - loss: 0.0384\n",
      "Epoch 94/100\n",
      "14619/14619 [==============================] - 1s 54us/step - loss: 0.0381\n",
      "Epoch 95/100\n",
      "14619/14619 [==============================] - 1s 55us/step - loss: 0.0385\n",
      "Epoch 96/100\n",
      "14619/14619 [==============================] - 1s 55us/step - loss: 0.0385\n",
      "Epoch 97/100\n",
      "14619/14619 [==============================] - 1s 55us/step - loss: 0.0381\n",
      "Epoch 98/100\n",
      "14619/14619 [==============================] - 1s 55us/step - loss: 0.0384\n",
      "Epoch 99/100\n",
      "14619/14619 [==============================] - 1s 54us/step - loss: 0.0383\n",
      "Epoch 100/100\n",
      "14619/14619 [==============================] - 1s 56us/step - loss: 0.0383\n"
     ]
    }
   ],
   "source": [
    "history_callback1 = model1.fit(X_train,X_train,epochs=100,batch_size = 12)\n",
    "loss_history1 = history_callback1.history['loss']"
   ]
  },
  {
   "cell_type": "code",
   "execution_count": 128,
   "metadata": {},
   "outputs": [
    {
     "data": {
      "text/plain": [
       "[<matplotlib.lines.Line2D at 0x13a3fb080>]"
      ]
     },
     "execution_count": 128,
     "metadata": {},
     "output_type": "execute_result"
    },
    {
     "data": {
      "image/png": "[encoded data removed]",
      "text/plain": [
       "<Figure size 432x288 with 1 Axes>"
      ]
     },
     "metadata": {
      "needs_background": "light"
     },
     "output_type": "display_data"
    }
   ],
   "source": [
    "plt.plot(loss_history1)"
   ]
  },
  {
   "cell_type": "code",
   "execution_count": 160,
   "metadata": {},
   "outputs": [],
   "source": [
    "X_pred1 = model1.predict(X_test)"
   ]
  },
  {
   "cell_type": "code",
   "execution_count": 162,
   "metadata": {},
   "outputs": [],
   "source": [
    "df_results1 = results_df(X_test,X_pred1,y_test)"
   ]
  },
  {
   "cell_type": "code",
   "execution_count": 164,
   "metadata": {},
   "outputs": [
    {
     "data": {
      "image/png": "[encoded data removed]",
      "text/plain": [
       "<Figure size 432x288 with 1 Axes>"
      ]
     },
     "metadata": {
      "needs_background": "light"
     },
     "output_type": "display_data"
    }
   ],
   "source": [
    "plot_results_hist(df_results1)"
   ]
  },
  {
   "cell_type": "code",
   "execution_count": 165,
   "metadata": {},
   "outputs": [
    {
     "data": {
      "image/png": "[encoded data removed]",
      "text/plain": [
       "<Figure size 432x288 with 1 Axes>"
      ]
     },
     "metadata": {
      "needs_background": "light"
     },
     "output_type": "display_data"
    }
   ],
   "source": [
    "plot_results_violin(df_results1)"
   ]
  },
  {
   "cell_type": "markdown",
   "metadata": {},
   "source": [
    "# Model 2: Layer autoencoder - minmax scaler (regression"
   ]
  },
  {
   "cell_type": "code",
   "execution_count": 166,
   "metadata": {},
   "outputs": [
    {
     "name": "stdout",
     "output_type": "stream",
     "text": [
      "_________________________________________________________________\n",
      "Layer (type)                 Output Shape              Param #   \n",
      "=================================================================\n",
      "dense_5 (Dense)              (None, 32)                1920      \n",
      "_________________________________________________________________\n",
      "dense_6 (Dense)              (None, 59)                1947      \n",
      "=================================================================\n",
      "Total params: 3,867\n",
      "Trainable params: 3,867\n",
      "Non-trainable params: 0\n",
      "_________________________________________________________________\n"
     ]
    }
   ],
   "source": [
    "model2 = simple_ann_autoencoder_classification()\n",
    "model2.summary()"
   ]
  },
  {
   "cell_type": "code",
   "execution_count": 167,
   "metadata": {},
   "outputs": [
    {
     "name": "stdout",
     "output_type": "stream",
     "text": [
      "Epoch 1/100\n",
      "14619/14619 [==============================] - 1s 71us/step - loss: -3.2378\n",
      "Epoch 2/100\n",
      "14619/14619 [==============================] - 1s 59us/step - loss: -4.8900\n",
      "Epoch 3/100\n",
      "14619/14619 [==============================] - 1s 60us/step - loss: -5.2063\n",
      "Epoch 4/100\n",
      "14619/14619 [==============================] - 1s 58us/step - loss: -5.3631\n",
      "Epoch 5/100\n",
      "14619/14619 [==============================] - 1s 58us/step - loss: -5.4546\n",
      "Epoch 6/100\n",
      "14619/14619 [==============================] - 1s 59us/step - loss: -5.5113\n",
      "Epoch 7/100\n",
      "14619/14619 [==============================] - 1s 58us/step - loss: -5.5506\n",
      "Epoch 8/100\n",
      "14619/14619 [==============================] - 1s 59us/step - loss: -5.5799\n",
      "Epoch 9/100\n",
      "14619/14619 [==============================] - 1s 60us/step - loss: -5.6036\n",
      "Epoch 10/100\n",
      "14619/14619 [==============================] - 1s 60us/step - loss: -5.6238\n",
      "Epoch 11/100\n",
      "14619/14619 [==============================] - 1s 61us/step - loss: -5.6430\n",
      "Epoch 12/100\n",
      "14619/14619 [==============================] - 1s 61us/step - loss: -5.6636\n",
      "Epoch 13/100\n",
      "14619/14619 [==============================] - 1s 61us/step - loss: -5.6812\n",
      "Epoch 14/100\n",
      "14619/14619 [==============================] - 1s 61us/step - loss: -5.6956\n",
      "Epoch 15/100\n",
      "14619/14619 [==============================] - 1s 62us/step - loss: -5.7082\n",
      "Epoch 16/100\n",
      "14619/14619 [==============================] - 1s 66us/step - loss: -5.7196\n",
      "Epoch 17/100\n",
      "14619/14619 [==============================] - 1s 59us/step - loss: -5.7293\n",
      "Epoch 18/100\n",
      "14619/14619 [==============================] - 1s 60us/step - loss: -5.7382\n",
      "Epoch 19/100\n",
      "14619/14619 [==============================] - 1s 57us/step - loss: -5.7457\n",
      "Epoch 20/100\n",
      "14619/14619 [==============================] - 1s 57us/step - loss: -5.7526\n",
      "Epoch 21/100\n",
      "14619/14619 [==============================] - 1s 58us/step - loss: -5.7582\n",
      "Epoch 22/100\n",
      "14619/14619 [==============================] - 1s 58us/step - loss: -5.7636\n",
      "Epoch 23/100\n",
      "14619/14619 [==============================] - 1s 58us/step - loss: -5.7685\n",
      "Epoch 24/100\n",
      "14619/14619 [==============================] - 1s 58us/step - loss: -5.7729\n",
      "Epoch 25/100\n",
      "14619/14619 [==============================] - 1s 58us/step - loss: -5.7770\n",
      "Epoch 26/100\n",
      "14619/14619 [==============================] - 1s 62us/step - loss: -5.7815\n",
      "Epoch 27/100\n",
      "14619/14619 [==============================] - 1s 60us/step - loss: -5.7854\n",
      "Epoch 28/100\n",
      "14619/14619 [==============================] - 1s 60us/step - loss: -5.7899\n",
      "Epoch 29/100\n",
      "14619/14619 [==============================] - 1s 61us/step - loss: -5.7929\n",
      "Epoch 30/100\n",
      "14619/14619 [==============================] - 1s 61us/step - loss: -5.7962\n",
      "Epoch 31/100\n",
      "14619/14619 [==============================] - 1s 61us/step - loss: -5.7989\n",
      "Epoch 32/100\n",
      "14619/14619 [==============================] - 1s 59us/step - loss: -5.8015\n",
      "Epoch 33/100\n",
      "14619/14619 [==============================] - 1s 64us/step - loss: -5.8041\n",
      "Epoch 34/100\n",
      "14619/14619 [==============================] - 1s 66us/step - loss: -5.8066\n",
      "Epoch 35/100\n",
      "14619/14619 [==============================] - 1s 60us/step - loss: -5.8090\n",
      "Epoch 36/100\n",
      "14619/14619 [==============================] - 1s 62us/step - loss: -5.8109\n",
      "Epoch 37/100\n",
      "14619/14619 [==============================] - 1s 64us/step - loss: -5.8128\n",
      "Epoch 38/100\n",
      "14619/14619 [==============================] - 1s 64us/step - loss: -5.8143\n",
      "Epoch 39/100\n",
      "14619/14619 [==============================] - 1s 63us/step - loss: -5.8160\n",
      "Epoch 40/100\n",
      "14619/14619 [==============================] - 1s 62us/step - loss: -5.8172\n",
      "Epoch 41/100\n",
      "14619/14619 [==============================] - 1s 68us/step - loss: -5.8185\n",
      "Epoch 42/100\n",
      "14619/14619 [==============================] - 1s 66us/step - loss: -5.8197\n",
      "Epoch 43/100\n",
      "14619/14619 [==============================] - 1s 73us/step - loss: -5.8209\n",
      "Epoch 44/100\n",
      "14619/14619 [==============================] - 1s 83us/step - loss: -5.8222\n",
      "Epoch 45/100\n",
      "14619/14619 [==============================] - 1s 79us/step - loss: -5.8230\n",
      "Epoch 46/100\n",
      "14619/14619 [==============================] - 1s 81us/step - loss: -5.8240\n",
      "Epoch 47/100\n",
      "14619/14619 [==============================] - 1s 75us/step - loss: -5.8250\n",
      "Epoch 48/100\n",
      "14619/14619 [==============================] - 1s 79us/step - loss: -5.8259\n",
      "Epoch 49/100\n",
      "14619/14619 [==============================] - 1s 87us/step - loss: -5.8267\n",
      "Epoch 50/100\n",
      "14619/14619 [==============================] - 1s 86us/step - loss: -5.8275\n",
      "Epoch 51/100\n",
      "14619/14619 [==============================] - 1s 78us/step - loss: -5.8283\n",
      "Epoch 52/100\n",
      "14619/14619 [==============================] - 1s 74us/step - loss: -5.8291\n",
      "Epoch 53/100\n",
      "14619/14619 [==============================] - 1s 76us/step - loss: -5.8297\n",
      "Epoch 54/100\n",
      "14619/14619 [==============================] - 1s 75us/step - loss: -5.8303\n",
      "Epoch 55/100\n",
      "14619/14619 [==============================] - 1s 75us/step - loss: -5.8309\n",
      "Epoch 56/100\n",
      "14619/14619 [==============================] - 1s 74us/step - loss: -5.8314\n",
      "Epoch 57/100\n",
      "14619/14619 [==============================] - 1s 71us/step - loss: -5.8318\n",
      "Epoch 58/100\n",
      "14619/14619 [==============================] - 1s 67us/step - loss: -5.8325\n",
      "Epoch 59/100\n",
      "14619/14619 [==============================] - 1s 76us/step - loss: -5.8331\n",
      "Epoch 60/100\n",
      "14619/14619 [==============================] - 1s 69us/step - loss: -5.8335\n",
      "Epoch 61/100\n",
      "14619/14619 [==============================] - 1s 74us/step - loss: -5.8339\n",
      "Epoch 62/100\n",
      "14619/14619 [==============================] - 1s 70us/step - loss: -5.8343\n",
      "Epoch 63/100\n",
      "14619/14619 [==============================] - 1s 70us/step - loss: -5.8349\n",
      "Epoch 64/100\n",
      "14619/14619 [==============================] - 1s 78us/step - loss: -5.8353\n",
      "Epoch 65/100\n",
      "14619/14619 [==============================] - 1s 70us/step - loss: -5.8357\n",
      "Epoch 66/100\n",
      "14619/14619 [==============================] - 1s 66us/step - loss: -5.8361\n",
      "Epoch 67/100\n",
      "14619/14619 [==============================] - 1s 65us/step - loss: -5.8364\n",
      "Epoch 68/100\n",
      "14619/14619 [==============================] - 1s 70us/step - loss: -5.8368\n",
      "Epoch 69/100\n",
      "14619/14619 [==============================] - 1s 67us/step - loss: -5.8372\n",
      "Epoch 70/100\n",
      "14619/14619 [==============================] - 1s 64us/step - loss: -5.8376\n",
      "Epoch 71/100\n",
      "14619/14619 [==============================] - 1s 65us/step - loss: -5.8378\n",
      "Epoch 72/100\n",
      "14619/14619 [==============================] - 1s 64us/step - loss: -5.8383\n",
      "Epoch 73/100\n",
      "14619/14619 [==============================] - 1s 63us/step - loss: -5.8385\n",
      "Epoch 74/100\n",
      "14619/14619 [==============================] - 1s 64us/step - loss: -5.8388\n",
      "Epoch 75/100\n",
      "14619/14619 [==============================] - 1s 64us/step - loss: -5.8392\n",
      "Epoch 76/100\n",
      "14619/14619 [==============================] - 1s 64us/step - loss: -5.8395\n",
      "Epoch 77/100\n",
      "14619/14619 [==============================] - 1s 65us/step - loss: -5.8397\n",
      "Epoch 78/100\n",
      "14619/14619 [==============================] - 1s 64us/step - loss: -5.8401\n",
      "Epoch 79/100\n",
      "14619/14619 [==============================] - 1s 64us/step - loss: -5.8403\n",
      "Epoch 80/100\n",
      "14619/14619 [==============================] - 1s 64us/step - loss: -5.8406\n",
      "Epoch 81/100\n",
      "14619/14619 [==============================] - 1s 64us/step - loss: -5.8408\n",
      "Epoch 82/100\n",
      "14619/14619 [==============================] - 1s 64us/step - loss: -5.8411\n",
      "Epoch 83/100\n",
      "14619/14619 [==============================] - 1s 64us/step - loss: -5.8413\n",
      "Epoch 84/100\n",
      "14619/14619 [==============================] - 1s 64us/step - loss: -5.8414\n",
      "Epoch 85/100\n",
      "14619/14619 [==============================] - 1s 64us/step - loss: -5.8418\n",
      "Epoch 86/100\n",
      "14619/14619 [==============================] - 1s 63us/step - loss: -5.8422\n",
      "Epoch 87/100\n",
      "14619/14619 [==============================] - 1s 64us/step - loss: -5.8423\n",
      "Epoch 88/100\n",
      "14619/14619 [==============================] - 1s 64us/step - loss: -5.8426\n",
      "Epoch 89/100\n",
      "14619/14619 [==============================] - 1s 63us/step - loss: -5.8428\n",
      "Epoch 90/100\n",
      "14619/14619 [==============================] - 1s 64us/step - loss: -5.8430\n",
      "Epoch 91/100\n",
      "14619/14619 [==============================] - 1s 64us/step - loss: -5.8433\n",
      "Epoch 92/100\n",
      "14619/14619 [==============================] - 1s 64us/step - loss: -5.8436\n",
      "Epoch 93/100\n",
      "14619/14619 [==============================] - 1s 64us/step - loss: -5.8437\n",
      "Epoch 94/100\n",
      "14619/14619 [==============================] - 1s 64us/step - loss: -5.8440\n",
      "Epoch 95/100\n",
      "14619/14619 [==============================] - 1s 63us/step - loss: -5.8441\n",
      "Epoch 96/100\n",
      "14619/14619 [==============================] - 1s 64us/step - loss: -5.8444\n",
      "Epoch 97/100\n",
      "14619/14619 [==============================] - 1s 65us/step - loss: -5.8447\n",
      "Epoch 98/100\n",
      "14619/14619 [==============================] - 1s 65us/step - loss: -5.8446\n",
      "Epoch 99/100\n",
      "14619/14619 [==============================] - 1s 66us/step - loss: -5.8449\n",
      "Epoch 100/100\n",
      "14619/14619 [==============================] - 1s 63us/step - loss: -5.8450\n"
     ]
    }
   ],
   "source": [
    "history_callback2 = model2.fit(X_train,X_train,epochs=100,batch_size = 12)\n",
    "loss_history2 = history_callback2.history['loss']"
   ]
  },
  {
   "cell_type": "code",
   "execution_count": 169,
   "metadata": {},
   "outputs": [
    {
     "data": {
      "text/plain": [
       "[<matplotlib.lines.Line2D at 0x135da24e0>]"
      ]
     },
     "execution_count": 169,
     "metadata": {},
     "output_type": "execute_result"
    },
    {
     "data": {
      "image/png": "[encoded data removed]",
      "text/plain": [
       "<Figure size 432x288 with 1 Axes>"
      ]
     },
     "metadata": {
      "needs_background": "light"
     },
     "output_type": "display_data"
    }
   ],
   "source": [
    "plt.plot(loss_history2)"
   ]
  },
  {
   "cell_type": "code",
   "execution_count": 189,
   "metadata": {},
   "outputs": [
    {
     "data": {
      "text/plain": [
       "[<matplotlib.lines.Line2D at 0x12b9c7ac8>]"
      ]
     },
     "execution_count": 189,
     "metadata": {},
     "output_type": "execute_result"
    },
    {
     "data": {
      "image/png": "[encoded data removed]",
      "text/plain": [
       "<Figure size 432x288 with 1 Axes>"
      ]
     },
     "metadata": {
      "needs_background": "light"
     },
     "output_type": "display_data"
    }
   ],
   "source": [
    "plt.plot(X_test_.iloc[:,0])"
   ]
  },
  {
   "cell_type": "code",
   "execution_count": 194,
   "metadata": {},
   "outputs": [
    {
     "ename": "NameError",
     "evalue": "name 'df_results' is not defined",
     "output_type": "error",
     "traceback": [
      "\u001b[0;31m---------------------------------------------------------------------------\u001b[0m",
      "\u001b[0;31mNameError\u001b[0m                                 Traceback (most recent call last)",
      "\u001b[0;32m<ipython-input-194-332db77d160f>\u001b[0m in \u001b[0;36m<module>\u001b[0;34m\u001b[0m\n\u001b[0;32m----> 1\u001b[0;31m \u001b[0mdf_results\u001b[0m\u001b[0;34m\u001b[0m\u001b[0;34m\u001b[0m\u001b[0m\n\u001b[0m",
      "\u001b[0;31mNameError\u001b[0m: name 'df_results' is not defined"
     ]
    }
   ],
   "source": [
    "df_results2"
   ]
  },
  {
   "cell_type": "code",
   "execution_count": 171,
   "metadata": {},
   "outputs": [],
   "source": [
    "X_pred2 = model2.predict(X_test)"
   ]
  },
  {
   "cell_type": "code",
   "execution_count": 172,
   "metadata": {},
   "outputs": [],
   "source": [
    "df_results2 = results_df(X_test,X_pred2,y_test)"
   ]
  },
  {
   "cell_type": "code",
   "execution_count": 174,
   "metadata": {},
   "outputs": [
    {
     "data": {
      "image/png": "[encoded data removed]",
      "text/plain": [
       "<Figure size 432x288 with 1 Axes>"
      ]
     },
     "metadata": {
      "needs_background": "light"
     },
     "output_type": "display_data"
    }
   ],
   "source": [
    "plot_results_hist(df_results2)"
   ]
  },
  {
   "cell_type": "code",
   "execution_count": 165,
   "metadata": {},
   "outputs": [
    {
     "data": {
      "image/png": "[encoded data removed]",
      "text/plain": [
       "<Figure size 432x288 with 1 Axes>"
      ]
     },
     "metadata": {
      "needs_background": "light"
     },
     "output_type": "display_data"
    }
   ],
   "source": [
    "plot_results_violin(df_results1)"
   ]
  },
  {
   "cell_type": "code",
   "execution_count": null,
   "metadata": {},
   "outputs": [],
   "source": []
  }
 ],
 "metadata": {
  "kernelspec": {
   "display_name": "dlenv",
   "language": "python",
   "name": "dlenv"
  },
  "language_info": {
   "codemirror_mode": {
    "name": "ipython",
    "version": 3
   },
   "file_extension": ".py",
   "mimetype": "text/x-python",
   "name": "python",
   "nbconvert_exporter": "python",
   "pygments_lexer": "ipython3",
   "version": "3.7.3"
  }
 },
 "nbformat": 4,
 "nbformat_minor": 2
}
