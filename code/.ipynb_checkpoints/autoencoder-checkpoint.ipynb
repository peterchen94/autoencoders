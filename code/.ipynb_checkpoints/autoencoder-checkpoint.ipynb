{
 "cells": [
  {
   "cell_type": "code",
   "execution_count": 1,
   "metadata": {},
   "outputs": [
    {
     "name": "stderr",
     "output_type": "stream",
     "text": [
      "Using Theano backend.\n"
     ]
    }
   ],
   "source": [
    "import pandas as pd\n",
    "import numpy as np\n",
    "import matplotlib.pyplot as plt\n",
    "import os\n",
    "import seaborn as sns\n",
    "from sklearn.preprocessing import StandardScaler, MinMaxScaler\n",
    "from sklearn.model_selection import train_test_split\n",
    "from keras.layers import Input,Dense, Dropout\n",
    "from keras.models import Model,Sequential"
   ]
  },
  {
   "cell_type": "markdown",
   "metadata": {},
   "source": [
    "https://arxiv.org/pdf/1809.10717.pdf"
   ]
  },
  {
   "cell_type": "code",
   "execution_count": 6,
   "metadata": {},
   "outputs": [],
   "source": [
    "DATA_DIR = '/Users/PeterC/Documents/gt/practicum/autoencoders/data/'"
   ]
  },
  {
   "cell_type": "code",
   "execution_count": 72,
   "metadata": {},
   "outputs": [],
   "source": [
    "df = pd.read_csv(DATA_DIR + 'paper_mill_rare_events.csv')\n",
    "df['time'] = pd.to_datetime(df['time'])"
   ]
  },
  {
   "cell_type": "code",
   "execution_count": 73,
   "metadata": {},
   "outputs": [
    {
     "data": {
      "text/html": [
       "<div>\n",
       "<style scoped>\n",
       "    .dataframe tbody tr th:only-of-type {\n",
       "        vertical-align: middle;\n",
       "    }\n",
       "\n",
       "    .dataframe tbody tr th {\n",
       "        vertical-align: top;\n",
       "    }\n",
       "\n",
       "    .dataframe thead th {\n",
       "        text-align: right;\n",
       "    }\n",
       "</style>\n",
       "<table border=\"1\" class=\"dataframe\">\n",
       "  <thead>\n",
       "    <tr style=\"text-align: right;\">\n",
       "      <th></th>\n",
       "      <th>time</th>\n",
       "      <th>y</th>\n",
       "      <th>x1</th>\n",
       "      <th>x2</th>\n",
       "      <th>x3</th>\n",
       "      <th>x4</th>\n",
       "      <th>x5</th>\n",
       "      <th>x6</th>\n",
       "      <th>x7</th>\n",
       "      <th>x8</th>\n",
       "      <th>...</th>\n",
       "      <th>x52</th>\n",
       "      <th>x53</th>\n",
       "      <th>x54</th>\n",
       "      <th>x55</th>\n",
       "      <th>x56</th>\n",
       "      <th>x57</th>\n",
       "      <th>x58</th>\n",
       "      <th>x59</th>\n",
       "      <th>x60</th>\n",
       "      <th>x61</th>\n",
       "    </tr>\n",
       "  </thead>\n",
       "  <tbody>\n",
       "    <tr>\n",
       "      <th>0</th>\n",
       "      <td>1999-05-01 00:00:00</td>\n",
       "      <td>0</td>\n",
       "      <td>0.376665</td>\n",
       "      <td>-4.596435</td>\n",
       "      <td>-4.095756</td>\n",
       "      <td>13.497687</td>\n",
       "      <td>-0.118830</td>\n",
       "      <td>-20.669883</td>\n",
       "      <td>0.000732</td>\n",
       "      <td>-0.061114</td>\n",
       "      <td>...</td>\n",
       "      <td>10.091721</td>\n",
       "      <td>0.053279</td>\n",
       "      <td>-4.936434</td>\n",
       "      <td>-24.590146</td>\n",
       "      <td>18.515436</td>\n",
       "      <td>3.473400</td>\n",
       "      <td>0.033444</td>\n",
       "      <td>0.953219</td>\n",
       "      <td>0.006076</td>\n",
       "      <td>0</td>\n",
       "    </tr>\n",
       "    <tr>\n",
       "      <th>1</th>\n",
       "      <td>1999-05-01 00:02:00</td>\n",
       "      <td>0</td>\n",
       "      <td>0.475720</td>\n",
       "      <td>-4.542502</td>\n",
       "      <td>-4.018359</td>\n",
       "      <td>16.230659</td>\n",
       "      <td>-0.128733</td>\n",
       "      <td>-18.758079</td>\n",
       "      <td>0.000732</td>\n",
       "      <td>-0.061114</td>\n",
       "      <td>...</td>\n",
       "      <td>10.095871</td>\n",
       "      <td>0.062801</td>\n",
       "      <td>-4.937179</td>\n",
       "      <td>-32.413266</td>\n",
       "      <td>22.760065</td>\n",
       "      <td>2.682933</td>\n",
       "      <td>0.033536</td>\n",
       "      <td>1.090502</td>\n",
       "      <td>0.006083</td>\n",
       "      <td>0</td>\n",
       "    </tr>\n",
       "    <tr>\n",
       "      <th>2</th>\n",
       "      <td>1999-05-01 00:04:00</td>\n",
       "      <td>0</td>\n",
       "      <td>0.363848</td>\n",
       "      <td>-4.681394</td>\n",
       "      <td>-4.353147</td>\n",
       "      <td>14.127998</td>\n",
       "      <td>-0.138636</td>\n",
       "      <td>-17.836632</td>\n",
       "      <td>0.010803</td>\n",
       "      <td>-0.061114</td>\n",
       "      <td>...</td>\n",
       "      <td>10.100265</td>\n",
       "      <td>0.072322</td>\n",
       "      <td>-4.937924</td>\n",
       "      <td>-34.183774</td>\n",
       "      <td>27.004663</td>\n",
       "      <td>3.537487</td>\n",
       "      <td>0.033629</td>\n",
       "      <td>1.840540</td>\n",
       "      <td>0.006090</td>\n",
       "      <td>0</td>\n",
       "    </tr>\n",
       "    <tr>\n",
       "      <th>3</th>\n",
       "      <td>1999-05-01 00:06:00</td>\n",
       "      <td>0</td>\n",
       "      <td>0.301590</td>\n",
       "      <td>-4.758934</td>\n",
       "      <td>-4.023612</td>\n",
       "      <td>13.161567</td>\n",
       "      <td>-0.148142</td>\n",
       "      <td>-18.517601</td>\n",
       "      <td>0.002075</td>\n",
       "      <td>-0.061114</td>\n",
       "      <td>...</td>\n",
       "      <td>10.104660</td>\n",
       "      <td>0.081600</td>\n",
       "      <td>-4.938669</td>\n",
       "      <td>-35.954281</td>\n",
       "      <td>21.672449</td>\n",
       "      <td>3.986095</td>\n",
       "      <td>0.033721</td>\n",
       "      <td>2.554880</td>\n",
       "      <td>0.006097</td>\n",
       "      <td>0</td>\n",
       "    </tr>\n",
       "    <tr>\n",
       "      <th>4</th>\n",
       "      <td>1999-05-01 00:08:00</td>\n",
       "      <td>0</td>\n",
       "      <td>0.265578</td>\n",
       "      <td>-4.749928</td>\n",
       "      <td>-4.333150</td>\n",
       "      <td>15.267340</td>\n",
       "      <td>-0.155314</td>\n",
       "      <td>-17.505913</td>\n",
       "      <td>0.000732</td>\n",
       "      <td>-0.061114</td>\n",
       "      <td>...</td>\n",
       "      <td>10.109054</td>\n",
       "      <td>0.091121</td>\n",
       "      <td>-4.939414</td>\n",
       "      <td>-37.724789</td>\n",
       "      <td>21.907251</td>\n",
       "      <td>3.601573</td>\n",
       "      <td>0.033777</td>\n",
       "      <td>1.410494</td>\n",
       "      <td>0.006105</td>\n",
       "      <td>0</td>\n",
       "    </tr>\n",
       "  </tbody>\n",
       "</table>\n",
       "<p>5 rows × 63 columns</p>\n",
       "</div>"
      ],
      "text/plain": [
       "                 time  y        x1        x2        x3         x4        x5  \\\n",
       "0 1999-05-01 00:00:00  0  0.376665 -4.596435 -4.095756  13.497687 -0.118830   \n",
       "1 1999-05-01 00:02:00  0  0.475720 -4.542502 -4.018359  16.230659 -0.128733   \n",
       "2 1999-05-01 00:04:00  0  0.363848 -4.681394 -4.353147  14.127998 -0.138636   \n",
       "3 1999-05-01 00:06:00  0  0.301590 -4.758934 -4.023612  13.161567 -0.148142   \n",
       "4 1999-05-01 00:08:00  0  0.265578 -4.749928 -4.333150  15.267340 -0.155314   \n",
       "\n",
       "          x6        x7        x8 ...         x52       x53       x54  \\\n",
       "0 -20.669883  0.000732 -0.061114 ...   10.091721  0.053279 -4.936434   \n",
       "1 -18.758079  0.000732 -0.061114 ...   10.095871  0.062801 -4.937179   \n",
       "2 -17.836632  0.010803 -0.061114 ...   10.100265  0.072322 -4.937924   \n",
       "3 -18.517601  0.002075 -0.061114 ...   10.104660  0.081600 -4.938669   \n",
       "4 -17.505913  0.000732 -0.061114 ...   10.109054  0.091121 -4.939414   \n",
       "\n",
       "         x55        x56       x57       x58       x59       x60  x61  \n",
       "0 -24.590146  18.515436  3.473400  0.033444  0.953219  0.006076    0  \n",
       "1 -32.413266  22.760065  2.682933  0.033536  1.090502  0.006083    0  \n",
       "2 -34.183774  27.004663  3.537487  0.033629  1.840540  0.006090    0  \n",
       "3 -35.954281  21.672449  3.986095  0.033721  2.554880  0.006097    0  \n",
       "4 -37.724789  21.907251  3.601573  0.033777  1.410494  0.006105    0  \n",
       "\n",
       "[5 rows x 63 columns]"
      ]
     },
     "execution_count": 73,
     "metadata": {},
     "output_type": "execute_result"
    }
   ],
   "source": [
    "df.head()"
   ]
  },
  {
   "cell_type": "markdown",
   "metadata": {},
   "source": [
    "## Lots of class imbalance (rare events)"
   ]
  },
  {
   "cell_type": "code",
   "execution_count": 74,
   "metadata": {},
   "outputs": [
    {
     "data": {
      "text/plain": [
       "0    18274\n",
       "1      124\n",
       "Name: y, dtype: int64"
      ]
     },
     "execution_count": 74,
     "metadata": {},
     "output_type": "execute_result"
    }
   ],
   "source": [
    "df['y'].value_counts()"
   ]
  },
  {
   "cell_type": "markdown",
   "metadata": {},
   "source": [
    "### Label previous 20 as failed when failure occurs"
   ]
  },
  {
   "cell_type": "code",
   "execution_count": 75,
   "metadata": {},
   "outputs": [],
   "source": [
    "failure_length= 20\n",
    "\n",
    "for i in range(df.shape[0]):\n",
    "    if df.iloc[i]['y'] == 1:\n",
    "        df.iloc[i-failure_length:i] = 1"
   ]
  },
  {
   "cell_type": "code",
   "execution_count": 76,
   "metadata": {},
   "outputs": [
    {
     "data": {
      "text/plain": [
       "0    16121\n",
       "1     2277\n",
       "Name: y, dtype: int64"
      ]
     },
     "execution_count": 76,
     "metadata": {},
     "output_type": "execute_result"
    }
   ],
   "source": [
    "df['y'].value_counts()"
   ]
  },
  {
   "cell_type": "markdown",
   "metadata": {},
   "source": [
    "## Scale datasets with both standard and minmax scaler"
   ]
  },
  {
   "cell_type": "code",
   "execution_count": 77,
   "metadata": {},
   "outputs": [],
   "source": [
    "non_scale_cols = ['time','y']\n",
    "param_cols = [\n",
    "        'x1', 'x2', 'x3', 'x4', 'x5', 'x6', 'x7', 'x8', 'x9',\n",
    "       'x10', 'x11', 'x12', 'x13', 'x14', 'x15', 'x16', 'x17', 'x18', 'x19',\n",
    "       'x20', 'x21', 'x22', 'x23', 'x24', 'x25', 'x26', 'x27', 'x29',\n",
    "       'x30', 'x31', 'x32', 'x33', 'x34', 'x35', 'x36', 'x37', 'x38', 'x39',\n",
    "       'x40', 'x41', 'x42', 'x43', 'x44', 'x45', 'x46', 'x47', 'x48', 'x49',\n",
    "       'x50', 'x51', 'x52', 'x53', 'x54', 'x55', 'x56', 'x57', 'x58', 'x59',\n",
    "       'x60'\n",
    "]\n",
    "sc_std = StandardScaler()\n",
    "df_scaled_std = pd.DataFrame(data = sc_std.fit_transform(df[param_cols]),columns=param_cols)\n",
    "df_scaled_std = pd.concat([df[non_scale_cols],df_scaled_std],axis=1)\n",
    "\n",
    "sc_minmax = MinMaxScaler()\n",
    "df_scaled_minmax = pd.DataFrame(data = sc_minmax.fit_transform(df[param_cols]),columns=param_cols)\n",
    "df_scaled_minmax = pd.concat([df[non_scale_cols],df_scaled_minmax],axis=1)"
   ]
  },
  {
   "cell_type": "code",
   "execution_count": 78,
   "metadata": {},
   "outputs": [
    {
     "data": {
      "text/html": [
       "<div>\n",
       "<style scoped>\n",
       "    .dataframe tbody tr th:only-of-type {\n",
       "        vertical-align: middle;\n",
       "    }\n",
       "\n",
       "    .dataframe tbody tr th {\n",
       "        vertical-align: top;\n",
       "    }\n",
       "\n",
       "    .dataframe thead th {\n",
       "        text-align: right;\n",
       "    }\n",
       "</style>\n",
       "<table border=\"1\" class=\"dataframe\">\n",
       "  <thead>\n",
       "    <tr style=\"text-align: right;\">\n",
       "      <th></th>\n",
       "      <th>time</th>\n",
       "      <th>y</th>\n",
       "      <th>x1</th>\n",
       "      <th>x2</th>\n",
       "      <th>x3</th>\n",
       "      <th>x4</th>\n",
       "      <th>x5</th>\n",
       "      <th>x6</th>\n",
       "      <th>x7</th>\n",
       "      <th>x8</th>\n",
       "      <th>...</th>\n",
       "      <th>x51</th>\n",
       "      <th>x52</th>\n",
       "      <th>x53</th>\n",
       "      <th>x54</th>\n",
       "      <th>x55</th>\n",
       "      <th>x56</th>\n",
       "      <th>x57</th>\n",
       "      <th>x58</th>\n",
       "      <th>x59</th>\n",
       "      <th>x60</th>\n",
       "    </tr>\n",
       "  </thead>\n",
       "  <tbody>\n",
       "    <tr>\n",
       "      <th>0</th>\n",
       "      <td>1999-05-01 00:00:00</td>\n",
       "      <td>0</td>\n",
       "      <td>0.338231</td>\n",
       "      <td>-1.030545</td>\n",
       "      <td>-0.861630</td>\n",
       "      <td>0.207402</td>\n",
       "      <td>-0.363913</td>\n",
       "      <td>-0.706156</td>\n",
       "      <td>-0.345984</td>\n",
       "      <td>-0.53014</td>\n",
       "      <td>...</td>\n",
       "      <td>0.105147</td>\n",
       "      <td>1.626053</td>\n",
       "      <td>-0.108173</td>\n",
       "      <td>-1.945203</td>\n",
       "      <td>-0.450722</td>\n",
       "      <td>0.105178</td>\n",
       "      <td>1.411958</td>\n",
       "      <td>-0.254451</td>\n",
       "      <td>0.096427</td>\n",
       "      <td>-0.351470</td>\n",
       "    </tr>\n",
       "    <tr>\n",
       "      <th>1</th>\n",
       "      <td>1999-05-01 00:02:00</td>\n",
       "      <td>0</td>\n",
       "      <td>0.467800</td>\n",
       "      <td>-1.019207</td>\n",
       "      <td>-0.847905</td>\n",
       "      <td>0.229712</td>\n",
       "      <td>-0.378401</td>\n",
       "      <td>-0.649606</td>\n",
       "      <td>-0.345984</td>\n",
       "      <td>-0.53014</td>\n",
       "      <td>...</td>\n",
       "      <td>0.105147</td>\n",
       "      <td>1.626764</td>\n",
       "      <td>-0.105990</td>\n",
       "      <td>-1.945473</td>\n",
       "      <td>-0.573951</td>\n",
       "      <td>0.160405</td>\n",
       "      <td>1.053995</td>\n",
       "      <td>-0.254169</td>\n",
       "      <td>0.109779</td>\n",
       "      <td>-0.351448</td>\n",
       "    </tr>\n",
       "    <tr>\n",
       "      <th>2</th>\n",
       "      <td>1999-05-01 00:04:00</td>\n",
       "      <td>0</td>\n",
       "      <td>0.321465</td>\n",
       "      <td>-1.048404</td>\n",
       "      <td>-0.907273</td>\n",
       "      <td>0.212547</td>\n",
       "      <td>-0.392889</td>\n",
       "      <td>-0.622350</td>\n",
       "      <td>-0.316292</td>\n",
       "      <td>-0.53014</td>\n",
       "      <td>...</td>\n",
       "      <td>0.105147</td>\n",
       "      <td>1.627518</td>\n",
       "      <td>-0.103807</td>\n",
       "      <td>-1.945744</td>\n",
       "      <td>-0.601840</td>\n",
       "      <td>0.215632</td>\n",
       "      <td>1.440980</td>\n",
       "      <td>-0.253885</td>\n",
       "      <td>0.182729</td>\n",
       "      <td>-0.351426</td>\n",
       "    </tr>\n",
       "    <tr>\n",
       "      <th>3</th>\n",
       "      <td>1999-05-01 00:06:00</td>\n",
       "      <td>0</td>\n",
       "      <td>0.240029</td>\n",
       "      <td>-1.064704</td>\n",
       "      <td>-0.848837</td>\n",
       "      <td>0.204658</td>\n",
       "      <td>-0.406795</td>\n",
       "      <td>-0.642493</td>\n",
       "      <td>-0.342024</td>\n",
       "      <td>-0.53014</td>\n",
       "      <td>...</td>\n",
       "      <td>0.105147</td>\n",
       "      <td>1.628272</td>\n",
       "      <td>-0.101679</td>\n",
       "      <td>-1.946014</td>\n",
       "      <td>-0.629729</td>\n",
       "      <td>0.146254</td>\n",
       "      <td>1.644132</td>\n",
       "      <td>-0.253604</td>\n",
       "      <td>0.252206</td>\n",
       "      <td>-0.351405</td>\n",
       "    </tr>\n",
       "    <tr>\n",
       "      <th>4</th>\n",
       "      <td>1999-05-01 00:08:00</td>\n",
       "      <td>0</td>\n",
       "      <td>0.192923</td>\n",
       "      <td>-1.062811</td>\n",
       "      <td>-0.903727</td>\n",
       "      <td>0.221848</td>\n",
       "      <td>-0.417288</td>\n",
       "      <td>-0.612568</td>\n",
       "      <td>-0.345984</td>\n",
       "      <td>-0.53014</td>\n",
       "      <td>...</td>\n",
       "      <td>0.105147</td>\n",
       "      <td>1.629025</td>\n",
       "      <td>-0.099496</td>\n",
       "      <td>-1.946285</td>\n",
       "      <td>-0.657617</td>\n",
       "      <td>0.149309</td>\n",
       "      <td>1.470001</td>\n",
       "      <td>-0.253433</td>\n",
       "      <td>0.140902</td>\n",
       "      <td>-0.351380</td>\n",
       "    </tr>\n",
       "  </tbody>\n",
       "</table>\n",
       "<p>5 rows × 61 columns</p>\n",
       "</div>"
      ],
      "text/plain": [
       "                  time  y        x1        x2        x3        x4        x5  \\\n",
       "0  1999-05-01 00:00:00  0  0.338231 -1.030545 -0.861630  0.207402 -0.363913   \n",
       "1  1999-05-01 00:02:00  0  0.467800 -1.019207 -0.847905  0.229712 -0.378401   \n",
       "2  1999-05-01 00:04:00  0  0.321465 -1.048404 -0.907273  0.212547 -0.392889   \n",
       "3  1999-05-01 00:06:00  0  0.240029 -1.064704 -0.848837  0.204658 -0.406795   \n",
       "4  1999-05-01 00:08:00  0  0.192923 -1.062811 -0.903727  0.221848 -0.417288   \n",
       "\n",
       "         x6        x7       x8    ...          x51       x52       x53  \\\n",
       "0 -0.706156 -0.345984 -0.53014    ...     0.105147  1.626053 -0.108173   \n",
       "1 -0.649606 -0.345984 -0.53014    ...     0.105147  1.626764 -0.105990   \n",
       "2 -0.622350 -0.316292 -0.53014    ...     0.105147  1.627518 -0.103807   \n",
       "3 -0.642493 -0.342024 -0.53014    ...     0.105147  1.628272 -0.101679   \n",
       "4 -0.612568 -0.345984 -0.53014    ...     0.105147  1.629025 -0.099496   \n",
       "\n",
       "        x54       x55       x56       x57       x58       x59       x60  \n",
       "0 -1.945203 -0.450722  0.105178  1.411958 -0.254451  0.096427 -0.351470  \n",
       "1 -1.945473 -0.573951  0.160405  1.053995 -0.254169  0.109779 -0.351448  \n",
       "2 -1.945744 -0.601840  0.215632  1.440980 -0.253885  0.182729 -0.351426  \n",
       "3 -1.946014 -0.629729  0.146254  1.644132 -0.253604  0.252206 -0.351405  \n",
       "4 -1.946285 -0.657617  0.149309  1.470001 -0.253433  0.140902 -0.351380  \n",
       "\n",
       "[5 rows x 61 columns]"
      ]
     },
     "execution_count": 78,
     "metadata": {},
     "output_type": "execute_result"
    }
   ],
   "source": [
    "df_scaled_std.head()"
   ]
  },
  {
   "cell_type": "markdown",
   "metadata": {},
   "source": [
    "### Plot standard scaled"
   ]
  },
  {
   "cell_type": "code",
   "execution_count": 79,
   "metadata": {},
   "outputs": [],
   "source": [
    "%%capture\n",
    "for col in param_cols:\n",
    "    plt.figure(figsize=(15,5))\n",
    "    plt.plot(df_scaled_std[col])\n",
    "    for val in list(df_scaled_std[df_scaled_std['y']==1].index):\n",
    "        plt.axvline(val,color='red',linewidth=.2)\n",
    "    plt.xticks(rotation=45)\n",
    "    plt.title(col)\n",
    "    plt.savefig(DATA_DIR +'plots/std_scaled_{}.png'.format(col))"
   ]
  },
  {
   "cell_type": "markdown",
   "metadata": {},
   "source": [
    "## Plot Min Max"
   ]
  },
  {
   "cell_type": "code",
   "execution_count": 120,
   "metadata": {},
   "outputs": [],
   "source": [
    "%%capture\n",
    "for col in param_cols:\n",
    "    plt.figure(figsize=(10,5))\n",
    "    plt.plot(df_scaled_minmax[col])\n",
    "    for time in list(df_scaled_minmax[df_scaled_minmax['y']==1]['time']):\n",
    "        plt.axvline(time,color='red',linewidth=.2)\n",
    "    plt.xticks(rotation=45)\n",
    "    plt.title(col)\n",
    "    plt.xlim(['1999-04-30','1999-05-30'])\n",
    "    plt.savefig(DATA_DIR +'plots/minmax_scaled_{}.png'.format(col))"
   ]
  },
  {
   "cell_type": "code",
   "execution_count": 80,
   "metadata": {},
   "outputs": [],
   "source": [
    "X_nominal_std = df_scaled_std[df_scaled_std['y'] == 0][param_cols]\n",
    "X_event_std = df_scaled_std[df_scaled_std['y'] == 1][param_cols]\n",
    "\n",
    "X_nominal_minmax = df_scaled_minmax[df_scaled_minmax['y'] == 0][param_cols]\n",
    "X_event_minmax = df_scaled_minmax[df_scaled_minmax['y'] == 1][param_cols]\n",
    "\n",
    "y_nominal = df_scaled_std[df_scaled_std['y'] == 0]['y']\n",
    "y_event = df_scaled_std[df_scaled_std['y'] == 1]['y']"
   ]
  },
  {
   "cell_type": "code",
   "execution_count": 81,
   "metadata": {},
   "outputs": [
    {
     "data": {
      "text/plain": [
       "(16121, 59)"
      ]
     },
     "execution_count": 81,
     "metadata": {},
     "output_type": "execute_result"
    }
   ],
   "source": [
    "X_nominal_std.shape"
   ]
  },
  {
   "cell_type": "code",
   "execution_count": 82,
   "metadata": {},
   "outputs": [
    {
     "data": {
      "text/plain": [
       "(2277, 59)"
      ]
     },
     "execution_count": 82,
     "metadata": {},
     "output_type": "execute_result"
    }
   ],
   "source": [
    "X_event_std.shape"
   ]
  },
  {
   "cell_type": "code",
   "execution_count": 83,
   "metadata": {},
   "outputs": [],
   "source": [
    "X_train_std, X_test_std, y_train_std, y_test_std = train_test_split(X_nominal_std, y_nominal, test_size=0.1, random_state=0)"
   ]
  },
  {
   "cell_type": "code",
   "execution_count": 84,
   "metadata": {},
   "outputs": [],
   "source": [
    "X_train_minmax, X_test_minmax, y_train_minmax, y_test_minmax = train_test_split(X_nominal_minmax, y_nominal, test_size=0.2, random_state=0)"
   ]
  },
  {
   "cell_type": "code",
   "execution_count": 85,
   "metadata": {},
   "outputs": [],
   "source": [
    "X_test_std = X_test_std.append(X_event_std)\n",
    "y_test_std =y_test_std.append(y_event)\n",
    "\n",
    "X_test_minmax = X_test_std.append(X_event_minmax)\n",
    "y_test_minmax =y_test_std.append(y_event)"
   ]
  },
  {
   "cell_type": "code",
   "execution_count": 86,
   "metadata": {},
   "outputs": [
    {
     "data": {
      "text/plain": [
       "(3890, 59)"
      ]
     },
     "execution_count": 86,
     "metadata": {},
     "output_type": "execute_result"
    }
   ],
   "source": [
    "X_test_std.shape"
   ]
  },
  {
   "cell_type": "code",
   "execution_count": 87,
   "metadata": {},
   "outputs": [
    {
     "data": {
      "text/plain": [
       "(14508, 59)"
      ]
     },
     "execution_count": 87,
     "metadata": {},
     "output_type": "execute_result"
    }
   ],
   "source": [
    "X_train_std.shape"
   ]
  },
  {
   "cell_type": "code",
   "execution_count": 97,
   "metadata": {},
   "outputs": [],
   "source": [
    "def simple_ann_autoencoder_regression():\n",
    "    model = Sequential()\n",
    "    model.add(Dense(units = 32,activation='relu',input_shape = (len(param_cols),)))\n",
    "    model.add(Dense(units = 16,activation='relu',input_shape = (len(param_cols),)))\n",
    "    model.add(Dense(units = 32,activation='relu',input_shape = (len(param_cols),)))\n",
    "    model.add(Dense(units = len(param_cols),activation='linear'))\n",
    "    model.compile(optimizer='adam', loss='mse')\n",
    "    return model\n",
    "\n",
    "def simple_ann_autoencoder_classification():\n",
    "    model = Sequential()\n",
    "    model.add(Dense(units = 32,activation='relu',input_shape = (len(param_cols),)))\n",
    "    model.add(Dense(units = 16,activation='relu',input_shape = (len(param_cols),)))\n",
    "    model.add(Dense(units = 32,activation='relu',input_shape = (len(param_cols),)))\n",
    "    model.add(Dense(units = len(param_cols),activation='sigmoid'))\n",
    "    model.compile(optimizer='adam', loss='binary_crossentropy',)\n",
    "    return model"
   ]
  },
  {
   "cell_type": "code",
   "execution_count": 89,
   "metadata": {},
   "outputs": [],
   "source": [
    "def results_df(X_true,X_pred,y_test):\n",
    "    residual = X_pred - X_true\n",
    "    residual_avg = np.mean(residual,axis=1)\n",
    "    df = pd.DataFrame(data = {'residual_avg':residual_avg,'y':y_test})\n",
    "    return df\n",
    "\n",
    "def plot_results_hist(df_results):\n",
    "    plt.figure()\n",
    "    sns.distplot(df_results[df_results['y']==1]['residual_avg'],norm_hist=True)\n",
    "    sns.distplot(df_results[df_results['y']==0]['residual_avg'],norm_hist=True)\n",
    "    plt.legend(['event_residuals_avg','nominal_residuals_avg'])\n",
    "    plt.title('distribution of average residuals')\n",
    "    \n",
    "def plot_results_violin(df_results):\n",
    "    plt.figure()\n",
    "    sns.violinplot(x='y',y='residual_avg',data=df_results)"
   ]
  },
  {
   "cell_type": "markdown",
   "metadata": {},
   "source": [
    "# Model 1: Layer autoencoder - standard scaler (regression"
   ]
  },
  {
   "cell_type": "code",
   "execution_count": 90,
   "metadata": {},
   "outputs": [
    {
     "name": "stdout",
     "output_type": "stream",
     "text": [
      "_________________________________________________________________\n",
      "Layer (type)                 Output Shape              Param #   \n",
      "=================================================================\n",
      "dense_5 (Dense)              (None, 32)                1920      \n",
      "_________________________________________________________________\n",
      "dense_6 (Dense)              (None, 16)                528       \n",
      "_________________________________________________________________\n",
      "dense_7 (Dense)              (None, 32)                544       \n",
      "_________________________________________________________________\n",
      "dense_8 (Dense)              (None, 59)                1947      \n",
      "=================================================================\n",
      "Total params: 4,939\n",
      "Trainable params: 4,939\n",
      "Non-trainable params: 0\n",
      "_________________________________________________________________\n"
     ]
    }
   ],
   "source": [
    "model1 = simple_ann_autoencoder_regression()\n",
    "model1.summary()"
   ]
  },
  {
   "cell_type": "code",
   "execution_count": 91,
   "metadata": {},
   "outputs": [
    {
     "name": "stdout",
     "output_type": "stream",
     "text": [
      "Epoch 1/150\n",
      "14508/14508 [==============================] - 1s 47us/step - loss: 0.2710\n",
      "Epoch 2/150\n",
      "14508/14508 [==============================] - 1s 47us/step - loss: 0.1177\n",
      "Epoch 3/150\n",
      "14508/14508 [==============================] - 1s 46us/step - loss: 0.0947\n",
      "Epoch 4/150\n",
      "14508/14508 [==============================] - 1s 47us/step - loss: 0.0822\n",
      "Epoch 5/150\n",
      "14508/14508 [==============================] - 1s 47us/step - loss: 0.0739\n",
      "Epoch 6/150\n",
      "14508/14508 [==============================] - 1s 46us/step - loss: 0.0685\n",
      "Epoch 7/150\n",
      "14508/14508 [==============================] - 1s 48us/step - loss: 0.0649\n",
      "Epoch 8/150\n",
      "14508/14508 [==============================] - 1s 48us/step - loss: 0.0623\n",
      "Epoch 9/150\n",
      "14508/14508 [==============================] - 1s 50us/step - loss: 0.0601\n",
      "Epoch 10/150\n",
      "14508/14508 [==============================] - 1s 69us/step - loss: 0.0586\n",
      "Epoch 11/150\n",
      "14508/14508 [==============================] - 1s 59us/step - loss: 0.0571\n",
      "Epoch 12/150\n",
      "14508/14508 [==============================] - 1s 44us/step - loss: 0.0559\n",
      "Epoch 13/150\n",
      "14508/14508 [==============================] - 1s 45us/step - loss: 0.0549\n",
      "Epoch 14/150\n",
      "14508/14508 [==============================] - 1s 42us/step - loss: 0.0542\n",
      "Epoch 15/150\n",
      "14508/14508 [==============================] - 1s 44us/step - loss: 0.0534\n",
      "Epoch 16/150\n",
      "14508/14508 [==============================] - 1s 41us/step - loss: 0.0530\n",
      "Epoch 17/150\n",
      "14508/14508 [==============================] - 1s 41us/step - loss: 0.0524\n",
      "Epoch 18/150\n",
      "14508/14508 [==============================] - 1s 41us/step - loss: 0.0517\n",
      "Epoch 19/150\n",
      "14508/14508 [==============================] - 1s 41us/step - loss: 0.0516\n",
      "Epoch 20/150\n",
      "14508/14508 [==============================] - 1s 46us/step - loss: 0.0508\n",
      "Epoch 21/150\n",
      "14508/14508 [==============================] - 1s 41us/step - loss: 0.0505\n",
      "Epoch 22/150\n",
      "14508/14508 [==============================] - 1s 44us/step - loss: 0.0502\n",
      "Epoch 23/150\n",
      "14508/14508 [==============================] - 1s 80us/step - loss: 0.0500\n",
      "Epoch 24/150\n",
      "14508/14508 [==============================] - 1s 46us/step - loss: 0.0496\n",
      "Epoch 25/150\n",
      "14508/14508 [==============================] - 1s 84us/step - loss: 0.0491\n",
      "Epoch 26/150\n",
      "14508/14508 [==============================] - 1s 91us/step - loss: 0.0488\n",
      "Epoch 27/150\n",
      "14508/14508 [==============================] - 1s 47us/step - loss: 0.0486\n",
      "Epoch 28/150\n",
      "14508/14508 [==============================] - 1s 41us/step - loss: 0.0483\n",
      "Epoch 29/150\n",
      "14508/14508 [==============================] - 1s 43us/step - loss: 0.0480\n",
      "Epoch 30/150\n",
      "14508/14508 [==============================] - 1s 42us/step - loss: 0.0478\n",
      "Epoch 31/150\n",
      "14508/14508 [==============================] - 1s 46us/step - loss: 0.0477\n",
      "Epoch 32/150\n",
      "14508/14508 [==============================] - 1s 41us/step - loss: 0.0473\n",
      "Epoch 33/150\n",
      "14508/14508 [==============================] - 1s 46us/step - loss: 0.0471\n",
      "Epoch 34/150\n",
      "14508/14508 [==============================] - 1s 41us/step - loss: 0.0471\n",
      "Epoch 35/150\n",
      "14508/14508 [==============================] - 1s 50us/step - loss: 0.0467\n",
      "Epoch 36/150\n",
      "14508/14508 [==============================] - 1s 50us/step - loss: 0.0466\n",
      "Epoch 37/150\n",
      "14508/14508 [==============================] - 1s 48us/step - loss: 0.0464\n",
      "Epoch 38/150\n",
      "14508/14508 [==============================] - 1s 63us/step - loss: 0.0463\n",
      "Epoch 39/150\n",
      "14508/14508 [==============================] - 1s 77us/step - loss: 0.0460\n",
      "Epoch 40/150\n",
      "14508/14508 [==============================] - 1s 85us/step - loss: 0.0460\n",
      "Epoch 41/150\n",
      "14508/14508 [==============================] - 1s 72us/step - loss: 0.0458\n",
      "Epoch 42/150\n",
      "14508/14508 [==============================] - 1s 61us/step - loss: 0.0455\n",
      "Epoch 43/150\n",
      "14508/14508 [==============================] - 1s 43us/step - loss: 0.0456\n",
      "Epoch 44/150\n",
      "14508/14508 [==============================] - 1s 46us/step - loss: 0.0456\n",
      "Epoch 45/150\n",
      "14508/14508 [==============================] - 1s 47us/step - loss: 0.0453\n",
      "Epoch 46/150\n",
      "14508/14508 [==============================] - 1s 43us/step - loss: 0.0451\n",
      "Epoch 47/150\n",
      "14508/14508 [==============================] - 1s 40us/step - loss: 0.0451\n",
      "Epoch 48/150\n",
      "14508/14508 [==============================] - 1s 40us/step - loss: 0.0448\n",
      "Epoch 49/150\n",
      "14508/14508 [==============================] - 1s 41us/step - loss: 0.0450\n",
      "Epoch 50/150\n",
      "14508/14508 [==============================] - 1s 42us/step - loss: 0.0446\n",
      "Epoch 51/150\n",
      "14508/14508 [==============================] - 1s 40us/step - loss: 0.0448\n",
      "Epoch 52/150\n",
      "14508/14508 [==============================] - 1s 50us/step - loss: 0.0445\n",
      "Epoch 53/150\n",
      "14508/14508 [==============================] - 1s 44us/step - loss: 0.0443\n",
      "Epoch 54/150\n",
      "14508/14508 [==============================] - 1s 40us/step - loss: 0.0443\n",
      "Epoch 55/150\n",
      "14508/14508 [==============================] - 1s 48us/step - loss: 0.0444\n",
      "Epoch 56/150\n",
      "14508/14508 [==============================] - 1s 40us/step - loss: 0.0441\n",
      "Epoch 57/150\n",
      "14508/14508 [==============================] - 1s 43us/step - loss: 0.0443\n",
      "Epoch 58/150\n",
      "14508/14508 [==============================] - 1s 42us/step - loss: 0.0439\n",
      "Epoch 59/150\n",
      "14508/14508 [==============================] - 1s 41us/step - loss: 0.0440\n",
      "Epoch 60/150\n",
      "14508/14508 [==============================] - 1s 41us/step - loss: 0.0438\n",
      "Epoch 61/150\n",
      "14508/14508 [==============================] - 1s 43us/step - loss: 0.0438\n",
      "Epoch 62/150\n",
      "14508/14508 [==============================] - 1s 42us/step - loss: 0.0437\n",
      "Epoch 63/150\n",
      "14508/14508 [==============================] - 1s 41us/step - loss: 0.0436\n",
      "Epoch 64/150\n",
      "14508/14508 [==============================] - 1s 41us/step - loss: 0.0438\n",
      "Epoch 65/150\n",
      "14508/14508 [==============================] - 1s 44us/step - loss: 0.0434\n",
      "Epoch 66/150\n",
      "14508/14508 [==============================] - 1s 41us/step - loss: 0.0435\n",
      "Epoch 67/150\n",
      "14508/14508 [==============================] - 1s 46us/step - loss: 0.0434\n",
      "Epoch 68/150\n",
      "14508/14508 [==============================] - 1s 41us/step - loss: 0.0433\n",
      "Epoch 69/150\n",
      "14508/14508 [==============================] - 1s 41us/step - loss: 0.0431\n",
      "Epoch 70/150\n",
      "14508/14508 [==============================] - 1s 41us/step - loss: 0.0432\n",
      "Epoch 71/150\n",
      "14508/14508 [==============================] - 1s 40us/step - loss: 0.0435\n",
      "Epoch 72/150\n",
      "14508/14508 [==============================] - 1s 41us/step - loss: 0.0430\n",
      "Epoch 73/150\n",
      "14508/14508 [==============================] - 1s 42us/step - loss: 0.0429\n",
      "Epoch 74/150\n",
      "14508/14508 [==============================] - 1s 41us/step - loss: 0.0429\n",
      "Epoch 75/150\n",
      "14508/14508 [==============================] - 1s 43us/step - loss: 0.0430\n",
      "Epoch 76/150\n",
      "14508/14508 [==============================] - 1s 42us/step - loss: 0.0427\n",
      "Epoch 77/150\n",
      "14508/14508 [==============================] - 1s 41us/step - loss: 0.0429\n",
      "Epoch 78/150\n",
      "14508/14508 [==============================] - 1s 41us/step - loss: 0.0427\n",
      "Epoch 79/150\n",
      "14508/14508 [==============================] - 1s 40us/step - loss: 0.0426\n",
      "Epoch 80/150\n",
      "14508/14508 [==============================] - 1s 41us/step - loss: 0.0425\n",
      "Epoch 81/150\n",
      "14508/14508 [==============================] - 1s 41us/step - loss: 0.0426\n",
      "Epoch 82/150\n",
      "14508/14508 [==============================] - 1s 42us/step - loss: 0.0426\n",
      "Epoch 83/150\n",
      "14508/14508 [==============================] - 1s 41us/step - loss: 0.0426\n",
      "Epoch 84/150\n",
      "14508/14508 [==============================] - 1s 40us/step - loss: 0.0424\n",
      "Epoch 85/150\n",
      "14508/14508 [==============================] - 1s 41us/step - loss: 0.0424\n",
      "Epoch 86/150\n",
      "14508/14508 [==============================] - 1s 41us/step - loss: 0.0422\n",
      "Epoch 87/150\n",
      "14508/14508 [==============================] - 1s 42us/step - loss: 0.0422\n",
      "Epoch 88/150\n",
      "14508/14508 [==============================] - 1s 42us/step - loss: 0.0421\n",
      "Epoch 89/150\n",
      "14508/14508 [==============================] - 1s 43us/step - loss: 0.0422\n",
      "Epoch 90/150\n",
      "14508/14508 [==============================] - 1s 42us/step - loss: 0.0421\n",
      "Epoch 91/150\n",
      "14508/14508 [==============================] - 1s 48us/step - loss: 0.0421\n",
      "Epoch 92/150\n",
      "14508/14508 [==============================] - 1s 47us/step - loss: 0.0421\n",
      "Epoch 93/150\n",
      "14508/14508 [==============================] - 1s 44us/step - loss: 0.0422\n",
      "Epoch 94/150\n",
      "14508/14508 [==============================] - 1s 47us/step - loss: 0.0419\n",
      "Epoch 95/150\n",
      "14508/14508 [==============================] - 1s 43us/step - loss: 0.0419\n",
      "Epoch 96/150\n",
      "14508/14508 [==============================] - 1s 42us/step - loss: 0.0420\n",
      "Epoch 97/150\n",
      "14508/14508 [==============================] - 1s 41us/step - loss: 0.0418\n",
      "Epoch 98/150\n",
      "14508/14508 [==============================] - 1s 41us/step - loss: 0.0417\n",
      "Epoch 99/150\n",
      "14508/14508 [==============================] - 1s 41us/step - loss: 0.0420\n",
      "Epoch 100/150\n",
      "14508/14508 [==============================] - 1s 43us/step - loss: 0.0418\n",
      "Epoch 101/150\n",
      "14508/14508 [==============================] - 1s 48us/step - loss: 0.0416\n",
      "Epoch 102/150\n",
      "14508/14508 [==============================] - 1s 44us/step - loss: 0.0417\n",
      "Epoch 103/150\n",
      "14508/14508 [==============================] - 1s 43us/step - loss: 0.0416\n",
      "Epoch 104/150\n",
      "14508/14508 [==============================] - 1s 41us/step - loss: 0.0417\n",
      "Epoch 105/150\n",
      "14508/14508 [==============================] - 1s 41us/step - loss: 0.0415\n",
      "Epoch 106/150\n",
      "14508/14508 [==============================] - 1s 48us/step - loss: 0.0416\n",
      "Epoch 107/150\n",
      "14508/14508 [==============================] - 1s 44us/step - loss: 0.0415\n",
      "Epoch 108/150\n",
      "14508/14508 [==============================] - 1s 41us/step - loss: 0.0415\n",
      "Epoch 109/150\n",
      "14508/14508 [==============================] - 1s 43us/step - loss: 0.0415\n",
      "Epoch 110/150\n",
      "14508/14508 [==============================] - 1s 45us/step - loss: 0.0416\n",
      "Epoch 111/150\n",
      "14508/14508 [==============================] - 1s 47us/step - loss: 0.0413\n",
      "Epoch 112/150\n",
      "14508/14508 [==============================] - 1s 55us/step - loss: 0.0416\n",
      "Epoch 113/150\n",
      "14508/14508 [==============================] - 1s 50us/step - loss: 0.0413\n",
      "Epoch 114/150\n",
      "14508/14508 [==============================] - 1s 52us/step - loss: 0.0413\n",
      "Epoch 115/150\n",
      "14508/14508 [==============================] - 1s 44us/step - loss: 0.0413\n",
      "Epoch 116/150\n",
      "14508/14508 [==============================] - 1s 51us/step - loss: 0.0416\n",
      "Epoch 117/150\n",
      "14508/14508 [==============================] - 1s 48us/step - loss: 0.0411\n",
      "Epoch 118/150\n",
      "14508/14508 [==============================] - 1s 47us/step - loss: 0.0411\n",
      "Epoch 119/150\n",
      "14508/14508 [==============================] - 1s 50us/step - loss: 0.0410\n",
      "Epoch 120/150\n",
      "14508/14508 [==============================] - 1s 47us/step - loss: 0.0411\n",
      "Epoch 121/150\n",
      "14508/14508 [==============================] - 1s 46us/step - loss: 0.0413\n",
      "Epoch 122/150\n",
      "14508/14508 [==============================] - 1s 45us/step - loss: 0.0410\n",
      "Epoch 123/150\n",
      "14508/14508 [==============================] - 1s 52us/step - loss: 0.0410\n",
      "Epoch 124/150\n",
      "14508/14508 [==============================] - 1s 54us/step - loss: 0.0408\n",
      "Epoch 125/150\n",
      "14508/14508 [==============================] - 1s 44us/step - loss: 0.0409\n",
      "Epoch 126/150\n",
      "14508/14508 [==============================] - 1s 48us/step - loss: 0.0409\n",
      "Epoch 127/150\n",
      "14508/14508 [==============================] - 1s 48us/step - loss: 0.0409\n",
      "Epoch 128/150\n",
      "14508/14508 [==============================] - 1s 80us/step - loss: 0.0408\n",
      "Epoch 129/150\n",
      "14508/14508 [==============================] - 1s 89us/step - loss: 0.0411\n",
      "Epoch 130/150\n",
      "14508/14508 [==============================] - 1s 58us/step - loss: 0.0406\n",
      "Epoch 131/150\n",
      "14508/14508 [==============================] - 1s 44us/step - loss: 0.0408\n",
      "Epoch 132/150\n",
      "14508/14508 [==============================] - 1s 102us/step - loss: 0.0408\n",
      "Epoch 133/150\n",
      "14508/14508 [==============================] - 1s 61us/step - loss: 0.0406\n",
      "Epoch 134/150\n",
      "14508/14508 [==============================] - 1s 48us/step - loss: 0.0408\n",
      "Epoch 135/150\n",
      "14508/14508 [==============================] - 1s 54us/step - loss: 0.0407\n",
      "Epoch 136/150\n",
      "14508/14508 [==============================] - 1s 48us/step - loss: 0.0406\n",
      "Epoch 137/150\n",
      "14508/14508 [==============================] - 1s 43us/step - loss: 0.0408\n",
      "Epoch 138/150\n",
      "14508/14508 [==============================] - 1s 42us/step - loss: 0.0407\n",
      "Epoch 139/150\n",
      "14508/14508 [==============================] - 1s 43us/step - loss: 0.0405\n",
      "Epoch 140/150\n",
      "14508/14508 [==============================] - 1s 43us/step - loss: 0.0407\n",
      "Epoch 141/150\n",
      "14508/14508 [==============================] - 1s 42us/step - loss: 0.0407\n",
      "Epoch 142/150\n",
      "14508/14508 [==============================] - 1s 42us/step - loss: 0.0405\n",
      "Epoch 143/150\n",
      "14508/14508 [==============================] - 1s 44us/step - loss: 0.0404\n",
      "Epoch 144/150\n",
      "14508/14508 [==============================] - 1s 42us/step - loss: 0.0405\n",
      "Epoch 145/150\n",
      "14508/14508 [==============================] - 1s 44us/step - loss: 0.0406\n",
      "Epoch 146/150\n",
      "14508/14508 [==============================] - 1s 43us/step - loss: 0.0405\n",
      "Epoch 147/150\n",
      "14508/14508 [==============================] - 1s 41us/step - loss: 0.0404\n",
      "Epoch 148/150\n",
      "14508/14508 [==============================] - 1s 42us/step - loss: 0.0404\n",
      "Epoch 149/150\n",
      "14508/14508 [==============================] - 1s 42us/step - loss: 0.0404\n",
      "Epoch 150/150\n",
      "14508/14508 [==============================] - 1s 44us/step - loss: 0.0403\n"
     ]
    }
   ],
   "source": [
    "history_callback1 = model1.fit(X_train_std,X_train_std,epochs=150,batch_size = 12)\n",
    "loss_history1 = history_callback1.history['loss']"
   ]
  },
  {
   "cell_type": "code",
   "execution_count": 92,
   "metadata": {},
   "outputs": [
    {
     "data": {
      "text/plain": [
       "[<matplotlib.lines.Line2D at 0x1c93d13e48>]"
      ]
     },
     "execution_count": 92,
     "metadata": {},
     "output_type": "execute_result"
    },
    {
     "data": {
      "image/png": "[encoded data removed]",
      "text/plain": [
       "<Figure size 432x288 with 1 Axes>"
      ]
     },
     "metadata": {
      "needs_background": "light"
     },
     "output_type": "display_data"
    }
   ],
   "source": [
    "plt.plot(loss_history1)"
   ]
  },
  {
   "cell_type": "code",
   "execution_count": 93,
   "metadata": {},
   "outputs": [],
   "source": [
    "X_pred1 = model1.predict(X_test_std)"
   ]
  },
  {
   "cell_type": "code",
   "execution_count": 94,
   "metadata": {},
   "outputs": [],
   "source": [
    "df_results1 = results_df(X_test_std,X_pred1,y_test_std)"
   ]
  },
  {
   "cell_type": "code",
   "execution_count": 95,
   "metadata": {},
   "outputs": [
    {
     "name": "stderr",
     "output_type": "stream",
     "text": [
      "/Users/PeterC/anaconda3/lib/python3.6/site-packages/scipy/stats/stats.py:1713: FutureWarning: Using a non-tuple sequence for multidimensional indexing is deprecated; use `arr[tuple(seq)]` instead of `arr[seq]`. In the future this will be interpreted as an array index, `arr[np.array(seq)]`, which will result either in an error or a different result.\n",
      "  return np.add.reduce(sorted[indexer] * weights, axis=axis) / sumval\n"
     ]
    },
    {
     "data": {
      "image/png": "[encoded data removed]",
      "text/plain": [
       "<Figure size 432x288 with 1 Axes>"
      ]
     },
     "metadata": {
      "needs_background": "light"
     },
     "output_type": "display_data"
    }
   ],
   "source": [
    "plot_results_hist(df_results1)"
   ]
  },
  {
   "cell_type": "code",
   "execution_count": 98,
   "metadata": {},
   "outputs": [
    {
     "data": {
      "image/png": "[encoded data removed]",
      "text/plain": [
       "<Figure size 432x288 with 1 Axes>"
      ]
     },
     "metadata": {
      "needs_background": "light"
     },
     "output_type": "display_data"
    }
   ],
   "source": [
    "plot_results_violin(df_results1)"
   ]
  },
  {
   "cell_type": "code",
   "execution_count": null,
   "metadata": {},
   "outputs": [],
   "source": []
  },
  {
   "cell_type": "markdown",
   "metadata": {},
   "source": [
    "# Model 2: Layer autoencoder - minmax scaler (classification - sigmoid)"
   ]
  },
  {
   "cell_type": "code",
   "execution_count": 99,
   "metadata": {},
   "outputs": [
    {
     "name": "stdout",
     "output_type": "stream",
     "text": [
      "_________________________________________________________________\n",
      "Layer (type)                 Output Shape              Param #   \n",
      "=================================================================\n",
      "dense_9 (Dense)              (None, 32)                1920      \n",
      "_________________________________________________________________\n",
      "dense_10 (Dense)             (None, 16)                528       \n",
      "_________________________________________________________________\n",
      "dense_11 (Dense)             (None, 32)                544       \n",
      "_________________________________________________________________\n",
      "dense_12 (Dense)             (None, 59)                1947      \n",
      "=================================================================\n",
      "Total params: 4,939\n",
      "Trainable params: 4,939\n",
      "Non-trainable params: 0\n",
      "_________________________________________________________________\n"
     ]
    }
   ],
   "source": [
    "model2 = simple_ann_autoencoder_classification()\n",
    "model2.summary()"
   ]
  },
  {
   "cell_type": "code",
   "execution_count": 100,
   "metadata": {},
   "outputs": [
    {
     "name": "stdout",
     "output_type": "stream",
     "text": [
      "Epoch 1/100\n",
      "12896/12896 [==============================] - 1s 50us/step - loss: 0.4897\n",
      "Epoch 2/100\n",
      "12896/12896 [==============================] - 1s 56us/step - loss: 0.4667\n",
      "Epoch 3/100\n",
      "12896/12896 [==============================] - 1s 53us/step - loss: 0.4635\n",
      "Epoch 4/100\n",
      "12896/12896 [==============================] - 1s 53us/step - loss: 0.4620\n",
      "Epoch 5/100\n",
      "12896/12896 [==============================] - 1s 54us/step - loss: 0.4611\n",
      "Epoch 6/100\n",
      "12896/12896 [==============================] - 1s 51us/step - loss: 0.4603\n",
      "Epoch 7/100\n",
      "12896/12896 [==============================] - 1s 53us/step - loss: 0.4597\n",
      "Epoch 8/100\n",
      "12896/12896 [==============================] - 1s 53us/step - loss: 0.4593\n",
      "Epoch 9/100\n",
      "12896/12896 [==============================] - 1s 56us/step - loss: 0.4590\n",
      "Epoch 10/100\n",
      "12896/12896 [==============================] - 1s 53us/step - loss: 0.4588\n",
      "Epoch 11/100\n",
      "12896/12896 [==============================] - 1s 54us/step - loss: 0.4587\n",
      "Epoch 12/100\n",
      "12896/12896 [==============================] - 1s 53us/step - loss: 0.4585\n",
      "Epoch 13/100\n",
      "12896/12896 [==============================] - 1s 54us/step - loss: 0.4584\n",
      "Epoch 14/100\n",
      "12896/12896 [==============================] - 1s 53us/step - loss: 0.4584\n",
      "Epoch 15/100\n",
      "12896/12896 [==============================] - 1s 60us/step - loss: 0.4583\n",
      "Epoch 16/100\n",
      "12896/12896 [==============================] - 1s 52us/step - loss: 0.4582\n",
      "Epoch 17/100\n",
      "12896/12896 [==============================] - 1s 52us/step - loss: 0.4582\n",
      "Epoch 18/100\n",
      "12896/12896 [==============================] - 1s 53us/step - loss: 0.4581\n",
      "Epoch 19/100\n",
      "12896/12896 [==============================] - 1s 55us/step - loss: 0.4581\n",
      "Epoch 20/100\n",
      "12896/12896 [==============================] - 1s 54us/step - loss: 0.4581\n",
      "Epoch 21/100\n",
      "12896/12896 [==============================] - 1s 57us/step - loss: 0.4580\n",
      "Epoch 22/100\n",
      "12896/12896 [==============================] - 1s 60us/step - loss: 0.4579\n",
      "Epoch 23/100\n",
      "12896/12896 [==============================] - 1s 64us/step - loss: 0.4579\n",
      "Epoch 24/100\n",
      "12896/12896 [==============================] - 1s 56us/step - loss: 0.4578\n",
      "Epoch 25/100\n",
      "12896/12896 [==============================] - 1s 58us/step - loss: 0.4578\n",
      "Epoch 26/100\n",
      "12896/12896 [==============================] - 1s 64us/step - loss: 0.4577\n",
      "Epoch 27/100\n",
      "12896/12896 [==============================] - 1s 62us/step - loss: 0.4577\n",
      "Epoch 28/100\n",
      "12896/12896 [==============================] - 1s 58us/step - loss: 0.4577\n",
      "Epoch 29/100\n",
      "12896/12896 [==============================] - 1s 67us/step - loss: 0.4576\n",
      "Epoch 30/100\n",
      "12896/12896 [==============================] - 1s 63us/step - loss: 0.4575\n",
      "Epoch 31/100\n",
      "12896/12896 [==============================] - 1s 66us/step - loss: 0.4575\n",
      "Epoch 32/100\n",
      "12896/12896 [==============================] - 1s 74us/step - loss: 0.4574\n",
      "Epoch 33/100\n",
      "12896/12896 [==============================] - 1s 73us/step - loss: 0.4574\n",
      "Epoch 34/100\n",
      "12896/12896 [==============================] - 1s 55us/step - loss: 0.4573\n",
      "Epoch 35/100\n",
      "12896/12896 [==============================] - 1s 53us/step - loss: 0.4573\n",
      "Epoch 36/100\n",
      "12896/12896 [==============================] - 1s 101us/step - loss: 0.4572\n",
      "Epoch 37/100\n",
      "12896/12896 [==============================] - 1s 106us/step - loss: 0.4572\n",
      "Epoch 38/100\n",
      "12896/12896 [==============================] - 2s 139us/step - loss: 0.4572\n",
      "Epoch 39/100\n",
      "12896/12896 [==============================] - 1s 69us/step - loss: 0.4572\n",
      "Epoch 40/100\n",
      "12896/12896 [==============================] - 1s 89us/step - loss: 0.4571\n",
      "Epoch 41/100\n",
      "12896/12896 [==============================] - 1s 62us/step - loss: 0.4571\n",
      "Epoch 42/100\n",
      "12896/12896 [==============================] - 1s 59us/step - loss: 0.4571\n",
      "Epoch 43/100\n",
      "12896/12896 [==============================] - 1s 70us/step - loss: 0.4571\n",
      "Epoch 44/100\n",
      "12896/12896 [==============================] - 1s 81us/step - loss: 0.4571\n",
      "Epoch 45/100\n",
      "12896/12896 [==============================] - 1s 66us/step - loss: 0.4571\n",
      "Epoch 46/100\n",
      "12896/12896 [==============================] - 1s 83us/step - loss: 0.4570\n",
      "Epoch 47/100\n",
      "12896/12896 [==============================] - 1s 65us/step - loss: 0.4571\n",
      "Epoch 48/100\n",
      "12896/12896 [==============================] - 1s 59us/step - loss: 0.4570\n",
      "Epoch 49/100\n",
      "12896/12896 [==============================] - 1s 63us/step - loss: 0.4570\n",
      "Epoch 50/100\n",
      "12896/12896 [==============================] - 1s 64us/step - loss: 0.4570\n",
      "Epoch 51/100\n",
      "12896/12896 [==============================] - 1s 56us/step - loss: 0.4569\n",
      "Epoch 52/100\n",
      "12896/12896 [==============================] - 1s 56us/step - loss: 0.4569\n",
      "Epoch 53/100\n",
      "12896/12896 [==============================] - 1s 59us/step - loss: 0.4569\n",
      "Epoch 54/100\n",
      "12896/12896 [==============================] - 1s 83us/step - loss: 0.4569\n",
      "Epoch 55/100\n",
      "12896/12896 [==============================] - 1s 50us/step - loss: 0.4569\n",
      "Epoch 56/100\n",
      "12896/12896 [==============================] - 1s 62us/step - loss: 0.4569\n",
      "Epoch 57/100\n",
      "12896/12896 [==============================] - 1s 81us/step - loss: 0.4568\n",
      "Epoch 58/100\n",
      "12896/12896 [==============================] - 1s 69us/step - loss: 0.4568\n",
      "Epoch 59/100\n",
      "12896/12896 [==============================] - 1s 89us/step - loss: 0.4568\n",
      "Epoch 60/100\n",
      "12896/12896 [==============================] - 1s 61us/step - loss: 0.4569\n",
      "Epoch 61/100\n",
      "12896/12896 [==============================] - 1s 57us/step - loss: 0.4568\n",
      "Epoch 62/100\n",
      "12896/12896 [==============================] - 1s 60us/step - loss: 0.4568\n",
      "Epoch 63/100\n",
      "12896/12896 [==============================] - 1s 57us/step - loss: 0.4568\n",
      "Epoch 64/100\n",
      "12896/12896 [==============================] - 1s 57us/step - loss: 0.4568\n",
      "Epoch 65/100\n",
      "12896/12896 [==============================] - 1s 59us/step - loss: 0.4568\n",
      "Epoch 66/100\n",
      "12896/12896 [==============================] - 1s 68us/step - loss: 0.4567\n",
      "Epoch 67/100\n",
      "12896/12896 [==============================] - 1s 56us/step - loss: 0.4568\n",
      "Epoch 68/100\n",
      "12896/12896 [==============================] - 1s 62us/step - loss: 0.4567\n",
      "Epoch 69/100\n",
      "12896/12896 [==============================] - 1s 58us/step - loss: 0.4567\n",
      "Epoch 70/100\n",
      "12896/12896 [==============================] - 1s 88us/step - loss: 0.4567\n",
      "Epoch 71/100\n",
      "12896/12896 [==============================] - 1s 72us/step - loss: 0.4567\n",
      "Epoch 72/100\n",
      "12896/12896 [==============================] - 1s 67us/step - loss: 0.4567\n",
      "Epoch 73/100\n",
      "12896/12896 [==============================] - 1s 62us/step - loss: 0.4566\n",
      "Epoch 74/100\n",
      "12896/12896 [==============================] - 1s 60us/step - loss: 0.4566\n",
      "Epoch 75/100\n",
      "12896/12896 [==============================] - 2s 133us/step - loss: 0.4566\n",
      "Epoch 76/100\n",
      "12896/12896 [==============================] - 2s 166us/step - loss: 0.4566\n",
      "Epoch 77/100\n",
      "12896/12896 [==============================] - 1s 68us/step - loss: 0.4565\n",
      "Epoch 78/100\n",
      "12896/12896 [==============================] - 1s 67us/step - loss: 0.4565\n",
      "Epoch 79/100\n",
      "12896/12896 [==============================] - 1s 63us/step - loss: 0.4565\n",
      "Epoch 80/100\n",
      "12896/12896 [==============================] - 1s 64us/step - loss: 0.4565\n",
      "Epoch 81/100\n",
      "12896/12896 [==============================] - 1s 67us/step - loss: 0.4565\n",
      "Epoch 82/100\n",
      "12896/12896 [==============================] - 1s 69us/step - loss: 0.4565\n",
      "Epoch 83/100\n",
      "12896/12896 [==============================] - 1s 63us/step - loss: 0.4565\n",
      "Epoch 84/100\n",
      "12896/12896 [==============================] - 1s 58us/step - loss: 0.4565\n",
      "Epoch 85/100\n",
      "12896/12896 [==============================] - 1s 60us/step - loss: 0.4565\n",
      "Epoch 86/100\n",
      "12896/12896 [==============================] - 1s 60us/step - loss: 0.4565\n",
      "Epoch 87/100\n",
      "12896/12896 [==============================] - 1s 63us/step - loss: 0.4565\n",
      "Epoch 88/100\n",
      "12896/12896 [==============================] - 1s 59us/step - loss: 0.4565\n",
      "Epoch 89/100\n",
      "12896/12896 [==============================] - 1s 60us/step - loss: 0.4565\n",
      "Epoch 90/100\n",
      "12896/12896 [==============================] - 1s 60us/step - loss: 0.4564\n",
      "Epoch 91/100\n",
      "12896/12896 [==============================] - 1s 59us/step - loss: 0.4565\n",
      "Epoch 92/100\n",
      "12896/12896 [==============================] - 1s 70us/step - loss: 0.4564\n",
      "Epoch 93/100\n",
      "12896/12896 [==============================] - 1s 59us/step - loss: 0.4565\n",
      "Epoch 94/100\n",
      "12896/12896 [==============================] - 1s 62us/step - loss: 0.4564\n",
      "Epoch 95/100\n",
      "12896/12896 [==============================] - 1s 60us/step - loss: 0.4564\n",
      "Epoch 96/100\n",
      "12896/12896 [==============================] - 1s 59us/step - loss: 0.4564\n",
      "Epoch 97/100\n",
      "12896/12896 [==============================] - 1s 59us/step - loss: 0.4565\n",
      "Epoch 98/100\n",
      "12896/12896 [==============================] - 1s 60us/step - loss: 0.4564\n",
      "Epoch 99/100\n",
      "12896/12896 [==============================] - 1s 63us/step - loss: 0.4564\n",
      "Epoch 100/100\n",
      "12896/12896 [==============================] - 1s 72us/step - loss: 0.4564\n"
     ]
    }
   ],
   "source": [
    "history_callback2 = model2.fit(X_train_minmax,X_train_minmax,epochs=100,batch_size = 12)\n",
    "loss_history2 = history_callback2.history['loss']"
   ]
  },
  {
   "cell_type": "code",
   "execution_count": 101,
   "metadata": {},
   "outputs": [
    {
     "data": {
      "text/plain": [
       "[<matplotlib.lines.Line2D at 0x1c94cf5a90>]"
      ]
     },
     "execution_count": 101,
     "metadata": {},
     "output_type": "execute_result"
    },
    {
     "data": {
      "image/png": "[encoded data removed]",
      "text/plain": [
       "<Figure size 432x288 with 1 Axes>"
      ]
     },
     "metadata": {
      "needs_background": "light"
     },
     "output_type": "display_data"
    }
   ],
   "source": [
    "plt.plot(loss_history2)"
   ]
  },
  {
   "cell_type": "code",
   "execution_count": 102,
   "metadata": {},
   "outputs": [],
   "source": [
    "X_pred2 = model2.predict(X_test_minmax)"
   ]
  },
  {
   "cell_type": "code",
   "execution_count": 103,
   "metadata": {},
   "outputs": [],
   "source": [
    "df_results2 = results_df(X_test_minmax,X_pred2,y_test_minmax)"
   ]
  },
  {
   "cell_type": "code",
   "execution_count": 104,
   "metadata": {},
   "outputs": [
    {
     "name": "stderr",
     "output_type": "stream",
     "text": [
      "/Users/PeterC/anaconda3/lib/python3.6/site-packages/scipy/stats/stats.py:1713: FutureWarning: Using a non-tuple sequence for multidimensional indexing is deprecated; use `arr[tuple(seq)]` instead of `arr[seq]`. In the future this will be interpreted as an array index, `arr[np.array(seq)]`, which will result either in an error or a different result.\n",
      "  return np.add.reduce(sorted[indexer] * weights, axis=axis) / sumval\n"
     ]
    },
    {
     "data": {
      "image/png": "[encoded data removed]",
      "text/plain": [
       "<Figure size 432x288 with 1 Axes>"
      ]
     },
     "metadata": {
      "needs_background": "light"
     },
     "output_type": "display_data"
    }
   ],
   "source": [
    "plot_results_hist(df_results2)"
   ]
  },
  {
   "cell_type": "code",
   "execution_count": null,
   "metadata": {},
   "outputs": [],
   "source": []
  }
 ],
 "metadata": {
  "kernelspec": {
   "display_name": "Python 3",
   "language": "python",
   "name": "python3"
  },
  "language_info": {
   "codemirror_mode": {
    "name": "ipython",
    "version": 3
   },
   "file_extension": ".py",
   "mimetype": "text/x-python",
   "name": "python",
   "nbconvert_exporter": "python",
   "pygments_lexer": "ipython3",
   "version": "3.7.3"
  }
 },
 "nbformat": 4,
 "nbformat_minor": 2
}
