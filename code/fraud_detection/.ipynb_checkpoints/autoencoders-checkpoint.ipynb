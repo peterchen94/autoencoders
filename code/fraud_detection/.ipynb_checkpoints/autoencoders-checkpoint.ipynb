{
 "cells": [
  {
   "cell_type": "code",
   "execution_count": 2,
   "metadata": {},
   "outputs": [
    {
     "name": "stderr",
     "output_type": "stream",
     "text": [
      "Using TensorFlow backend.\n"
     ]
    }
   ],
   "source": [
    "import pandas as pd\n",
    "import numpy as np\n",
    "import matplotlib.pyplot as plt\n",
    "import os\n",
    "import sys\n",
    "import seaborn as sns\n",
    "from sklearn.preprocessing import StandardScaler, MinMaxScaler\n",
    "from sklearn.model_selection import train_test_split\n",
    "from keras.layers import Input,Dense, Dropout\n",
    "from keras.models import Model,Sequential\n",
    "from sklearn.metrics import roc_curve, auc\n",
    "from sklearn.manifold import TSNE\n",
    "from sklearn.cluster import KMeans\n",
    "from sklearn.metrics import adjusted_mutual_info_score,adjusted_rand_score,v_measure_score, completeness_score, homogeneity_score, silhouette_score,roc_curve, auc, f1_score, precision_recall_curve, precision_score,recall_score,accuracy_score,confusion_matrix\n",
    "sys.path.append('/Users/chenpete/Documents/ESP/practicum/autoencoders/code/')\n",
    "from sklearn.neighbors import BallTree\n",
    "from utils import * "
   ]
  },
  {
   "cell_type": "markdown",
   "metadata": {},
   "source": [
    "# Configuration"
   ]
  },
  {
   "cell_type": "code",
   "execution_count": 14,
   "metadata": {},
   "outputs": [],
   "source": [
    "DATA_DIR = '/Users/PeterC/Documents/gt/practicum/autoencoders/data/'\n",
    "DATA_DIR = '/Users/chenpete/Documents/ESP/practicum/autoencoders/data/'\n",
    "\n",
    "non_scale_cols = ['y','y_rank']\n",
    "param_cols = [\n",
    "        'V1', 'V2', 'V3', 'V4', 'V5', 'V6', 'V7', 'V8', 'V9', 'V10',\n",
    "       'V11', 'V12', 'V13', 'V14', 'V15', 'V16', 'V17', 'V18', 'V19', 'V20',\n",
    "       'V21', 'V22', 'V23', 'V24', 'V25', 'V26', 'V27', 'V28', 'Amount']\n",
    "\n",
    "y_col = 'y'\n",
    "early_step = 0\n",
    "df = pd.read_csv(DATA_DIR + 'creditcard.csv')\n",
    "\n",
    "df['y'] = df['Class']\n",
    "X_train, X_test, y_train, y_test, y_rank_train, y_rank_test = preprocess_data(df,param_cols,y_col, non_scale_cols,early_step)"
   ]
  },
  {
   "cell_type": "code",
   "execution_count": 15,
   "metadata": {},
   "outputs": [
    {
     "data": {
      "text/plain": [
       "0    255883\n",
       "Name: y, dtype: int64"
      ]
     },
     "execution_count": 15,
     "metadata": {},
     "output_type": "execute_result"
    }
   ],
   "source": [
    "y_train.value_counts()"
   ]
  },
  {
   "cell_type": "code",
   "execution_count": 16,
   "metadata": {},
   "outputs": [
    {
     "data": {
      "text/plain": [
       "0    28432\n",
       "1      492\n",
       "Name: y, dtype: int64"
      ]
     },
     "execution_count": 16,
     "metadata": {},
     "output_type": "execute_result"
    }
   ],
   "source": [
    "y_test.value_counts()"
   ]
  },
  {
   "cell_type": "code",
   "execution_count": 17,
   "metadata": {},
   "outputs": [
    {
     "data": {
      "text/plain": [
       "0    28432\n",
       "1      492\n",
       "Name: y_rank, dtype: int64"
      ]
     },
     "execution_count": 17,
     "metadata": {},
     "output_type": "execute_result"
    }
   ],
   "source": [
    "y_rank_test.value_counts()"
   ]
  },
  {
   "cell_type": "code",
   "execution_count": 18,
   "metadata": {},
   "outputs": [
    {
     "data": {
      "text/plain": [
       "(255883, 29)"
      ]
     },
     "execution_count": 18,
     "metadata": {},
     "output_type": "execute_result"
    }
   ],
   "source": [
    "X_train.shape"
   ]
  },
  {
   "cell_type": "markdown",
   "metadata": {},
   "source": [
    "# Model 1: Layer autoencoder"
   ]
  },
  {
   "cell_type": "code",
   "execution_count": 19,
   "metadata": {},
   "outputs": [
    {
     "name": "stdout",
     "output_type": "stream",
     "text": [
      "WARNING:tensorflow:From /Users/chenpete/Documents/code/DL/dlenv/lib/python3.7/site-packages/tensorflow/python/framework/op_def_library.py:263: colocate_with (from tensorflow.python.framework.ops) is deprecated and will be removed in a future version.\n",
      "Instructions for updating:\n",
      "Colocations handled automatically by placer.\n",
      "_________________________________________________________________\n",
      "Layer (type)                 Output Shape              Param #   \n",
      "=================================================================\n",
      "dense_1 (Dense)              (None, 24)                720       \n",
      "_________________________________________________________________\n",
      "dense_2 (Dense)              (None, 16)                400       \n",
      "_________________________________________________________________\n",
      "dense_3 (Dense)              (None, 24)                408       \n",
      "_________________________________________________________________\n",
      "dense_4 (Dense)              (None, 29)                725       \n",
      "=================================================================\n",
      "Total params: 2,253\n",
      "Trainable params: 2,253\n",
      "Non-trainable params: 0\n",
      "_________________________________________________________________\n"
     ]
    }
   ],
   "source": [
    "model = simple_ann_autoencoder_regression(param_cols,24,16,24)\n",
    "model.summary()"
   ]
  },
  {
   "cell_type": "code",
   "execution_count": 20,
   "metadata": {},
   "outputs": [
    {
     "name": "stdout",
     "output_type": "stream",
     "text": [
      "WARNING:tensorflow:From /Users/chenpete/Documents/code/DL/dlenv/lib/python3.7/site-packages/tensorflow/python/ops/math_ops.py:3066: to_int32 (from tensorflow.python.ops.math_ops) is deprecated and will be removed in a future version.\n",
      "Instructions for updating:\n",
      "Use tf.cast instead.\n",
      "Epoch 1/100\n",
      "255883/255883 [==============================] - 7s 27us/step - loss: 0.3409\n",
      "Epoch 2/100\n",
      "255883/255883 [==============================] - 6s 25us/step - loss: 0.2164\n",
      "Epoch 3/100\n",
      "255883/255883 [==============================] - 6s 25us/step - loss: 0.2061\n",
      "Epoch 4/100\n",
      "255883/255883 [==============================] - 6s 23us/step - loss: 0.1950\n",
      "Epoch 5/100\n",
      "255883/255883 [==============================] - 6s 23us/step - loss: 0.1773\n",
      "Epoch 6/100\n",
      "255883/255883 [==============================] - 6s 23us/step - loss: 0.1722\n",
      "Epoch 7/100\n",
      "255883/255883 [==============================] - 6s 23us/step - loss: 0.1719\n",
      "Epoch 8/100\n",
      "255883/255883 [==============================] - 6s 24us/step - loss: 0.1702\n",
      "Epoch 9/100\n",
      "255883/255883 [==============================] - 6s 24us/step - loss: 0.1700\n",
      "Epoch 10/100\n",
      "255883/255883 [==============================] - 6s 24us/step - loss: 0.1689\n",
      "Epoch 11/100\n",
      "255883/255883 [==============================] - 6s 24us/step - loss: 0.1681\n",
      "Epoch 12/100\n",
      "255883/255883 [==============================] - 6s 23us/step - loss: 0.1672\n",
      "Epoch 13/100\n",
      "255883/255883 [==============================] - 6s 23us/step - loss: 0.1664\n",
      "Epoch 14/100\n",
      "255883/255883 [==============================] - 6s 23us/step - loss: 0.1659\n",
      "Epoch 15/100\n",
      "255883/255883 [==============================] - 6s 23us/step - loss: 0.1654\n",
      "Epoch 16/100\n",
      "255883/255883 [==============================] - 6s 23us/step - loss: 0.1649\n",
      "Epoch 17/100\n",
      "255883/255883 [==============================] - 6s 24us/step - loss: 0.1642\n",
      "Epoch 18/100\n",
      "255883/255883 [==============================] - 6s 23us/step - loss: 0.1637\n",
      "Epoch 19/100\n",
      "255883/255883 [==============================] - 6s 24us/step - loss: 0.1637\n",
      "Epoch 20/100\n",
      "255883/255883 [==============================] - 6s 24us/step - loss: 0.1637\n",
      "Epoch 21/100\n",
      "255883/255883 [==============================] - 6s 24us/step - loss: 0.1630\n",
      "Epoch 22/100\n",
      "255883/255883 [==============================] - 6s 24us/step - loss: 0.1626\n",
      "Epoch 23/100\n",
      "255883/255883 [==============================] - 6s 24us/step - loss: 0.1630\n",
      "Epoch 24/100\n",
      "255883/255883 [==============================] - 6s 24us/step - loss: 0.1621\n",
      "Epoch 25/100\n",
      "255883/255883 [==============================] - 6s 24us/step - loss: 0.1631\n",
      "Epoch 26/100\n",
      "255883/255883 [==============================] - 7s 26us/step - loss: 0.1620\n",
      "Epoch 27/100\n",
      "255883/255883 [==============================] - 7s 26us/step - loss: 0.1626\n",
      "Epoch 28/100\n",
      "255883/255883 [==============================] - 6s 25us/step - loss: 0.1617\n",
      "Epoch 29/100\n",
      "255883/255883 [==============================] - 6s 25us/step - loss: 0.1625\n",
      "Epoch 30/100\n",
      "255883/255883 [==============================] - 7s 25us/step - loss: 0.1615\n",
      "Epoch 31/100\n",
      "255883/255883 [==============================] - 7s 29us/step - loss: 0.1613\n",
      "Epoch 32/100\n",
      "255883/255883 [==============================] - 6s 25us/step - loss: 0.1610\n",
      "Epoch 33/100\n",
      "255883/255883 [==============================] - 6s 24us/step - loss: 0.1621\n",
      "Epoch 34/100\n",
      "255883/255883 [==============================] - 7s 27us/step - loss: 0.1606\n",
      "Epoch 35/100\n",
      "255883/255883 [==============================] - 6s 24us/step - loss: 0.1606\n",
      "Epoch 36/100\n",
      "255883/255883 [==============================] - 6s 25us/step - loss: 0.1603\n",
      "Epoch 37/100\n",
      "255883/255883 [==============================] - 6s 25us/step - loss: 0.1603\n",
      "Epoch 38/100\n",
      "255883/255883 [==============================] - 6s 25us/step - loss: 0.1600\n",
      "Epoch 39/100\n",
      "255883/255883 [==============================] - 6s 24us/step - loss: 0.1604\n",
      "Epoch 40/100\n",
      "255883/255883 [==============================] - 6s 24us/step - loss: 0.1560\n",
      "Epoch 41/100\n",
      "255883/255883 [==============================] - 6s 24us/step - loss: 0.1551\n",
      "Epoch 42/100\n",
      "255883/255883 [==============================] - 6s 25us/step - loss: 0.1550\n",
      "Epoch 43/100\n",
      "255883/255883 [==============================] - 7s 26us/step - loss: 0.1547\n",
      "Epoch 44/100\n",
      "255883/255883 [==============================] - 7s 28us/step - loss: 0.1546\n",
      "Epoch 45/100\n",
      "255883/255883 [==============================] - 7s 25us/step - loss: 0.1546\n",
      "Epoch 46/100\n",
      "255883/255883 [==============================] - 6s 25us/step - loss: 0.1544\n",
      "Epoch 47/100\n",
      "255883/255883 [==============================] - 6s 25us/step - loss: 0.1548\n",
      "Epoch 48/100\n",
      "255883/255883 [==============================] - 7s 26us/step - loss: 0.1546\n",
      "Epoch 49/100\n",
      "255883/255883 [==============================] - 6s 25us/step - loss: 0.1547\n",
      "Epoch 50/100\n",
      "255883/255883 [==============================] - 6s 25us/step - loss: 0.1546\n",
      "Epoch 51/100\n",
      "255883/255883 [==============================] - 6s 25us/step - loss: 0.1548\n",
      "Epoch 52/100\n",
      "255883/255883 [==============================] - 6s 25us/step - loss: 0.1541\n",
      "Epoch 53/100\n",
      "255883/255883 [==============================] - 6s 25us/step - loss: 0.1541\n",
      "Epoch 54/100\n",
      "255883/255883 [==============================] - 6s 25us/step - loss: 0.1546\n",
      "Epoch 55/100\n",
      "255883/255883 [==============================] - 6s 25us/step - loss: 0.1546\n",
      "Epoch 56/100\n",
      "255883/255883 [==============================] - 6s 25us/step - loss: 0.1542\n",
      "Epoch 57/100\n",
      "255883/255883 [==============================] - 6s 25us/step - loss: 0.1544\n",
      "Epoch 58/100\n",
      "255883/255883 [==============================] - 6s 25us/step - loss: 0.1539\n",
      "Epoch 59/100\n",
      "255883/255883 [==============================] - 7s 28us/step - loss: 0.1538\n",
      "Epoch 60/100\n",
      "255883/255883 [==============================] - 7s 26us/step - loss: 0.1545\n",
      "Epoch 61/100\n",
      "255883/255883 [==============================] - 6s 25us/step - loss: 0.1538\n",
      "Epoch 62/100\n",
      "255883/255883 [==============================] - 6s 25us/step - loss: 0.1539\n",
      "Epoch 63/100\n",
      "255883/255883 [==============================] - 6s 25us/step - loss: 0.1544\n",
      "Epoch 64/100\n",
      "255883/255883 [==============================] - 6s 24us/step - loss: 0.1538\n",
      "Epoch 65/100\n",
      "255883/255883 [==============================] - 6s 25us/step - loss: 0.1541\n",
      "Epoch 66/100\n",
      "255883/255883 [==============================] - 6s 25us/step - loss: 0.1538\n",
      "Epoch 67/100\n",
      "255883/255883 [==============================] - 6s 25us/step - loss: 0.1538\n",
      "Epoch 68/100\n",
      "255883/255883 [==============================] - 6s 25us/step - loss: 0.1537\n",
      "Epoch 69/100\n",
      "255883/255883 [==============================] - 6s 25us/step - loss: 0.1536\n",
      "Epoch 70/100\n",
      "255883/255883 [==============================] - 6s 25us/step - loss: 0.1535\n",
      "Epoch 71/100\n",
      "255883/255883 [==============================] - 6s 25us/step - loss: 0.1538\n",
      "Epoch 72/100\n",
      "255883/255883 [==============================] - 6s 25us/step - loss: 0.1533\n",
      "Epoch 73/100\n",
      "255883/255883 [==============================] - 6s 25us/step - loss: 0.1534\n",
      "Epoch 74/100\n",
      "255883/255883 [==============================] - 6s 25us/step - loss: 0.1537\n",
      "Epoch 75/100\n",
      "255883/255883 [==============================] - 6s 25us/step - loss: 0.1534\n",
      "Epoch 76/100\n",
      "255883/255883 [==============================] - 6s 25us/step - loss: 0.1539\n",
      "Epoch 77/100\n",
      "255883/255883 [==============================] - 6s 25us/step - loss: 0.1535\n",
      "Epoch 78/100\n",
      "255883/255883 [==============================] - 6s 25us/step - loss: 0.1537\n",
      "Epoch 79/100\n",
      "255883/255883 [==============================] - 6s 25us/step - loss: 0.1539\n",
      "Epoch 80/100\n",
      "255883/255883 [==============================] - 6s 25us/step - loss: 0.1538\n",
      "Epoch 81/100\n",
      "255883/255883 [==============================] - 6s 25us/step - loss: 0.1532\n",
      "Epoch 82/100\n",
      "255883/255883 [==============================] - 6s 25us/step - loss: 0.1537\n",
      "Epoch 83/100\n",
      "255883/255883 [==============================] - 6s 25us/step - loss: 0.1538\n",
      "Epoch 84/100\n",
      "255883/255883 [==============================] - 6s 25us/step - loss: 0.1535\n",
      "Epoch 85/100\n",
      "255883/255883 [==============================] - 6s 25us/step - loss: 0.1535\n",
      "Epoch 86/100\n",
      "255883/255883 [==============================] - 6s 25us/step - loss: 0.1540\n",
      "Epoch 87/100\n",
      "255883/255883 [==============================] - 7s 26us/step - loss: 0.1535\n",
      "Epoch 88/100\n",
      "255883/255883 [==============================] - 7s 29us/step - loss: 0.1536\n",
      "Epoch 89/100\n",
      "255883/255883 [==============================] - 7s 26us/step - loss: 0.1534\n",
      "Epoch 90/100\n",
      "255883/255883 [==============================] - 6s 25us/step - loss: 0.1536\n",
      "Epoch 91/100\n",
      "255883/255883 [==============================] - 6s 25us/step - loss: 0.1534\n",
      "Epoch 92/100\n",
      "255883/255883 [==============================] - 6s 25us/step - loss: 0.1533\n",
      "Epoch 93/100\n",
      "255883/255883 [==============================] - 6s 25us/step - loss: 0.1534\n",
      "Epoch 94/100\n",
      "255883/255883 [==============================] - 7s 26us/step - loss: 0.1531\n",
      "Epoch 95/100\n",
      "255883/255883 [==============================] - 7s 26us/step - loss: 0.1535\n",
      "Epoch 96/100\n",
      "255883/255883 [==============================] - 6s 25us/step - loss: 0.1532\n",
      "Epoch 97/100\n",
      "255883/255883 [==============================] - 6s 25us/step - loss: 0.1535\n",
      "Epoch 98/100\n",
      "255883/255883 [==============================] - 7s 26us/step - loss: 0.1534\n",
      "Epoch 99/100\n",
      "255883/255883 [==============================] - 7s 26us/step - loss: 0.1530\n",
      "Epoch 100/100\n",
      "255883/255883 [==============================] - 7s 26us/step - loss: 0.1534\n"
     ]
    }
   ],
   "source": [
    "history_callback = model.fit(X_train,X_train,epochs=100,batch_size = 32)\n",
    "loss_history = history_callback.history['loss']"
   ]
  },
  {
   "cell_type": "code",
   "execution_count": 22,
   "metadata": {},
   "outputs": [],
   "source": [
    "model.save('autoencoder_24_16_24_fraud.h5')"
   ]
  },
  {
   "cell_type": "code",
   "execution_count": 23,
   "metadata": {},
   "outputs": [
    {
     "data": {
      "text/plain": [
       "Text(0.5, 1.0, 'loss history')"
      ]
     },
     "execution_count": 23,
     "metadata": {},
     "output_type": "execute_result"
    },
    {
     "data": {
      "image/png": "[encoded data removed]",
      "text/plain": [
       "<Figure size 432x288 with 1 Axes>"
      ]
     },
     "metadata": {
      "needs_background": "light"
     },
     "output_type": "display_data"
    }
   ],
   "source": [
    "plt.plot(loss_history)\n",
    "plt.title('loss history')"
   ]
  },
  {
   "cell_type": "code",
   "execution_count": 24,
   "metadata": {},
   "outputs": [],
   "source": [
    "X_pred_test = model.predict(X_test)\n",
    "\n",
    "X_pred_train = model.predict(X_train)\n",
    "\n",
    "df_results_test = results_df(X_test,X_pred_test,y_test,y_rank_test)\n",
    "df_results_train = results_df(X_train,X_pred_train,y_train,y_rank_train)"
   ]
  },
  {
   "cell_type": "code",
   "execution_count": 25,
   "metadata": {},
   "outputs": [],
   "source": [
    "res_nominal_train = df_results_train[df_results_train['y'] == 0]['residual_avg']\n",
    "\n",
    "average_res_nominal_train = np.mean(res_nominal_train)\n",
    "std_res_nominal_train = np.std(res_nominal_train)\n",
    "threshold_3s = average_res_nominal_train + 3*std_res_nominal_train\n",
    "threshold_5s = average_res_nominal_train + 5*std_res_nominal_train\n",
    "threshold_max = np.max(res_nominal_train)\n",
    "\n",
    "threshold_list = [('3s',threshold_3s),('5s',threshold_5s),('max',threshold_max)]"
   ]
  },
  {
   "cell_type": "markdown",
   "metadata": {},
   "source": [
    "### Training residuals"
   ]
  },
  {
   "cell_type": "code",
   "execution_count": 26,
   "metadata": {},
   "outputs": [
    {
     "data": {
      "text/plain": [
       "(0, 1)"
      ]
     },
     "execution_count": 26,
     "metadata": {},
     "output_type": "execute_result"
    },
    {
     "data": {
      "image/png": "[encoded data removed]",
      "text/plain": [
       "<Figure size 432x288 with 1 Axes>"
      ]
     },
     "metadata": {
      "needs_background": "light"
     },
     "output_type": "display_data"
    }
   ],
   "source": [
    "plt.figure()\n",
    "sns.distplot(df_results_train['residual_avg'],norm_hist=True,kde=False,color='blue')\n",
    "plt.xlim((0,1))"
   ]
  },
  {
   "cell_type": "code",
   "execution_count": 27,
   "metadata": {},
   "outputs": [
    {
     "name": "stdout",
     "output_type": "stream",
     "text": [
      "\n",
      "------------------ early time step of 1----------------------------\n"
     ]
    },
    {
     "data": {
      "image/png": "[encoded data removed]",
      "text/plain": [
       "<Figure size 432x288 with 1 Axes>"
      ]
     },
     "metadata": {
      "needs_background": "light"
     },
     "output_type": "display_data"
    },
    {
     "data": {
      "image/png": "[encoded data removed]",
      "text/plain": [
       "<Figure size 432x288 with 1 Axes>"
      ]
     },
     "metadata": {
      "needs_background": "light"
     },
     "output_type": "display_data"
    },
    {
     "name": "stdout",
     "output_type": "stream",
     "text": [
      "\n",
      "\n",
      "------ Using threshold 3s---------------\n",
      "accuracy = 0.969\n",
      "precision = 0.245\n",
      "recall = 0.398\n",
      "f1 = 0.304\n",
      "\n",
      "\n",
      "------ Using threshold 5s---------------\n",
      "accuracy = 0.985\n",
      "precision = 0.622\n",
      "recall = 0.254\n",
      "f1 = 0.361\n",
      "\n",
      "\n",
      "------ Using threshold max---------------\n",
      "accuracy = 0.983\n",
      "precision = 0.000\n",
      "recall = 0.000\n",
      "f1 = 0.000\n"
     ]
    },
    {
     "name": "stderr",
     "output_type": "stream",
     "text": [
      "/Users/chenpete/Documents/code/DL/dlenv/lib/python3.7/site-packages/sklearn/metrics/classification.py:1437: UndefinedMetricWarning: Precision is ill-defined and being set to 0.0 due to no predicted samples.\n",
      "  'precision', 'predicted', average, warn_for)\n",
      "/Users/chenpete/Documents/code/DL/dlenv/lib/python3.7/site-packages/sklearn/metrics/classification.py:1437: UndefinedMetricWarning: F-score is ill-defined and being set to 0.0 due to no predicted samples.\n",
      "  'precision', 'predicted', average, warn_for)\n"
     ]
    }
   ],
   "source": [
    "for rank in range(1,np.max(df_results_test['y_rank'])+1):\n",
    "    \n",
    "    print('\\n------------------ early time step of {}----------------------------'.format(rank))\n",
    "    \n",
    "    df_results_rank= df_results_test[(df_results_test['y_rank']==rank) | (df_results_test['y_rank']==0)]\n",
    "    res_nominal_test = df_results_rank[df_results_rank['y'] == 0]['residual_avg']\n",
    "    res_failures_test = df_results_rank[df_results_rank['y_rank'] == rank]['residual_avg']\n",
    "    \n",
    "    plt.figure()\n",
    "    sns.distplot(res_failures_test,norm_hist=True,kde=False,color='red')\n",
    "    sns.distplot(res_nominal_test,norm_hist=True,kde=False,color='blue')\n",
    "    plt.legend(['failure residuals','non failure residuals'])\n",
    "    plt.title('distribution of average residuals')\n",
    "\n",
    "    y_true = np.array(df_results_rank['y'])\n",
    "    y_pred_proba = np.array(df_results_rank['residual_avg']/np.max(df_results_rank['residual_avg']))\n",
    "\n",
    "    plot_roc(y_true,y_pred_proba)\n",
    "    \n",
    "    for name,threshold in threshold_list:\n",
    "        print('\\n\\n------ Using threshold {}---------------'.format(name))\n",
    "        y_pred_threshold = np.where(df_results_rank['residual_avg'] > threshold, 1, 0)\n",
    "        \n",
    "        print('accuracy = {:.3f}'.format(accuracy_score(y_true,y_pred_threshold)))\n",
    "        print('precision = {:.3f}'.format(precision_score(y_true,y_pred_threshold)))\n",
    "        print('recall = {:.3f}'.format(recall_score(y_true,y_pred_threshold)))\n",
    "        print('f1 = {:.3f}'.format(f1_score(y_true,y_pred_threshold)))\n"
   ]
  },
  {
   "cell_type": "code",
   "execution_count": 28,
   "metadata": {},
   "outputs": [
    {
     "data": {
      "text/plain": [
       "(0, 0.75)"
      ]
     },
     "execution_count": 28,
     "metadata": {},
     "output_type": "execute_result"
    },
    {
     "data": {
      "image/png": "[encoded data removed]",
      "text/plain": [
       "<Figure size 432x288 with 1 Axes>"
      ]
     },
     "metadata": {
      "needs_background": "light"
     },
     "output_type": "display_data"
    }
   ],
   "source": [
    "sns.boxplot(x='y_rank',y='residual_avg',data=df_results_test)\n",
    "plt.ylim((0,.75))"
   ]
  },
  {
   "cell_type": "markdown",
   "metadata": {},
   "source": [
    "# Apply KNN nearest distance approach for reconstruction error"
   ]
  },
  {
   "cell_type": "code",
   "execution_count": 29,
   "metadata": {},
   "outputs": [],
   "source": [
    "residuals_test = X_pred_test - X_test\n",
    "residuals_train = X_pred_train - X_train"
   ]
  },
  {
   "cell_type": "code",
   "execution_count": 30,
   "metadata": {},
   "outputs": [
    {
     "data": {
      "text/plain": [
       "(255883, 29)"
      ]
     },
     "execution_count": 30,
     "metadata": {},
     "output_type": "execute_result"
    }
   ],
   "source": [
    "residuals_train.shape"
   ]
  },
  {
   "cell_type": "code",
   "execution_count": 31,
   "metadata": {},
   "outputs": [],
   "source": [
    "nominal_idx = y_test ==0\n",
    "failure_idx = y_test ==1"
   ]
  },
  {
   "cell_type": "code",
   "execution_count": 32,
   "metadata": {},
   "outputs": [
    {
     "data": {
      "text/plain": [
       "(28924, 29)"
      ]
     },
     "execution_count": 32,
     "metadata": {},
     "output_type": "execute_result"
    }
   ],
   "source": [
    "residuals_test.shape"
   ]
  },
  {
   "cell_type": "code",
   "execution_count": 33,
   "metadata": {},
   "outputs": [],
   "source": [
    "tree = BallTree(residuals_train)"
   ]
  },
  {
   "cell_type": "code",
   "execution_count": 34,
   "metadata": {},
   "outputs": [],
   "source": [
    "dist,ind = tree.query(residuals_test,k=1)\n",
    "dist = pd.Series(dist.ravel(),index=residuals_test.index)"
   ]
  },
  {
   "cell_type": "code",
   "execution_count": 35,
   "metadata": {},
   "outputs": [
    {
     "data": {
      "text/plain": [
       "<matplotlib.axes._subplots.AxesSubplot at 0x145de7a58>"
      ]
     },
     "execution_count": 35,
     "metadata": {},
     "output_type": "execute_result"
    },
    {
     "data": {
      "image/png": "[encoded data removed]",
      "text/plain": [
       "<Figure size 432x288 with 1 Axes>"
      ]
     },
     "metadata": {
      "needs_background": "light"
     },
     "output_type": "display_data"
    }
   ],
   "source": [
    "df_boxplot = pd.DataFrame(data = {'distance':dist,'y' : y_test})\n",
    "sns.boxplot(x='y',y='distance',data=df_boxplot)"
   ]
  },
  {
   "cell_type": "code",
   "execution_count": 36,
   "metadata": {},
   "outputs": [
    {
     "data": {
      "text/plain": [
       "Text(0.5, 1.0, 'distribution of std residual')"
      ]
     },
     "execution_count": 36,
     "metadata": {},
     "output_type": "execute_result"
    },
    {
     "data": {
      "image/png": "[encoded data removed]",
      "text/plain": [
       "<Figure size 432x288 with 1 Axes>"
      ]
     },
     "metadata": {
      "needs_background": "light"
     },
     "output_type": "display_data"
    }
   ],
   "source": [
    "plt.figure()\n",
    "sns.distplot(dist[failure_idx],norm_hist=True,kde=False,color='red')\n",
    "sns.distplot(dist[nominal_idx],norm_hist=True,kde=False,color='blue')\n",
    "plt.legend(['failure residuals','non failure residuals'])\n",
    "plt.title('distribution of std residual')"
   ]
  },
  {
   "cell_type": "code",
   "execution_count": 37,
   "metadata": {},
   "outputs": [
    {
     "data": {
      "image/png": "[encoded data removed]",
      "text/plain": [
       "<Figure size 432x288 with 1 Axes>"
      ]
     },
     "metadata": {
      "needs_background": "light"
     },
     "output_type": "display_data"
    }
   ],
   "source": [
    "y_pred_proba_knn = dist/np.max(dist)\n",
    "plot_roc(y_test,y_pred_proba_knn)"
   ]
  },
  {
   "cell_type": "code",
   "execution_count": 60,
   "metadata": {},
   "outputs": [
    {
     "name": "stdout",
     "output_type": "stream",
     "text": [
      "accuracy = 0.994\n",
      "precision = 0.896\n",
      "recall = 0.722\n",
      "f1 = 0.800\n",
      "\n",
      "\n",
      "[[28391    41]\n",
      " [  137   355]]\n"
     ]
    }
   ],
   "source": [
    "y_pred_threshold_knn = np.where(dist > 2.8, 1, 0)\n",
    "print('accuracy = {:.3f}'.format(accuracy_score(y_test,y_pred_threshold_knn)))\n",
    "print('precision = {:.3f}'.format(precision_score(y_test,y_pred_threshold_knn)))\n",
    "print('recall = {:.3f}'.format(recall_score(y_test,y_pred_threshold_knn)))\n",
    "print('f1 = {:.3f}\\n\\n'.format(f1_score(y_test,y_pred_threshold_knn)))\n",
    "print(confusion_matrix(y_test,y_pred_threshold_knn))"
   ]
  },
  {
   "cell_type": "code",
   "execution_count": null,
   "metadata": {},
   "outputs": [],
   "source": []
  }
 ],
 "metadata": {
  "kernelspec": {
   "display_name": "dlenv",
   "language": "python",
   "name": "dlenv"
  },
  "language_info": {
   "codemirror_mode": {
    "name": "ipython",
    "version": 3
   },
   "file_extension": ".py",
   "mimetype": "text/x-python",
   "name": "python",
   "nbconvert_exporter": "python",
   "pygments_lexer": "ipython3",
   "version": "3.7.3"
  }
 },
 "nbformat": 4,
 "nbformat_minor": 2
}
