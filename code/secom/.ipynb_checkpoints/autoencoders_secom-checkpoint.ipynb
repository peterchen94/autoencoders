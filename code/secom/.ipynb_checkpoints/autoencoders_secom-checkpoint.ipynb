{
 "cells": [
  {
   "cell_type": "code",
   "execution_count": 1,
   "metadata": {},
   "outputs": [
    {
     "name": "stderr",
     "output_type": "stream",
     "text": [
      "Using TensorFlow backend.\n"
     ]
    }
   ],
   "source": [
    "import pandas as pd\n",
    "import numpy as np\n",
    "import matplotlib.pyplot as plt\n",
    "import os\n",
    "import sys\n",
    "import seaborn as sns\n",
    "from sklearn.preprocessing import StandardScaler, MinMaxScaler\n",
    "from sklearn.model_selection import train_test_split\n",
    "from keras.layers import Input,Dense, Dropout\n",
    "from keras.models import Model,Sequential, load_model\n",
    "from sklearn.metrics import roc_curve, auc\n",
    "from sklearn.manifold import TSNE\n",
    "from sklearn.cluster import KMeans\n",
    "from sklearn.impute import SimpleImputer\n",
    "from sklearn.metrics import adjusted_mutual_info_score,adjusted_rand_score,v_measure_score, completeness_score, homogeneity_score, silhouette_score,roc_curve, auc, f1_score, precision_recall_curve, precision_score,recall_score,accuracy_score,confusion_matrix\n",
    "sys.path.append('/Users/chenpete/Documents/ESP/practicum/autoencoders/code/')\n",
    "from sklearn.neighbors import BallTree\n",
    "from utils import * \n",
    "from sklearn.linear_model import LogisticRegression\n"
   ]
  },
  {
   "cell_type": "markdown",
   "metadata": {},
   "source": [
    "# Configuration"
   ]
  },
  {
   "cell_type": "code",
   "execution_count": 2,
   "metadata": {},
   "outputs": [],
   "source": [
    "DATA_DIR = '/Users/PeterC/Documents/gt/practicum/autoencoders/data/secom/'\n",
    "DATA_DIR = '/Users/chenpete/Documents/ESP/practicum/autoencoders/data/secom/'"
   ]
  },
  {
   "cell_type": "code",
   "execution_count": 6,
   "metadata": {},
   "outputs": [],
   "source": [
    "df = pd.read_csv(DATA_DIR+\"secom.data\",  delimiter=' ', header=None, index_col=False)\n",
    "target = pd.read_csv(DATA_DIR+\"secom_labels.data\", header=None, index_col=False, delimiter=' ', usecols=[0])\n",
    "\n",
    "data_size= df.shape[0]\n",
    "feature_size = df.shape[1]\n",
    "df.dropna(axis=1, thresh=int(data_size/5),inplace=True)\n",
    "df.dropna(axis=0, thresh=int(feature_size/5),inplace=True)\n",
    "df['y']=np.where(target==-1,0,1)\n",
    "\n",
    "df.fillna(df.mean(), inplace=True)"
   ]
  },
  {
   "cell_type": "code",
   "execution_count": 40,
   "metadata": {},
   "outputs": [
    {
     "data": {
      "text/plain": [
       "(1567, 584)"
      ]
     },
     "execution_count": 40,
     "metadata": {},
     "output_type": "execute_result"
    }
   ],
   "source": [
    "df.shape"
   ]
  },
  {
   "cell_type": "code",
   "execution_count": 7,
   "metadata": {},
   "outputs": [
    {
     "data": {
      "text/plain": [
       "0    1463\n",
       "1     104\n",
       "Name: y, dtype: int64"
      ]
     },
     "execution_count": 7,
     "metadata": {},
     "output_type": "execute_result"
    }
   ],
   "source": [
    "df['y'].value_counts()"
   ]
  },
  {
   "cell_type": "code",
   "execution_count": 10,
   "metadata": {},
   "outputs": [],
   "source": [
    "\n",
    "non_scale_cols = ['y','y_rank']\n",
    "param_cols = df.columns[:-2]\n",
    "\n",
    "y_col = 'y'\n",
    "early_step = 0\n",
    "df['y_rank'] = df[y_col]\n",
    "sc = StandardScaler()\n",
    "df_scaled = pd.DataFrame(data = sc.fit_transform(df[param_cols]),columns=param_cols)\n",
    "df_scaled = pd.concat([df[non_scale_cols],df_scaled],axis=1)\n",
    "\n"
   ]
  },
  {
   "cell_type": "code",
   "execution_count": 11,
   "metadata": {},
   "outputs": [],
   "source": [
    "X_nominal = df_scaled[df_scaled[y_col] == 0][param_cols]\n",
    "X_event = df_scaled[df_scaled[y_col] > 0][param_cols]\n",
    "y_nominal = df[df[y_col] == 0][y_col]\n",
    "y_event = df[df[y_col] > 0][y_col]\n",
    "\n",
    "y_rank_nominal = df[df[y_col] == 0]['y_rank']\n",
    "y_rank_event = df[df[y_col] > 0]['y_rank']\n",
    "\n",
    "X_train, X_test, y_train, y_test,y_rank_train, y_rank_test = train_test_split(X_nominal, y_nominal, y_rank_nominal, test_size=.1, random_state=0)\n",
    "\n",
    "X_test = X_test.append(X_event)\n",
    "y_test = y_test.append(y_event)\n",
    "y_rank_test = y_rank_test.append(y_rank_event)"
   ]
  },
  {
   "cell_type": "markdown",
   "metadata": {},
   "source": [
    "# Model 1: Layer autoencoder"
   ]
  },
  {
   "cell_type": "code",
   "execution_count": 12,
   "metadata": {},
   "outputs": [
    {
     "name": "stdout",
     "output_type": "stream",
     "text": [
      "WARNING:tensorflow:From /Users/chenpete/Documents/code/DL/dlenv/lib/python3.7/site-packages/tensorflow/python/framework/op_def_library.py:263: colocate_with (from tensorflow.python.framework.ops) is deprecated and will be removed in a future version.\n",
      "Instructions for updating:\n",
      "Colocations handled automatically by placer.\n",
      "_________________________________________________________________\n",
      "Layer (type)                 Output Shape              Param #   \n",
      "=================================================================\n",
      "dense_1 (Dense)              (None, 200)               116400    \n",
      "_________________________________________________________________\n",
      "dense_2 (Dense)              (None, 50)                10050     \n",
      "_________________________________________________________________\n",
      "dense_3 (Dense)              (None, 200)               10200     \n",
      "_________________________________________________________________\n",
      "dense_4 (Dense)              (None, 581)               116781    \n",
      "=================================================================\n",
      "Total params: 253,431\n",
      "Trainable params: 253,431\n",
      "Non-trainable params: 0\n",
      "_________________________________________________________________\n"
     ]
    }
   ],
   "source": [
    "model = simple_ann_autoencoder_regression(param_cols,200,50,200)\n",
    "model.summary()"
   ]
  },
  {
   "cell_type": "code",
   "execution_count": 13,
   "metadata": {},
   "outputs": [
    {
     "name": "stdout",
     "output_type": "stream",
     "text": [
      "WARNING:tensorflow:From /Users/chenpete/Documents/code/DL/dlenv/lib/python3.7/site-packages/tensorflow/python/ops/math_ops.py:3066: to_int32 (from tensorflow.python.ops.math_ops) is deprecated and will be removed in a future version.\n",
      "Instructions for updating:\n",
      "Use tf.cast instead.\n",
      "Epoch 1/100\n",
      "1316/1316 [==============================] - 0s 233us/step - loss: 0.8048\n",
      "Epoch 2/100\n",
      "1316/1316 [==============================] - 0s 93us/step - loss: 0.7338\n",
      "Epoch 3/100\n",
      "1316/1316 [==============================] - 0s 94us/step - loss: 0.6497\n",
      "Epoch 4/100\n",
      "1316/1316 [==============================] - 0s 95us/step - loss: 0.5995\n",
      "Epoch 5/100\n",
      "1316/1316 [==============================] - 0s 90us/step - loss: 0.5694\n",
      "Epoch 6/100\n",
      "1316/1316 [==============================] - 0s 96us/step - loss: 0.5249\n",
      "Epoch 7/100\n",
      "1316/1316 [==============================] - 0s 95us/step - loss: 0.5006\n",
      "Epoch 8/100\n",
      "1316/1316 [==============================] - 0s 96us/step - loss: 0.4596\n",
      "Epoch 9/100\n",
      "1316/1316 [==============================] - 0s 90us/step - loss: 0.4320\n",
      "Epoch 10/100\n",
      "1316/1316 [==============================] - 0s 92us/step - loss: 0.4193\n",
      "Epoch 11/100\n",
      "1316/1316 [==============================] - 0s 95us/step - loss: 0.4030\n",
      "Epoch 12/100\n",
      "1316/1316 [==============================] - 0s 92us/step - loss: 0.3802\n",
      "Epoch 13/100\n",
      "1316/1316 [==============================] - 0s 90us/step - loss: 0.3656\n",
      "Epoch 14/100\n",
      "1316/1316 [==============================] - 0s 91us/step - loss: 0.3568\n",
      "Epoch 15/100\n",
      "1316/1316 [==============================] - 0s 89us/step - loss: 0.3511\n",
      "Epoch 16/100\n",
      "1316/1316 [==============================] - 0s 88us/step - loss: 0.3424\n",
      "Epoch 17/100\n",
      "1316/1316 [==============================] - 0s 88us/step - loss: 0.3374\n",
      "Epoch 18/100\n",
      "1316/1316 [==============================] - 0s 88us/step - loss: 0.3240\n",
      "Epoch 19/100\n",
      "1316/1316 [==============================] - 0s 91us/step - loss: 0.3199\n",
      "Epoch 20/100\n",
      "1316/1316 [==============================] - 0s 88us/step - loss: 0.3226\n",
      "Epoch 21/100\n",
      "1316/1316 [==============================] - 0s 88us/step - loss: 0.3155\n",
      "Epoch 22/100\n",
      "1316/1316 [==============================] - 0s 93us/step - loss: 0.3087\n",
      "Epoch 23/100\n",
      "1316/1316 [==============================] - 0s 91us/step - loss: 0.3016\n",
      "Epoch 24/100\n",
      "1316/1316 [==============================] - 0s 90us/step - loss: 0.3131\n",
      "Epoch 25/100\n",
      "1316/1316 [==============================] - 0s 87us/step - loss: 0.3437\n",
      "Epoch 26/100\n",
      "1316/1316 [==============================] - 0s 90us/step - loss: 0.3220\n",
      "Epoch 27/100\n",
      "1316/1316 [==============================] - 0s 90us/step - loss: 0.3004\n",
      "Epoch 28/100\n",
      "1316/1316 [==============================] - 0s 92us/step - loss: 0.2936\n",
      "Epoch 29/100\n",
      "1316/1316 [==============================] - 0s 92us/step - loss: 0.2940\n",
      "Epoch 30/100\n",
      "1316/1316 [==============================] - 0s 96us/step - loss: 0.2813\n",
      "Epoch 31/100\n",
      "1316/1316 [==============================] - 0s 97us/step - loss: 0.2818\n",
      "Epoch 32/100\n",
      "1316/1316 [==============================] - 0s 91us/step - loss: 0.2739\n",
      "Epoch 33/100\n",
      "1316/1316 [==============================] - 0s 91us/step - loss: 0.2726\n",
      "Epoch 34/100\n",
      "1316/1316 [==============================] - 0s 90us/step - loss: 0.2791\n",
      "Epoch 35/100\n",
      "1316/1316 [==============================] - 0s 95us/step - loss: 0.2743\n",
      "Epoch 36/100\n",
      "1316/1316 [==============================] - 0s 95us/step - loss: 0.2655\n",
      "Epoch 37/100\n",
      "1316/1316 [==============================] - 0s 95us/step - loss: 0.2609\n",
      "Epoch 38/100\n",
      "1316/1316 [==============================] - 0s 91us/step - loss: 0.2560\n",
      "Epoch 39/100\n",
      "1316/1316 [==============================] - 0s 96us/step - loss: 0.2547\n",
      "Epoch 40/100\n",
      "1316/1316 [==============================] - 0s 97us/step - loss: 0.2529\n",
      "Epoch 41/100\n",
      "1316/1316 [==============================] - 0s 97us/step - loss: 0.2519\n",
      "Epoch 42/100\n",
      "1316/1316 [==============================] - 0s 97us/step - loss: 0.2448\n",
      "Epoch 43/100\n",
      "1316/1316 [==============================] - 0s 99us/step - loss: 0.2457\n",
      "Epoch 44/100\n",
      "1316/1316 [==============================] - 0s 102us/step - loss: 0.2396\n",
      "Epoch 45/100\n",
      "1316/1316 [==============================] - 0s 100us/step - loss: 0.2443\n",
      "Epoch 46/100\n",
      "1316/1316 [==============================] - 0s 99us/step - loss: 0.2434\n",
      "Epoch 47/100\n",
      "1316/1316 [==============================] - 0s 96us/step - loss: 0.2428\n",
      "Epoch 48/100\n",
      "1316/1316 [==============================] - 0s 96us/step - loss: 0.2375\n",
      "Epoch 49/100\n",
      "1316/1316 [==============================] - 0s 93us/step - loss: 0.2419\n",
      "Epoch 50/100\n",
      "1316/1316 [==============================] - 0s 98us/step - loss: 0.2393\n",
      "Epoch 51/100\n",
      "1316/1316 [==============================] - 0s 95us/step - loss: 0.2371\n",
      "Epoch 52/100\n",
      "1316/1316 [==============================] - 0s 94us/step - loss: 0.2334\n",
      "Epoch 53/100\n",
      "1316/1316 [==============================] - 0s 92us/step - loss: 0.2354\n",
      "Epoch 54/100\n",
      "1316/1316 [==============================] - 0s 94us/step - loss: 0.2296\n",
      "Epoch 55/100\n",
      "1316/1316 [==============================] - 0s 92us/step - loss: 0.2285\n",
      "Epoch 56/100\n",
      "1316/1316 [==============================] - 0s 95us/step - loss: 0.2255\n",
      "Epoch 57/100\n",
      "1316/1316 [==============================] - 0s 95us/step - loss: 0.2286\n",
      "Epoch 58/100\n",
      "1316/1316 [==============================] - 0s 94us/step - loss: 0.2248\n",
      "Epoch 59/100\n",
      "1316/1316 [==============================] - 0s 93us/step - loss: 0.2221\n",
      "Epoch 60/100\n",
      "1316/1316 [==============================] - 0s 89us/step - loss: 0.2214\n",
      "Epoch 61/100\n",
      "1316/1316 [==============================] - 0s 95us/step - loss: 0.2219\n",
      "Epoch 62/100\n",
      "1316/1316 [==============================] - 0s 97us/step - loss: 0.2199\n",
      "Epoch 63/100\n",
      "1316/1316 [==============================] - 0s 99us/step - loss: 0.2236\n",
      "Epoch 64/100\n",
      "1316/1316 [==============================] - 0s 93us/step - loss: 0.2154\n",
      "Epoch 65/100\n",
      "1316/1316 [==============================] - 0s 101us/step - loss: 0.2161\n",
      "Epoch 66/100\n",
      "1316/1316 [==============================] - 0s 96us/step - loss: 0.2189\n",
      "Epoch 67/100\n",
      "1316/1316 [==============================] - 0s 92us/step - loss: 0.2285\n",
      "Epoch 68/100\n",
      "1316/1316 [==============================] - 0s 92us/step - loss: 0.2175\n",
      "Epoch 69/100\n",
      "1316/1316 [==============================] - 0s 95us/step - loss: 0.2215\n",
      "Epoch 70/100\n",
      "1316/1316 [==============================] - 0s 90us/step - loss: 0.2238\n",
      "Epoch 71/100\n",
      "1316/1316 [==============================] - 0s 92us/step - loss: 0.2139\n",
      "Epoch 72/100\n",
      "1316/1316 [==============================] - 0s 103us/step - loss: 0.2088\n",
      "Epoch 73/100\n",
      "1316/1316 [==============================] - 0s 92us/step - loss: 0.2106\n",
      "Epoch 74/100\n",
      "1316/1316 [==============================] - 0s 93us/step - loss: 0.2121\n",
      "Epoch 75/100\n",
      "1316/1316 [==============================] - 0s 96us/step - loss: 0.2098\n",
      "Epoch 76/100\n",
      "1316/1316 [==============================] - 0s 89us/step - loss: 0.2052\n",
      "Epoch 77/100\n",
      "1316/1316 [==============================] - 0s 96us/step - loss: 0.2061\n",
      "Epoch 78/100\n",
      "1316/1316 [==============================] - 0s 95us/step - loss: 0.2064\n",
      "Epoch 79/100\n",
      "1316/1316 [==============================] - 0s 94us/step - loss: 0.2074\n",
      "Epoch 80/100\n",
      "1316/1316 [==============================] - 0s 95us/step - loss: 0.2038\n",
      "Epoch 81/100\n",
      "1316/1316 [==============================] - 0s 90us/step - loss: 0.2051\n",
      "Epoch 82/100\n",
      "1316/1316 [==============================] - 0s 87us/step - loss: 0.2102\n",
      "Epoch 83/100\n",
      "1316/1316 [==============================] - 0s 91us/step - loss: 0.2068\n",
      "Epoch 84/100\n",
      "1316/1316 [==============================] - 0s 90us/step - loss: 0.2074\n",
      "Epoch 85/100\n",
      "1316/1316 [==============================] - 0s 89us/step - loss: 0.2017\n",
      "Epoch 86/100\n",
      "1316/1316 [==============================] - 0s 90us/step - loss: 0.1984\n",
      "Epoch 87/100\n",
      "1316/1316 [==============================] - 0s 89us/step - loss: 0.2956\n",
      "Epoch 88/100\n",
      "1316/1316 [==============================] - 0s 88us/step - loss: 0.2459\n",
      "Epoch 89/100\n",
      "1316/1316 [==============================] - 0s 92us/step - loss: 0.2232\n",
      "Epoch 90/100\n",
      "1316/1316 [==============================] - 0s 92us/step - loss: 0.2125\n",
      "Epoch 91/100\n",
      "1316/1316 [==============================] - 0s 91us/step - loss: 0.2059\n",
      "Epoch 92/100\n",
      "1316/1316 [==============================] - 0s 92us/step - loss: 0.2036\n",
      "Epoch 93/100\n",
      "1316/1316 [==============================] - 0s 95us/step - loss: 0.1994\n",
      "Epoch 94/100\n",
      "1316/1316 [==============================] - 0s 92us/step - loss: 0.2000\n",
      "Epoch 95/100\n",
      "1316/1316 [==============================] - 0s 89us/step - loss: 0.1972\n",
      "Epoch 96/100\n",
      "1316/1316 [==============================] - 0s 89us/step - loss: 0.1985\n",
      "Epoch 97/100\n",
      "1316/1316 [==============================] - 0s 90us/step - loss: 0.1934\n",
      "Epoch 98/100\n",
      "1316/1316 [==============================] - 0s 90us/step - loss: 0.1913\n",
      "Epoch 99/100\n",
      "1316/1316 [==============================] - 0s 93us/step - loss: 0.1912\n",
      "Epoch 100/100\n",
      "1316/1316 [==============================] - 0s 92us/step - loss: 0.1968\n"
     ]
    }
   ],
   "source": [
    "history_callback = model.fit(X_train,X_train,epochs=100,batch_size = 32)\n",
    "#loss_history = history_callback.history['loss']"
   ]
  },
  {
   "cell_type": "code",
   "execution_count": 14,
   "metadata": {},
   "outputs": [],
   "source": [
    "\n",
    "#model=load_model('autoencoder_secom.h5')\n",
    "model.save('autoencoder_secom.h5')"
   ]
  },
  {
   "cell_type": "code",
   "execution_count": 15,
   "metadata": {},
   "outputs": [],
   "source": [
    "# plt.plot(loss_history)\n",
    "# plt.title('loss history')"
   ]
  },
  {
   "cell_type": "code",
   "execution_count": 16,
   "metadata": {},
   "outputs": [],
   "source": [
    "X_pred_test = model.predict(X_test)\n",
    "\n",
    "X_pred_train = model.predict(X_train)\n",
    "\n",
    "df_results_test = results_df(X_test,X_pred_test,y_test,y_rank_test)\n",
    "df_results_train = results_df(X_train,X_pred_train,y_train,y_rank_train)"
   ]
  },
  {
   "cell_type": "code",
   "execution_count": 17,
   "metadata": {},
   "outputs": [],
   "source": [
    "res_nominal_train = df_results_train[df_results_train['y'] == 0]['residual_avg']\n",
    "\n",
    "average_res_nominal_train = np.mean(res_nominal_train)\n",
    "std_res_nominal_train = np.std(res_nominal_train)\n",
    "threshold_3s = average_res_nominal_train + 3*std_res_nominal_train\n",
    "threshold_5s = average_res_nominal_train + 5*std_res_nominal_train\n",
    "threshold_max = np.max(res_nominal_train)\n",
    "\n",
    "threshold_list = [('3s',threshold_3s),('5s',threshold_5s),('max',threshold_max)]"
   ]
  },
  {
   "cell_type": "markdown",
   "metadata": {},
   "source": [
    "### Training residuals"
   ]
  },
  {
   "cell_type": "code",
   "execution_count": 18,
   "metadata": {},
   "outputs": [
    {
     "data": {
      "text/plain": [
       "(0, 1)"
      ]
     },
     "execution_count": 18,
     "metadata": {},
     "output_type": "execute_result"
    },
    {
     "data": {
      "image/png": "[encoded data removed]",
      "text/plain": [
       "<Figure size 432x288 with 1 Axes>"
      ]
     },
     "metadata": {
      "needs_background": "light"
     },
     "output_type": "display_data"
    }
   ],
   "source": [
    "plt.figure()\n",
    "sns.distplot(df_results_train['residual_avg'],norm_hist=True,kde=False,color='blue')\n",
    "plt.xlim((0,1))"
   ]
  },
  {
   "cell_type": "code",
   "execution_count": 21,
   "metadata": {},
   "outputs": [
    {
     "name": "stdout",
     "output_type": "stream",
     "text": [
      "\n",
      "------------------ early time step of 1----------------------------\n"
     ]
    },
    {
     "data": {
      "image/png": "[encoded data removed]",
      "text/plain": [
       "<Figure size 432x288 with 1 Axes>"
      ]
     },
     "metadata": {
      "needs_background": "light"
     },
     "output_type": "display_data"
    },
    {
     "data": {
      "image/png": "[encoded data removed]",
      "text/plain": [
       "<Figure size 432x288 with 1 Axes>"
      ]
     },
     "metadata": {
      "needs_background": "light"
     },
     "output_type": "display_data"
    },
    {
     "data": {
      "image/png": "[encoded data removed]",
      "text/plain": [
       "<Figure size 432x288 with 1 Axes>"
      ]
     },
     "metadata": {
      "needs_background": "light"
     },
     "output_type": "display_data"
    },
    {
     "name": "stdout",
     "output_type": "stream",
     "text": [
      "\n",
      "\n",
      "------ Using threshold 3s---------------\n",
      "accuracy = 0.594\n",
      "precision = 0.571\n",
      "recall = 0.077\n",
      "f1 = 0.136\n",
      "\n",
      "\n",
      "------ Using threshold 5s---------------\n",
      "accuracy = 0.586\n",
      "precision = 0.500\n",
      "recall = 0.010\n",
      "f1 = 0.019\n",
      "\n",
      "\n",
      "------ Using threshold max---------------\n",
      "accuracy = 0.586\n",
      "precision = 0.000\n",
      "recall = 0.000\n",
      "f1 = 0.000\n"
     ]
    },
    {
     "name": "stderr",
     "output_type": "stream",
     "text": [
      "/Users/chenpete/Documents/code/DL/dlenv/lib/python3.7/site-packages/sklearn/metrics/classification.py:1437: UndefinedMetricWarning: Precision is ill-defined and being set to 0.0 due to no predicted samples.\n",
      "  'precision', 'predicted', average, warn_for)\n",
      "/Users/chenpete/Documents/code/DL/dlenv/lib/python3.7/site-packages/sklearn/metrics/classification.py:1437: UndefinedMetricWarning: F-score is ill-defined and being set to 0.0 due to no predicted samples.\n",
      "  'precision', 'predicted', average, warn_for)\n"
     ]
    }
   ],
   "source": [
    "for rank in range(1,np.max(df_results_test['y_rank'])+1):\n",
    "    \n",
    "    print('\\n------------------ early time step of {}----------------------------'.format(rank))\n",
    "    \n",
    "    df_results_rank= df_results_test[(df_results_test['y_rank']==rank) | (df_results_test['y_rank']==0)]\n",
    "    res_nominal_test = df_results_rank[df_results_rank['y'] == 0]['residual_avg']\n",
    "    res_failures_test = df_results_rank[df_results_rank['y_rank'] == rank]['residual_avg']\n",
    "    \n",
    "    plt.figure()\n",
    "    sns.distplot(res_failures_test,norm_hist=True,kde=False,color='red')\n",
    "    sns.distplot(res_nominal_test,norm_hist=True,kde=False,color='blue')\n",
    "    plt.legend(['failure residuals','non failure residuals'])\n",
    "    plt.title('distribution of average residuals')\n",
    "\n",
    "    y_true = np.array(df_results_rank['y'])\n",
    "    y_pred_proba = np.array(df_results_rank['residual_avg']/np.max(df_results_rank['residual_avg']))\n",
    "\n",
    "    plot_roc(y_true,y_pred_proba)\n",
    "    plot_pr_curve(y_true,y_pred_proba)\n",
    "\n",
    "    for name,threshold in threshold_list:\n",
    "        print('\\n\\n------ Using threshold {}---------------'.format(name))\n",
    "        y_pred_threshold = np.where(df_results_rank['residual_avg'] > threshold, 1, 0)\n",
    "        \n",
    "        print('accuracy = {:.3f}'.format(accuracy_score(y_true,y_pred_threshold)))\n",
    "        print('precision = {:.3f}'.format(precision_score(y_true,y_pred_threshold)))\n",
    "        print('recall = {:.3f}'.format(recall_score(y_true,y_pred_threshold)))\n",
    "        print('f1 = {:.3f}'.format(f1_score(y_true,y_pred_threshold)))\n"
   ]
  },
  {
   "cell_type": "code",
   "execution_count": 20,
   "metadata": {},
   "outputs": [
    {
     "data": {
      "text/plain": [
       "(0, 0.75)"
      ]
     },
     "execution_count": 20,
     "metadata": {},
     "output_type": "execute_result"
    },
    {
     "data": {
      "image/png": "[encoded data removed]",
      "text/plain": [
       "<Figure size 432x288 with 1 Axes>"
      ]
     },
     "metadata": {
      "needs_background": "light"
     },
     "output_type": "display_data"
    }
   ],
   "source": [
    "sns.boxplot(x='y_rank',y='residual_avg',data=df_results_test)\n",
    "plt.ylim((0,.75))"
   ]
  },
  {
   "cell_type": "markdown",
   "metadata": {},
   "source": [
    "# Apply KNN nearest distance approach for reconstruction error"
   ]
  },
  {
   "cell_type": "code",
   "execution_count": 22,
   "metadata": {},
   "outputs": [],
   "source": [
    "residuals_test = X_pred_test - X_test\n",
    "residuals_train = X_pred_train - X_train"
   ]
  },
  {
   "cell_type": "code",
   "execution_count": 23,
   "metadata": {},
   "outputs": [
    {
     "data": {
      "text/plain": [
       "(1316, 581)"
      ]
     },
     "execution_count": 23,
     "metadata": {},
     "output_type": "execute_result"
    }
   ],
   "source": [
    "residuals_train.shape"
   ]
  },
  {
   "cell_type": "code",
   "execution_count": 24,
   "metadata": {},
   "outputs": [],
   "source": [
    "nominal_idx = y_test ==0\n",
    "failure_idx = y_test ==1"
   ]
  },
  {
   "cell_type": "code",
   "execution_count": 25,
   "metadata": {},
   "outputs": [
    {
     "data": {
      "text/plain": [
       "(251, 581)"
      ]
     },
     "execution_count": 25,
     "metadata": {},
     "output_type": "execute_result"
    }
   ],
   "source": [
    "residuals_test.shape"
   ]
  },
  {
   "cell_type": "code",
   "execution_count": 26,
   "metadata": {},
   "outputs": [],
   "source": [
    "tree = BallTree(residuals_train)"
   ]
  },
  {
   "cell_type": "code",
   "execution_count": 27,
   "metadata": {},
   "outputs": [],
   "source": [
    "dist,ind = tree.query(residuals_test,k=1)\n",
    "dist = pd.Series(dist.ravel(),index=residuals_test.index)"
   ]
  },
  {
   "cell_type": "code",
   "execution_count": 28,
   "metadata": {},
   "outputs": [
    {
     "data": {
      "text/plain": [
       "<matplotlib.axes._subplots.AxesSubplot at 0x13cea4ef0>"
      ]
     },
     "execution_count": 28,
     "metadata": {},
     "output_type": "execute_result"
    },
    {
     "data": {
      "image/png": "[encoded data removed]",
      "text/plain": [
       "<Figure size 432x288 with 1 Axes>"
      ]
     },
     "metadata": {
      "needs_background": "light"
     },
     "output_type": "display_data"
    }
   ],
   "source": [
    "df_boxplot = pd.DataFrame(data = {'distance':dist,'y' : y_test})\n",
    "sns.boxplot(x='y',y='distance',data=df_boxplot)"
   ]
  },
  {
   "cell_type": "code",
   "execution_count": 29,
   "metadata": {},
   "outputs": [
    {
     "data": {
      "text/plain": [
       "Text(0.5, 1.0, 'distribution of std residual')"
      ]
     },
     "execution_count": 29,
     "metadata": {},
     "output_type": "execute_result"
    },
    {
     "data": {
      "image/png": "[encoded data removed]",
      "text/plain": [
       "<Figure size 432x288 with 1 Axes>"
      ]
     },
     "metadata": {
      "needs_background": "light"
     },
     "output_type": "display_data"
    }
   ],
   "source": [
    "plt.figure()\n",
    "sns.distplot(dist[failure_idx],norm_hist=True,kde=False,color='red')\n",
    "sns.distplot(dist[nominal_idx],norm_hist=True,kde=False,color='blue')\n",
    "plt.legend(['failure residuals','non failure residuals'])\n",
    "plt.title('distribution of std residual')"
   ]
  },
  {
   "cell_type": "code",
   "execution_count": 30,
   "metadata": {},
   "outputs": [
    {
     "data": {
      "image/png": "[encoded data removed]",
      "text/plain": [
       "<Figure size 432x288 with 1 Axes>"
      ]
     },
     "metadata": {
      "needs_background": "light"
     },
     "output_type": "display_data"
    },
    {
     "data": {
      "image/png": "[encoded data removed]",
      "text/plain": [
       "<Figure size 432x288 with 1 Axes>"
      ]
     },
     "metadata": {
      "needs_background": "light"
     },
     "output_type": "display_data"
    }
   ],
   "source": [
    "y_pred_proba_knn = dist/np.max(dist)\n",
    "plot_roc(y_test,y_pred_proba_knn)\n",
    "plot_pr_curve(y_test,y_pred_proba_knn)\n"
   ]
  },
  {
   "cell_type": "code",
   "execution_count": 31,
   "metadata": {},
   "outputs": [
    {
     "name": "stdout",
     "output_type": "stream",
     "text": [
      "accuracy = 0.414\n",
      "precision = 0.414\n",
      "recall = 1.000\n",
      "f1 = 0.586\n",
      "\n",
      "\n",
      "[[  0 147]\n",
      " [  0 104]]\n"
     ]
    }
   ],
   "source": [
    "y_pred_threshold_knn = np.where(dist > 2, 1, 0)\n",
    "print('accuracy = {:.3f}'.format(accuracy_score(y_test,y_pred_threshold_knn)))\n",
    "print('precision = {:.3f}'.format(precision_score(y_test,y_pred_threshold_knn)))\n",
    "print('recall = {:.3f}'.format(recall_score(y_test,y_pred_threshold_knn)))\n",
    "print('f1 = {:.3f}\\n\\n'.format(f1_score(y_test,y_pred_threshold_knn)))\n",
    "print(confusion_matrix(y_test,y_pred_threshold_knn))"
   ]
  },
  {
   "cell_type": "markdown",
   "metadata": {},
   "source": [
    "# Try Logistic Regression on reconstruction error"
   ]
  },
  {
   "cell_type": "code",
   "execution_count": 32,
   "metadata": {},
   "outputs": [],
   "source": [
    "X_residual_train, X_residual_test, y_residual_train, y_residual_test = train_test_split(residuals_test, y_test, test_size=0.5, random_state=0, stratify = y_test)"
   ]
  },
  {
   "cell_type": "code",
   "execution_count": 33,
   "metadata": {},
   "outputs": [
    {
     "data": {
      "text/plain": [
       "0    73\n",
       "1    52\n",
       "Name: y, dtype: int64"
      ]
     },
     "execution_count": 33,
     "metadata": {},
     "output_type": "execute_result"
    }
   ],
   "source": [
    "y_residual_train.value_counts()"
   ]
  },
  {
   "cell_type": "code",
   "execution_count": 34,
   "metadata": {},
   "outputs": [
    {
     "data": {
      "text/plain": [
       "0    74\n",
       "1    52\n",
       "Name: y, dtype: int64"
      ]
     },
     "execution_count": 34,
     "metadata": {},
     "output_type": "execute_result"
    }
   ],
   "source": [
    "y_residual_test.value_counts()"
   ]
  },
  {
   "cell_type": "code",
   "execution_count": 35,
   "metadata": {},
   "outputs": [
    {
     "name": "stderr",
     "output_type": "stream",
     "text": [
      "/Users/chenpete/Documents/code/DL/dlenv/lib/python3.7/site-packages/sklearn/linear_model/logistic.py:432: FutureWarning: Default solver will be changed to 'lbfgs' in 0.22. Specify a solver to silence this warning.\n",
      "  FutureWarning)\n"
     ]
    }
   ],
   "source": [
    "clf = LogisticRegression()\n",
    "clf.fit(X_residual_train,y_residual_train)\n",
    "y_pred_logreg_proba = clf.predict_proba(X_residual_test)[:,1]"
   ]
  },
  {
   "cell_type": "code",
   "execution_count": 38,
   "metadata": {},
   "outputs": [
    {
     "data": {
      "image/png": "[encoded data removed]",
      "text/plain": [
       "<Figure size 432x288 with 1 Axes>"
      ]
     },
     "metadata": {
      "needs_background": "light"
     },
     "output_type": "display_data"
    },
    {
     "data": {
      "image/png": "[encoded data removed]",
      "text/plain": [
       "<Figure size 432x288 with 1 Axes>"
      ]
     },
     "metadata": {
      "needs_background": "light"
     },
     "output_type": "display_data"
    }
   ],
   "source": [
    "plot_roc(y_residual_test,y_pred_logreg_proba)\n",
    "plot_pr_curve(y_residual_test,y_pred_logreg_proba)"
   ]
  },
  {
   "cell_type": "code",
   "execution_count": 37,
   "metadata": {},
   "outputs": [
    {
     "data": {
      "text/plain": [
       "Text(0.5, 1.0, 'distribution of logistic regression probability')"
      ]
     },
     "execution_count": 37,
     "metadata": {},
     "output_type": "execute_result"
    },
    {
     "data": {
      "image/png": "[encoded data removed]",
      "text/plain": [
       "<Figure size 432x288 with 1 Axes>"
      ]
     },
     "metadata": {
      "needs_background": "light"
     },
     "output_type": "display_data"
    }
   ],
   "source": [
    "plt.figure()\n",
    "sns.distplot(y_pred_logreg_proba[y_residual_test==1],norm_hist=True,kde=False,color='red')\n",
    "sns.distplot(y_pred_logreg_proba[y_residual_test==0],norm_hist=True,kde=False,color='blue')\n",
    "plt.legend(['failure residuals','non failure residuals'])\n",
    "plt.title('distribution of logistic regression probability')"
   ]
  },
  {
   "cell_type": "code",
   "execution_count": null,
   "metadata": {},
   "outputs": [],
   "source": [
    "y_pred_threshold_logreg = np.where(y_pred_logreg_proba > .5, 1, 0)\n",
    "print('accuracy = {:.3f}'.format(accuracy_score(y_residual_test,y_pred_threshold_logreg)))\n",
    "print('precision = {:.3f}'.format(precision_score(y_residual_test,y_pred_threshold_logreg)))\n",
    "print('recall = {:.3f}'.format(recall_score(y_residual_test,y_pred_threshold_logreg)))\n",
    "print('f1 = {:.3f}\\n\\n'.format(f1_score(y_residual_test,y_pred_threshold_logreg)))\n",
    "print(confusion_matrix(y_residual_test,y_pred_threshold_logreg))"
   ]
  },
  {
   "cell_type": "markdown",
   "metadata": {},
   "source": [
    "# Try decision tree on reconstruction error"
   ]
  },
  {
   "cell_type": "code",
   "execution_count": null,
   "metadata": {},
   "outputs": [],
   "source": [
    "from sklearn.tree import DecisionTreeClassifier\n",
    "\n",
    "clf_dt = DecisionTreeClassifier()\n",
    "clf_dt.fit(X_residual_train,y_residual_train)\n",
    "y_pred_dt = clf_dt.predict(X_residual_test)\n",
    "\n",
    "print('accuracy = {:.3f}'.format(accuracy_score(y_residual_test,y_pred_dt)))\n",
    "print('precision = {:.3f}'.format(precision_score(y_residual_test,y_pred_dt)))\n",
    "print('recall = {:.3f}'.format(recall_score(y_residual_test,y_pred_dt)))\n",
    "print('f1 = {:.3f}\\n\\n'.format(f1_score(y_residual_test,y_pred_dt)))\n",
    "print(confusion_matrix(y_residual_test,y_pred_dt))"
   ]
  },
  {
   "cell_type": "code",
   "execution_count": null,
   "metadata": {},
   "outputs": [],
   "source": []
  },
  {
   "cell_type": "code",
   "execution_count": null,
   "metadata": {},
   "outputs": [],
   "source": []
  }
 ],
 "metadata": {
  "kernelspec": {
   "display_name": "dlenv",
   "language": "python",
   "name": "dlenv"
  },
  "language_info": {
   "codemirror_mode": {
    "name": "ipython",
    "version": 3
   },
   "file_extension": ".py",
   "mimetype": "text/x-python",
   "name": "python",
   "nbconvert_exporter": "python",
   "pygments_lexer": "ipython3",
   "version": "3.7.3"
  }
 },
 "nbformat": 4,
 "nbformat_minor": 2
}
