{
 "cells": [
  {
   "cell_type": "code",
   "execution_count": 28,
   "metadata": {},
   "outputs": [],
   "source": [
    "import pandas as pd\n",
    "import numpy as np\n",
    "from sklearn.manifold import TSNE\n",
    "from time import clock\n",
    "from sklearn.preprocessing import StandardScaler\n",
    "import matplotlib.pyplot as plt\n",
    "from sklearn.pipeline import Pipeline\n",
    "from sklearn.cluster import KMeans \n",
    "from sklearn.mixture import GaussianMixture \n",
    "from collections import defaultdict\n",
    "import itertools\n",
    "import timeit\n",
    "import seaborn as sns\n",
    "from collections import Counter\n",
    "from sklearn.metrics.pairwise import pairwise_distances\n",
    "from sklearn.metrics import adjusted_mutual_info_score,adjusted_rand_score,v_measure_score, completeness_score, homogeneity_score, silhouette_score,roc_curve, auc, f1_score, precision_recall_curve, precision_score,recall_score,accuracy_score,confusion_matrix\n",
    "from sklearn.neural_network import MLPClassifier\n",
    "from sklearn.model_selection import GridSearchCV, train_test_split\n",
    "import warnings\n",
    "warnings.filterwarnings('ignore')\n",
    "import sys\n"
   ]
  },
  {
   "cell_type": "code",
   "execution_count": 2,
   "metadata": {},
   "outputs": [],
   "source": [
    "def fit_clusters(X,y,clusters, method, seed=0):\n",
    "    model_dict={'clusters':clusters,'sse':[],'loglike':[],'f1':[],'adj_rand':[],'adj_MI':[],'complete':[],'homo':[]}\n",
    "    \n",
    "    for k in clusters:\n",
    "        if method == 'km':\n",
    "            model=KMeans(n_clusters=k,random_state=seed)\n",
    "        elif method == 'tsne':\n",
    "            model = TSNE(n_components = k)\n",
    "            \n",
    "        model.fit(X)\n",
    "        labels = model.predict(X)\n",
    "        y_mode_vote = cluster_predictions(y,labels)\n",
    "        \n",
    "        if method == 'km':\n",
    "            model_dict['sse'].append(-model.score(X,labels))\n",
    "        elif method == 'tsne':\n",
    "            model_dict['sse'].append(-model.score(X,labels))\n",
    "            \n",
    "        model_dict['adj_MI'].append(adjusted_mutual_info_score(y,labels))   \n",
    "        model_dict['adj_rand'].append(adjusted_rand_score(y,labels))\n",
    "        model_dict['complete'].append(completeness_score(y,labels))\n",
    "        model_dict['homo'].append(homogeneity_score(y,labels))\n",
    "        model_dict['f1'].append(f1_score(y,y_mode_vote))\n",
    "    return model_dict,labels \n",
    "\n",
    "def cluster_predictions(Y,clusterLabels):\n",
    "    assert (Y.shape == clusterLabels.shape)\n",
    "    pred = np.empty_like(Y)\n",
    "    for label in set(clusterLabels):\n",
    "        mask = clusterLabels == label\n",
    "        sub = Y[mask]\n",
    "        target = Counter(sub).most_common(1)[0][0]\n",
    "        pred[mask] = target   \n",
    "    return pred\n",
    "\n",
    "def plot_clusters(model_dict,method,dataset):\n",
    "    f=plt.figure(figsize=(13,4))\n",
    "    ax1, ax2,ax3,ax4 = f.subplots(1, 4)\n",
    "\n",
    "    ax1.plot(model_dict['clusters'],model_dict['sse'],'r-')\n",
    "    ax1.set_title('{} Metrics - {}'.format(method,dataset))\n",
    "    ax1.legend(['SSE'],loc=7)\n",
    "    ax1.set_xlabel('n_clusters')\n",
    "    ax1.set_ylabel('SSE')\n",
    "    \n",
    "    ax2.plot(model_dict['clusters'],model_dict['adj_MI'],'b-')\n",
    "    ax2.plot(model_dict['clusters'],model_dict['adj_rand'],'b--')\n",
    "    ax2.legend(['adj_MI','adj_rand'],loc=7)\n",
    "    ax2.set_xlabel('n_clusters')\n",
    "    ax2.set_ylabel('value')\n",
    "\n",
    "    ax3.plot(model_dict['clusters'],model_dict['homo'],'g-')\n",
    "    ax3.plot(model_dict['clusters'],model_dict['complete'],'g--')\n",
    "    ax3.legend(['homogeneity','completeness'],loc=7)\n",
    "    ax3.set_xlabel('n_clusters')\n",
    "    ax3.set_ylabel('value')\n",
    "\n",
    "    ax4.plot(model_dict['clusters'],model_dict['f1'],'k-')\n",
    "    ax4.legend(['f1 score (mode vote)'],loc=7)\n",
    "    ax4.set_xlabel('n_clusters')\n",
    "    ax4.set_ylabel('f1 score (mode vote)')\n",
    "    f.tight_layout() \n",
    "    plt.show()"
   ]
  },
  {
   "cell_type": "code",
   "execution_count": 3,
   "metadata": {},
   "outputs": [],
   "source": [
    "DATA_DIR = '/Users/PeterC/Documents/gt/practicum/autoencoders/data/'\n",
    "DATA_DIR = '/Users/chenpete/Documents/ESP/practicum/autoencoders/data/'"
   ]
  },
  {
   "cell_type": "code",
   "execution_count": 4,
   "metadata": {},
   "outputs": [],
   "source": [
    "df = pd.read_csv(DATA_DIR + 'paper_mill_rare_events.csv')\n",
    "df['time'] = pd.to_datetime(df['time'])"
   ]
  },
  {
   "cell_type": "markdown",
   "metadata": {},
   "source": [
    "## Lots of class imbalance (rare events)"
   ]
  },
  {
   "cell_type": "code",
   "execution_count": 5,
   "metadata": {},
   "outputs": [
    {
     "data": {
      "text/plain": [
       "0    18274\n",
       "1      124\n",
       "Name: y, dtype: int64"
      ]
     },
     "execution_count": 5,
     "metadata": {},
     "output_type": "execute_result"
    }
   ],
   "source": [
    "df['y'].value_counts()"
   ]
  },
  {
   "cell_type": "markdown",
   "metadata": {},
   "source": [
    "### Move Up Y label by increments"
   ]
  },
  {
   "cell_type": "code",
   "execution_count": 6,
   "metadata": {},
   "outputs": [],
   "source": [
    "early_step = 4\n",
    "df['y_early'] = 0\n",
    "df['y_rank'] = -1\n",
    "df['y_count'] = np.nan\n",
    "\n",
    "failure_count = 1\n",
    "for i in range(df.shape[0]):\n",
    "    if df.iloc[i]['y'] == 1:\n",
    "        df.loc[i-early_step:i,'y_early'] = 1\n",
    "        df.loc[i-early_step:i,'y_rank'] = np.arange(early_step,-1,-1)\n",
    "        df.loc[i-early_step:i,'y_count'] = failure_count\n",
    "        failure_count += 1"
   ]
  },
  {
   "cell_type": "code",
   "execution_count": 7,
   "metadata": {},
   "outputs": [
    {
     "data": {
      "text/plain": [
       "-1    17786\n",
       " 4      124\n",
       " 3      124\n",
       " 2      123\n",
       " 1      122\n",
       " 0      119\n",
       "Name: y_rank, dtype: int64"
      ]
     },
     "execution_count": 7,
     "metadata": {},
     "output_type": "execute_result"
    }
   ],
   "source": [
    "df['y_rank'].value_counts()"
   ]
  },
  {
   "cell_type": "markdown",
   "metadata": {},
   "source": [
    "## Scale datasets with standard scaler"
   ]
  },
  {
   "cell_type": "code",
   "execution_count": 8,
   "metadata": {},
   "outputs": [],
   "source": [
    "non_scale_cols = ['time','y_early','y_rank','y_count','y']\n",
    "param_cols = [\n",
    "        'x1', 'x2', 'x3', 'x4', 'x5', 'x6', 'x7', 'x8', 'x9',\n",
    "       'x10', 'x11', 'x12', 'x13', 'x14', 'x15', 'x16', 'x17', 'x18', 'x19',\n",
    "       'x20', 'x21', 'x22', 'x23', 'x24', 'x25', 'x26', 'x27', 'x28', 'x29',\n",
    "       'x30', 'x31', 'x32', 'x33', 'x34', 'x35', 'x36', 'x37', 'x38', 'x39',\n",
    "       'x40', 'x41', 'x42', 'x43', 'x44', 'x45', 'x46', 'x47', 'x48', 'x49',\n",
    "       'x50', 'x51', 'x52', 'x53', 'x54', 'x55', 'x56', 'x57', 'x58', 'x59',\n",
    "       'x60','x61'\n",
    "]\n",
    "\n",
    "sc = StandardScaler()\n",
    "df_scaled = pd.DataFrame(data = sc.fit_transform(df[param_cols]),columns=param_cols)\n",
    "df_scaled = pd.concat([df[non_scale_cols],df_scaled],axis=1)"
   ]
  },
  {
   "cell_type": "code",
   "execution_count": 9,
   "metadata": {},
   "outputs": [
    {
     "data": {
      "text/plain": [
       "-1    17786\n",
       " 4      124\n",
       " 3      124\n",
       " 2      123\n",
       " 1      122\n",
       " 0      119\n",
       "Name: y_rank, dtype: int64"
      ]
     },
     "execution_count": 9,
     "metadata": {},
     "output_type": "execute_result"
    }
   ],
   "source": [
    "df_scaled['y_rank'].value_counts()"
   ]
  },
  {
   "cell_type": "markdown",
   "metadata": {},
   "source": [
    "### Plot standard scaled"
   ]
  },
  {
   "cell_type": "markdown",
   "metadata": {},
   "source": [
    "%%capture\n",
    "for col in param_cols:\n",
    "    plt.figure(figsize=(15,5))\n",
    "    plt.plot(df_scaled[col])\n",
    "    for val in list(df_scaled[df_scaled['y']==1].index):\n",
    "        plt.axvline(val,color='red',linewidth=.2)\n",
    "    plt.xticks(rotation=45)\n",
    "    plt.title(col)\n",
    "    plt.savefig(DATA_DIR +'plots/std_scaled_{}.png'.format(col))"
   ]
  },
  {
   "cell_type": "code",
   "execution_count": 10,
   "metadata": {},
   "outputs": [],
   "source": [
    "X = df_scaled[param_cols]\n",
    "y = df_scaled['y_early']\n",
    "\n",
    "nonfailures_idx = df_scaled['y_rank'] == -1\n",
    "early1_idx = df_scaled['y_rank'] == 0\n",
    "early2_idx = df_scaled['y_rank'] == 1\n",
    "early3_idx = df_scaled['y_rank'] == 2\n",
    "early4_idx = df_scaled['y_rank'] == 3\n",
    "early4_idx = df_scaled['y_rank'] == 4"
   ]
  },
  {
   "cell_type": "code",
   "execution_count": 11,
   "metadata": {},
   "outputs": [],
   "source": [
    "X_nominal = df_scaled[df_scaled['y_early'] == 0][param_cols]\n",
    "X_event = df_scaled[df_scaled['y_early'] == 1][param_cols]\n",
    "\n",
    "\n",
    "y_nominal = df_scaled[df_scaled['y_early'] == 0]['y_early']\n",
    "y_event = df_scaled[df_scaled['y_early'] == 1]['y_early']\n",
    "\n",
    "y_rank_nominal = df_scaled[df_scaled['y_early'] == 0]['y_rank']\n",
    "y_rank_event = df_scaled[df_scaled['y_early'] == 1]['y_rank']\n",
    "\n",
    "y_count_nominal = df_scaled[df_scaled['y_count'].isna()]['y_count']\n",
    "y_count_event = df_scaled[df_scaled['y_count'] >= 1]['y_count']"
   ]
  },
  {
   "cell_type": "code",
   "execution_count": 15,
   "metadata": {},
   "outputs": [],
   "source": [
    "X_train, X_test, y_train, y_test,y_rank_train, y_rank_test,y_count_train, y_count_test = train_test_split(X_nominal, y_nominal, y_rank_nominal,y_count_nominal, test_size=0.1, random_state=0)"
   ]
  },
  {
   "cell_type": "code",
   "execution_count": 16,
   "metadata": {},
   "outputs": [],
   "source": [
    "X_test = X_test.append(X_event)\n",
    "y_test = y_test.append(y_event)\n",
    "y_rank_test = y_rank_test.append(y_rank_event)\n",
    "y_count_test = y_count_test.append(y_count_event)"
   ]
  },
  {
   "cell_type": "code",
   "execution_count": 19,
   "metadata": {},
   "outputs": [],
   "source": [
    "cluster_list = [2,4,6,8,10,12,14,16,18,20,22]\n",
    "cluster_dict,labels = fit_clusters(X_train,y_train,method = 'km',clusters = cluster_list)"
   ]
  },
  {
   "cell_type": "markdown",
   "metadata": {},
   "source": [
    "### Pre clustering - KM"
   ]
  },
  {
   "cell_type": "code",
   "execution_count": 20,
   "metadata": {},
   "outputs": [
    {
     "data": {
      "image/png": "[encoded data removed]",
      "text/plain": [
       "<Figure size 936x288 with 4 Axes>"
      ]
     },
     "metadata": {
      "needs_background": "light"
     },
     "output_type": "display_data"
    }
   ],
   "source": [
    "plot_clusters(cluster_dict,'k-means','paper mill')"
   ]
  },
  {
   "cell_type": "markdown",
   "metadata": {},
   "source": [
    "#### Best cluster seems like 5\n",
    "\n",
    "#### Training set"
   ]
  },
  {
   "cell_type": "code",
   "execution_count": 21,
   "metadata": {},
   "outputs": [
    {
     "name": "stdout",
     "output_type": "stream",
     "text": [
      "number of failures in cluster for cluster 0 is 0/173\n",
      "number of failures in cluster for cluster 1 is 0/3112\n",
      "number of failures in cluster for cluster 2 is 0/3372\n",
      "number of failures in cluster for cluster 3 is 0/3509\n",
      "number of failures in cluster for cluster 4 is 0/5841\n"
     ]
    }
   ],
   "source": [
    "n_cluster = 5\n",
    "model=KMeans(n_clusters=n_cluster,random_state=0)\n",
    "model.fit(X_train)\n",
    "labels_train = model.predict(X_train)\n",
    "distances_train = model.transform(X_train)\n",
    "max_distances = np.max(distances_train,axis=1)\n",
    "\n",
    "df_clusters = pd.DataFrame(data= {\n",
    "    'cluster':labels_train,\n",
    "    'y':y_train})\n",
    "\n",
    "for cluster in range(n_cluster):\n",
    "    n1 = np.sum((df_clusters['cluster']==cluster) & (df_clusters['y']==1))\n",
    "    total = np.sum((df_clusters['cluster']==cluster))\n",
    "    \n",
    "    print('number of failures in cluster for cluster {} is {}/{}'.format(cluster,n1,total))"
   ]
  },
  {
   "cell_type": "code",
   "execution_count": 23,
   "metadata": {},
   "outputs": [
    {
     "data": {
      "text/plain": [
       "33.071978534659436"
      ]
     },
     "execution_count": 23,
     "metadata": {},
     "output_type": "execute_result"
    }
   ],
   "source": [
    "threshold_nonfailures = np.mean(max_distances) + 3*np.std(max_distances)\n",
    "threshold_nonfailures "
   ]
  },
  {
   "cell_type": "markdown",
   "metadata": {},
   "source": [
    "#### Testing set"
   ]
  },
  {
   "cell_type": "code",
   "execution_count": 41,
   "metadata": {},
   "outputs": [],
   "source": [
    "early1_idx = y_rank_test == 0\n",
    "normal_idx = y_rank_test == -1"
   ]
  },
  {
   "cell_type": "code",
   "execution_count": 44,
   "metadata": {},
   "outputs": [
    {
     "name": "stdout",
     "output_type": "stream",
     "text": [
      "number of failures in cluster for cluster 0 is 0/19\n",
      "number of failures in cluster for cluster 1 is 37/382\n",
      "number of failures in cluster for cluster 2 is 13/380\n",
      "number of failures in cluster for cluster 3 is 20/397\n",
      "number of failures in cluster for cluster 4 is 49/720\n"
     ]
    }
   ],
   "source": [
    "X_test_early1 = X_test[early1_idx | normal_idx]\n",
    "y_test_early1 = y_test[early1_idx| normal_idx]\n",
    "\n",
    "labels_test = model.predict(X_test_early1)\n",
    "\n",
    "df_clusters = pd.DataFrame(data= {\n",
    "    'cluster':labels_test,\n",
    "    'y':y_test_early1})\n",
    "\n",
    "for cluster in range(n_cluster):\n",
    "    n1 = np.sum((df_clusters['cluster']==cluster) & (df_clusters['y']==1))\n",
    "    total = np.sum((df_clusters['cluster']==cluster))\n",
    "    \n",
    "    print('number of failures in cluster for cluster {} is {}/{}'.format(cluster,n1,total))"
   ]
  },
  {
   "cell_type": "code",
   "execution_count": 45,
   "metadata": {},
   "outputs": [],
   "source": [
    "distances_test = model.transform(X_test_early1)\n",
    "dist_max = np.max(distances_test,axis=1)"
   ]
  },
  {
   "cell_type": "code",
   "execution_count": 47,
   "metadata": {},
   "outputs": [],
   "source": [
    "df_distances = pd.DataFrame(\n",
    "data = {\n",
    "    'dist_max':dist_max,\n",
    "    'y':y_test_early1,\n",
    "    'yhat': np.where(dist_max>threshold_nonfailures,1,0)\n",
    "}\n",
    ")"
   ]
  },
  {
   "cell_type": "code",
   "execution_count": 56,
   "metadata": {},
   "outputs": [
    {
     "data": {
      "text/plain": [
       "<matplotlib.legend.Legend at 0x12f383588>"
      ]
     },
     "execution_count": 56,
     "metadata": {},
     "output_type": "execute_result"
    },
    {
     "data": {
      "image/png": "[encoded data removed]",
      "text/plain": [
       "<Figure size 432x288 with 1 Axes>"
      ]
     },
     "metadata": {
      "needs_background": "light"
     },
     "output_type": "display_data"
    }
   ],
   "source": [
    "plt.figure()\n",
    "sns.distplot(df_distances[df_distances['y']==0]['dist_max'],color='blue',kde=False,norm_hist=True)\n",
    "sns.distplot(df_distances[df_distances['y']==1]['dist_max'],color='red',kde=False,norm_hist=True)\n",
    "plt.title('furthest distance to cluster')\n",
    "plt.legend(['non failure','failures'])"
   ]
  },
  {
   "cell_type": "code",
   "execution_count": 49,
   "metadata": {},
   "outputs": [
    {
     "data": {
      "text/plain": [
       "0.25850340136054417"
      ]
     },
     "execution_count": 49,
     "metadata": {},
     "output_type": "execute_result"
    }
   ],
   "source": [
    "f1_score(df_distances['y'],df_distances['yhat'])"
   ]
  },
  {
   "cell_type": "code",
   "execution_count": 50,
   "metadata": {},
   "outputs": [
    {
     "data": {
      "text/plain": [
       "0.6785714285714286"
      ]
     },
     "execution_count": 50,
     "metadata": {},
     "output_type": "execute_result"
    }
   ],
   "source": [
    "precision_score(df_distances['y'],df_distances['yhat'])"
   ]
  },
  {
   "cell_type": "code",
   "execution_count": 51,
   "metadata": {},
   "outputs": [
    {
     "data": {
      "text/plain": [
       "0.15966386554621848"
      ]
     },
     "execution_count": 51,
     "metadata": {},
     "output_type": "execute_result"
    }
   ],
   "source": [
    "recall_score(df_distances['y'],df_distances['yhat'])"
   ]
  },
  {
   "cell_type": "code",
   "execution_count": 52,
   "metadata": {},
   "outputs": [],
   "source": [
    "tpr,fpr,_=roc_curve(df_distances['y'],df_distances['yhat'])"
   ]
  },
  {
   "cell_type": "code",
   "execution_count": 53,
   "metadata": {},
   "outputs": [
    {
     "data": {
      "text/plain": [
       "0.5773024218118951"
      ]
     },
     "execution_count": 53,
     "metadata": {},
     "output_type": "execute_result"
    }
   ],
   "source": [
    "auc(tpr,fpr)"
   ]
  },
  {
   "cell_type": "code",
   "execution_count": null,
   "metadata": {},
   "outputs": [],
   "source": []
  }
 ],
 "metadata": {
  "kernelspec": {
   "display_name": "dlenv",
   "language": "python",
   "name": "dlenv"
  },
  "language_info": {
   "codemirror_mode": {
    "name": "ipython",
    "version": 3
   },
   "file_extension": ".py",
   "mimetype": "text/x-python",
   "name": "python",
   "nbconvert_exporter": "python",
   "pygments_lexer": "ipython3",
   "version": "3.7.3"
  }
 },
 "nbformat": 4,
 "nbformat_minor": 2
}
